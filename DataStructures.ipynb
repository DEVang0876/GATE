{
 "cells": [
  {
   "cell_type": "markdown",
   "id": "0deecc02",
   "metadata": {},
   "source": [
    "<h1><b><u><i>DATA STRUCTURES"
   ]
  },
  {
   "cell_type": "markdown",
   "id": "f830b997",
   "metadata": {},
   "source": [
    "<h1>LINKED LIST"
   ]
  },
  {
   "cell_type": "markdown",
   "id": "44ef9e2a",
   "metadata": {},
   "source": [
    "<h3>Singly Linked List"
   ]
  },
  {
   "cell_type": "code",
   "execution_count": 22,
   "id": "7e576bc0",
   "metadata": {},
   "outputs": [
    {
     "name": "stdout",
     "output_type": "stream",
     "text": [
      "1\n",
      "1\n",
      "2\n",
      "3\n",
      "3\n"
     ]
    }
   ],
   "source": [
    "class Node:\n",
    "    def __init__(self,data):\n",
    "        self.data=data\n",
    "        self.next=None\n",
    "\n",
    "n1=Node(1)\n",
    "n2=Node(2)\n",
    "n3=Node(3)\n",
    "n1.next=n2\n",
    "n2.next=n3\n",
    "head=n1\n",
    "print(head.data)\n",
    "print(n1.data)\n",
    "print(n1.next.data)\n",
    "print(n2.next.data)\n",
    "print(n1.next.next.data)"
   ]
  },
  {
   "cell_type": "code",
   "execution_count": null,
   "id": "57d6cfe4",
   "metadata": {},
   "outputs": [
    {
     "name": "stdout",
     "output_type": "stream",
     "text": [
      "3\n"
     ]
    }
   ],
   "source": [
    "class Node:\n",
    "    def __init__(self,data,next=None):\n",
    "        self.data=data\n",
    "        self.next=next\n",
    "\n",
    "n1=Node(1,n2)\n",
    "n2=Node(2,n3)\n",
    "n3=Node(3)"
   ]
  },
  {
   "cell_type": "code",
   "execution_count": 12,
   "id": "d9240499",
   "metadata": {},
   "outputs": [
    {
     "name": "stdout",
     "output_type": "stream",
     "text": [
      "10 -> 20 -> 30 -> None\n"
     ]
    }
   ],
   "source": [
    "class Node:\n",
    "    def __init__(self, data):\n",
    "        self.data = data\n",
    "        self.next = None\n",
    "class LinkedList:\n",
    "    def __init__(self):\n",
    "        self.head = None\n",
    "\n",
    "    def append(self, data):\n",
    "        new_node = Node(data)\n",
    "        if not self.head:  # if list is empty\n",
    "            self.head = new_node\n",
    "            return\n",
    "        current = self.head\n",
    "        while current.next:\n",
    "            current = current.next\n",
    "        current.next = new_node\n",
    "\n",
    "    def display(self):\n",
    "        current = self.head\n",
    "        while current:\n",
    "            print(current.data, end=\" -> \")\n",
    "            current = current.next\n",
    "        print(\"None\")\n",
    "ll = LinkedList()\n",
    "ll.append(10)\n",
    "ll.append(20)\n",
    "ll.append(30)\n",
    "\n",
    "ll.display()\n",
    "# Output: 10 -> 20 -> 30 -> None\n"
   ]
  },
  {
   "cell_type": "code",
   "execution_count": 4,
   "id": "cfaf3d25",
   "metadata": {},
   "outputs": [
    {
     "name": "stdout",
     "output_type": "stream",
     "text": [
      "1 -> 2 -> A -> B -> [1, 2, 3, 4] -> None\n"
     ]
    }
   ],
   "source": [
    "#traverse a linked list\n",
    "class Node:\n",
    "    def __init__(self, data):\n",
    "        self.data = data\n",
    "        self.next = None\n",
    "class LinkedList:\n",
    "    def __init__(self):\n",
    "        self.head = None\n",
    "    def display(self):\n",
    "        curr=self.head\n",
    "        if(curr==None):\n",
    "            return None\n",
    "        while(curr):\n",
    "            print(curr.data,'->',end=' ')\n",
    "            curr=curr.next\n",
    "        print('None')\n",
    "ll=LinkedList()\n",
    "n1=Node(1)\n",
    "n2=Node(2)\n",
    "n3=Node(\"A\")\n",
    "n4=Node(\"B\")\n",
    "n5=Node([1,2,3,4])\n",
    "ll.head=n1 \n",
    "n1.next=n2\n",
    "n2.next=n3\n",
    "n3.next=n4\n",
    "n4.next=n5\n",
    "ll.display()        "
   ]
  },
  {
   "cell_type": "code",
   "execution_count": null,
   "id": "af686605",
   "metadata": {},
   "outputs": [
    {
     "name": "stdout",
     "output_type": "stream",
     "text": [
      "H -> e -> l -> l -> 0 -> None\n"
     ]
    }
   ],
   "source": [
    "#convert a whole itebale --> LinkedlIst\n",
    "class Node:\n",
    "    def __init__(self, data):\n",
    "        self.data = data\n",
    "        self.next = None\n",
    "class LinkedList:\n",
    "    def __init__(self):\n",
    "        self.head = None\n",
    "\n",
    "    def display(self):\n",
    "        current = self.head\n",
    "        while current:\n",
    "            print(current.data, end=\" -> \")\n",
    "            current = current.next\n",
    "        print(\"None\")\n",
    "    def fromiterables(self, iterable):\n",
    "        for each in iterable:\n",
    "            new_node=Node(each)\n",
    "            curr=self.head\n",
    "            if(curr==None):\n",
    "                self.head=new_node\n",
    "            else:\n",
    "                curr=self.head\n",
    "                while(curr.next):\n",
    "                    curr=curr.next\n",
    "                curr.next=new_node\n",
    "ll=LinkedList()\n",
    "ll.fromiterables(\"Hell0\")\n",
    "ll.display()\n"
   ]
  },
  {
   "cell_type": "code",
   "execution_count": null,
   "id": "8992255b",
   "metadata": {},
   "outputs": [
    {
     "name": "stdout",
     "output_type": "stream",
     "text": [
      "1 -> 2 -> A -> B -> [1, 2, 3, 4] -> None\n"
     ]
    },
    {
     "data": {
      "text/plain": [
       "False"
      ]
     },
     "execution_count": 9,
     "metadata": {},
     "output_type": "execute_result"
    }
   ],
   "source": [
    "#search in a linkedlist\n",
    "class Node:\n",
    "    def __init__(self, data):\n",
    "        self.data = data\n",
    "        self.next = None\n",
    "class LinkedList:\n",
    "    def __init__(self):\n",
    "        self.head = None\n",
    "    def display(self):\n",
    "        curr=self.head\n",
    "        if(curr==None):\n",
    "            return None\n",
    "        while(curr):\n",
    "            print(curr.data,'->',end=' ')\n",
    "            curr=curr.next\n",
    "        print('None')\n",
    "    def search(self,key):\n",
    "        curr=self.head\n",
    "        if(curr==None):\n",
    "            return False\n",
    "        while(curr):\n",
    "            if(curr.data==key):\n",
    "                return True\n",
    "            curr=curr.next\n",
    "        return False\n",
    "ll=LinkedList()\n",
    "ll2=LinkedList()\n",
    "n1=Node(1)\n",
    "n2=Node(2)\n",
    "n3=Node(\"A\")\n",
    "n4=Node(\"B\")\n",
    "n5=Node([1,2,3,4])\n",
    "ll.head=n1 \n",
    "n1.next=n2\n",
    "n2.next=n3\n",
    "n3.next=n4\n",
    "n4.next=n5\n",
    "\n",
    "ll.display()  \n",
    "ll2.display()\n",
    "ll2.search(22)"
   ]
  },
  {
   "cell_type": "code",
   "execution_count": null,
   "id": "9a0c1e09",
   "metadata": {},
   "outputs": [
    {
     "name": "stdout",
     "output_type": "stream",
     "text": [
      "[1, 2, 3, 4]\n"
     ]
    }
   ],
   "source": [
    "#display last node data\n",
    "class Node:\n",
    "    def __init__(self, data):\n",
    "        self.data = data\n",
    "        self.next = None\n",
    "class LinkedList:\n",
    "    def __init__(self):\n",
    "        self.head = None\n",
    "    def display_last_node_data(self):\n",
    "        curr=self.head\n",
    "        if(curr==None):\n",
    "            return None\n",
    "        while(curr.next):\n",
    "            curr=curr.next\n",
    "        print(curr.data)\n",
    "ll=LinkedList()\n",
    "n1=Node(1)\n",
    "n2=Node(2)\n",
    "n3=Node(\"A\")\n",
    "n4=Node(\"B\")\n",
    "n5=Node([1,2,3,4])\n",
    "ll.head=n1 \n",
    "n1.next=n2\n",
    "n2.next=n3\n",
    "n3.next=n4\n",
    "n4.next=n5\n",
    "ll.display_last_node_data()  "
   ]
  },
  {
   "cell_type": "code",
   "execution_count": null,
   "id": "d0cd4677",
   "metadata": {},
   "outputs": [
    {
     "name": "stdout",
     "output_type": "stream",
     "text": [
      "5\n"
     ]
    },
    {
     "data": {
      "text/plain": [
       "0"
      ]
     },
     "execution_count": 21,
     "metadata": {},
     "output_type": "execute_result"
    }
   ],
   "source": [
    "#search in a linkedlist\n",
    "class Node:\n",
    "    def __init__(self, data):\n",
    "        self.data = data\n",
    "        self.next = None\n",
    "class LinkedList:\n",
    "    def __init__(self):\n",
    "        self.head = None\n",
    "    def length_of_linkedlist(self):\n",
    "        count=0\n",
    "        curr=self.head\n",
    "        if(curr==None):\n",
    "            return 0\n",
    "        while(curr):\n",
    "            curr=curr.next\n",
    "            count+=1\n",
    "        return count\n",
    "ll=LinkedList()\n",
    "ll2=LinkedList()\n",
    "n1=Node(1)\n",
    "n2=Node(2)\n",
    "n3=Node(\"A\")\n",
    "n4=Node(\"B\")\n",
    "n5=Node([1,2,3,4])\n",
    "next=n3\n",
    "n3.next=n4\n",
    "n4.next=n5\n",
    "\n",
    "print(ll.length_of_linkedlist())\n",
    "ll2.length_of_linkedlist()"
   ]
  },
  {
   "cell_type": "code",
   "execution_count": null,
   "id": "fd1b8138",
   "metadata": {},
   "outputs": [
    {
     "ename": "AttributeError",
     "evalue": "'LinkedList' object has no attribute 'insert_end'",
     "output_type": "error",
     "traceback": [
      "\u001b[0;31m---------------------------------------------------------------------------\u001b[0m",
      "\u001b[0;31mAttributeError\u001b[0m                            Traceback (most recent call last)",
      "Cell \u001b[0;32mIn[21], line 42\u001b[0m\n\u001b[1;32m     36\u001b[0m         curr\u001b[38;5;241m.\u001b[39mnext \u001b[38;5;241m=\u001b[39m node\n\u001b[1;32m     41\u001b[0m ll\u001b[38;5;241m=\u001b[39mLinkedList()\n\u001b[0;32m---> 42\u001b[0m \u001b[43mll\u001b[49m\u001b[38;5;241;43m.\u001b[39;49m\u001b[43minsert_end\u001b[49m(\u001b[38;5;241m1\u001b[39m)\n\u001b[1;32m     43\u001b[0m ll\u001b[38;5;241m.\u001b[39mdisplay()\n\u001b[1;32m     44\u001b[0m ll\u001b[38;5;241m.\u001b[39minsert_end(\u001b[38;5;241m2\u001b[39m)\n",
      "\u001b[0;31mAttributeError\u001b[0m: 'LinkedList' object has no attribute 'insert_end'"
     ]
    }
   ],
   "source": [
    "#insert at begin, insert at end, insert any position\n",
    "class Node:\n",
    "    def __init__(self, data):\n",
    "        self.data = data\n",
    "        self.next = None\n",
    "class LinkedList:\n",
    "    def __init__(self):\n",
    "        self.head = None\n",
    "    def display(self):\n",
    "        curr=self.head\n",
    "        if(curr==None):\n",
    "            return None\n",
    "        while(curr):\n",
    "            print(curr.data,'->',end=' ')\n",
    "            curr=curr.next\n",
    "        print('None')\n",
    "    def insert_front(self,data):\n",
    "        node=Node(data)\n",
    "        if(self.head==None):\n",
    "            self.head=node\n",
    "        else:\n",
    "            node.next = self.head\n",
    "            self.head = node\n",
    "    def insert_end(self, data):\n",
    "        node = Node(data)\n",
    "        if self.head is None:\n",
    "            self.head = node\n",
    "            return\n",
    "        curr = self.head\n",
    "        while curr.next:\n",
    "            curr = curr.next\n",
    "        curr.next = node\n",
    "    def insert_position(self, position, data):\n",
    "        node = Node(data)\n",
    "        if position == 0 or self.head is None:\n",
    "            # Insert at the beginning if position is 0 or list is empty\n",
    "            node.next = self.head\n",
    "            self.head = node\n",
    "            return\n",
    "        curr = self.head\n",
    "        for i in range(position - 1):\n",
    "            if curr.next is None:\n",
    "                break\n",
    "            curr = curr.next\n",
    "        node.next = curr.next\n",
    "        curr.next = node\n",
    "\n",
    "\n",
    "\n",
    "ll=LinkedList()\n",
    "ll.insert_end(1)\n",
    "ll.display()\n",
    "ll.insert_end(2)\n",
    "ll.display()\n",
    "ll.insert_front(7)\n",
    "ll.display()\n",
    "print()       \n",
    "ll2=LinkedList()\n",
    "ll.insert_front(0)\n",
    "ll.display()\n",
    "ll.insert_front(1)\n",
    "ll.insert_front(11)\n",
    "ll.display()\n",
    "ll.insert_end(99)\n",
    "ll.display()\n",
    "\n",
    "ll.insert_position(0,'Paneer')\n",
    "ll.display()\n",
    "    "
   ]
  },
  {
   "cell_type": "code",
   "execution_count": null,
   "id": "fd6669e6",
   "metadata": {},
   "outputs": [],
   "source": [
    "#delete elements"
   ]
  },
  {
   "cell_type": "code",
   "execution_count": 21,
   "id": "224ee782",
   "metadata": {},
   "outputs": [
    {
     "name": "stdout",
     "output_type": "stream",
     "text": [
      "EmptyListError: No any nodes in list\n",
      "1->2->[1, 2, 3]->None\n",
      "OK->1->2->[1, 2, 3]->Hello->None\n",
      "OK->1->2->PQRSTUV->[1, 2, 3]->Hello->None\n",
      "\n",
      " <class '__main__.EmptyListError'>\n",
      "\n",
      "_____ Iterable-> Linked List_______\n",
      "\n",
      "0->1->2->3->4->None\n",
      "1->2->3->None\n",
      "1->2->3->None\n",
      "\n",
      "_____ Extend LinkedList with iterables_______\n",
      "\n",
      "0->1->2->3->4->None\n",
      "0->1->2->3->4->11->22->33->44->None\n",
      "0->1->2->3->4->11->22->33->44->I->N->D->I->A->None\n"
     ]
    }
   ],
   "source": [
    "#INSERT IN O(N) 🕰️TIME  🔥🔥🚨🚨\n",
    "class Node:\n",
    "    def __init__(self,data=None):\n",
    "        self.data=data\n",
    "        self.next=None\n",
    "\n",
    "class EmptyListError(Exception):\n",
    "    print('EmptyListError: No any nodes in list')\n",
    "\n",
    "class LinkedList:\n",
    "    def __init__(self, head=None, tail=None):\n",
    "        self.head = None\n",
    "        self.tail = None\n",
    "        self.length = 0\n",
    "    def display(self):\n",
    "        curr=self.head\n",
    "        if (curr==None):\n",
    "            raise (EmptyListError)\n",
    "        while(curr):\n",
    "            print(curr.data,'->',end='',sep='')\n",
    "            curr=curr.next\n",
    "        print('None')\n",
    "\n",
    "    #simple insertion function\n",
    "    def insert(self, data):\n",
    "        node = Node(data)\n",
    "        if self.head is None:\n",
    "            self.head = node\n",
    "            self.tail = node\n",
    "        else:\n",
    "            self.tail.next = node\n",
    "            self.tail = self.tail.next\n",
    "        self.length += 1\n",
    "    \n",
    "    def insert(self, data, position=None):\n",
    "        node = Node(data)\n",
    "        if position is None:\n",
    "            # Insert at end\n",
    "            if self.head is None:\n",
    "                self.head = node\n",
    "                self.tail = node\n",
    "            else:\n",
    "                self.tail.next = node\n",
    "                self.tail = self.tail.next\n",
    "            self.length += 1\n",
    "        elif position == 0:\n",
    "            #insert at beginining\n",
    "            node.next = self.head\n",
    "            self.head = node\n",
    "            if self.tail is None:\n",
    "                self.tail = node\n",
    "            self.length += 1\n",
    "        elif position < self.length:\n",
    "            curr = self.head\n",
    "            for i in range(position - 1):\n",
    "                curr = curr.next\n",
    "            node.next = curr.next\n",
    "            curr.next = node\n",
    "            self.length += 1\n",
    "        else:\n",
    "            # Insert at end if position >= length\n",
    "            if self.head is None:\n",
    "                self.head = node\n",
    "                self.tail = node\n",
    "            else:\n",
    "                self.tail.next = node\n",
    "                self.tail = self.tail.next\n",
    "            self.length += 1\n",
    "            \n",
    "    def fromiterable(self, iterable):\n",
    "        for each in iterable:\n",
    "            self.insert(each)\n",
    "\n",
    "            \n",
    "ll=LinkedList()\n",
    "ll.insert(1)\n",
    "ll.insert(2)\n",
    "ll.insert([1,2,3])\n",
    "ll.display()\n",
    "ll.insert('Hello',90)#positions\n",
    "ll.insert('OK',0)\n",
    "ll.display()\n",
    "ll.insert('PQRSTUV',3)\n",
    "ll.display()\n",
    "\n",
    "#custom error and handle it \n",
    "llx=LinkedList()\n",
    "try:\n",
    "    llx.display()\n",
    "except EmptyListError:\n",
    "    print('\\n',EmptyListError)\n",
    "\n",
    "#Iterable\n",
    "print(\"\\n_____ Iterable-> Linked List_______\\n\")\n",
    "\n",
    "l=[100,200,300]\n",
    "t=(1,2,3)\n",
    "s={1,2,2,3}\n",
    "\n",
    "ll2=LinkedList()\n",
    "ll2.fromiterable(range(5))\n",
    "ll2.display()\n",
    "ll3=LinkedList()\n",
    "ll3.fromiterable(t)\n",
    "ll3.display()\n",
    "ll4=LinkedList()\n",
    "ll4.fromiterable(s)\n",
    "ll4.display()\n",
    "\n",
    "#Extend Linked-list with iterables\n",
    "print(\"\\n_____ Extend LinkedList with iterables_______\\n\")\n",
    "ll2.display()\n",
    "ll2.fromiterable([11,22,33,44])\n",
    "ll2.display()\n",
    "ll2.fromiterable(\"INDIA\")\n",
    "ll2.display()"
   ]
  },
  {
   "cell_type": "markdown",
   "id": "8967d44a",
   "metadata": {},
   "source": [
    "<h3>Doubly LinkedList"
   ]
  },
  {
   "cell_type": "code",
   "execution_count": 5,
   "id": "9520dfa5",
   "metadata": {},
   "outputs": [
    {
     "name": "stdout",
     "output_type": "stream",
     "text": [
      "1\n",
      "2\n",
      "None\n",
      "2\n",
      "None\n"
     ]
    }
   ],
   "source": [
    "#doubly Linkedlist\n",
    "class Node:\n",
    "    def __init__ (self,data):\n",
    "        self.data=data\n",
    "        self.next=None\n",
    "        self.prev=None\n",
    "class DoublyLinkedList:\n",
    "    def __init__(self):\n",
    "        self.head=None\n",
    "\n",
    "head1=DoublyLinkedList()\n",
    "n1=Node(1)\n",
    "n2=Node(2)\n",
    "n3=Node(3)\n",
    "n1.next=n2\n",
    "n2.next=n3\n",
    "n2.prev=n1\n",
    "n3.prev=n2\n",
    "print(n1.data)\n",
    "print(n1.next.data)\n",
    "print(n3.next)\n",
    "print(n3.prev.data)\n",
    "print(n1.prev)"
   ]
  },
  {
   "cell_type": "code",
   "execution_count": null,
   "id": "f2b22690",
   "metadata": {},
   "outputs": [],
   "source": []
  }
 ],
 "metadata": {
  "kernelspec": {
   "display_name": "Python 3",
   "language": "python",
   "name": "python3"
  },
  "language_info": {
   "codemirror_mode": {
    "name": "ipython",
    "version": 3
   },
   "file_extension": ".py",
   "mimetype": "text/x-python",
   "name": "python",
   "nbconvert_exporter": "python",
   "pygments_lexer": "ipython3",
   "version": "3.9.6"
  }
 },
 "nbformat": 4,
 "nbformat_minor": 5
}
