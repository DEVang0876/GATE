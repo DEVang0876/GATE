{
 "cells": [
  {
   "cell_type": "markdown",
   "id": "0deecc02",
   "metadata": {},
   "source": [
    "<h1><b><u><i>DATA STRUCTURES"
   ]
  },
  {
   "cell_type": "markdown",
   "id": "f830b997",
   "metadata": {},
   "source": [
    "<h1>LINKED LIST"
   ]
  },
  {
   "cell_type": "code",
   "execution_count": 10,
   "id": "7e576bc0",
   "metadata": {},
   "outputs": [
    {
     "name": "stdout",
     "output_type": "stream",
     "text": [
      "1\n",
      "3\n",
      "3\n"
     ]
    }
   ],
   "source": [
    "class Node:\n",
    "    def __init__(self,data):\n",
    "        self.data=data\n",
    "        self.next=None\n",
    "\n",
    "n1=Node(1)\n",
    "n2=Node(2)\n",
    "n3=Node(3)\n",
    "n1.next=n2\n",
    "n2.next=n3\n",
    "print(n1.data)\n",
    "print(n2.next.data)\n",
    "print(n1.next.next.data)"
   ]
  },
  {
   "cell_type": "code",
   "execution_count": null,
   "id": "57d6cfe4",
   "metadata": {},
   "outputs": [
    {
     "name": "stdout",
     "output_type": "stream",
     "text": [
      "3\n"
     ]
    }
   ],
   "source": [
    "class Node:\n",
    "    def __init__(self,data,next=None):\n",
    "        self.data=data\n",
    "        self.next=next\n",
    "\n",
    "n1=Node(1,n2)\n",
    "n2=Node(2,n3)\n",
    "n3=Node(3)"
   ]
  },
  {
   "cell_type": "code",
   "execution_count": null,
   "id": "d9240499",
   "metadata": {},
   "outputs": [],
   "source": [
    "class Node:\n",
    "    def __init__(self, data):\n",
    "        self.data = data\n",
    "        self.next = None\n",
    "class LinkedList:\n",
    "    def __init__(self):\n",
    "        self.head = None\n",
    "\n",
    "    def append(self, data):\n",
    "        new_node = Node(data)\n",
    "        if not self.head:  # if list is empty\n",
    "            self.head = new_node\n",
    "            return\n",
    "        current = self.head\n",
    "        while current.next:\n",
    "            current = current.next\n",
    "        current.next = new_node\n",
    "\n",
    "    def display(self):\n",
    "        current = self.head\n",
    "        while current:\n",
    "            print(current.data, end=\" -> \")\n",
    "            current = current.next\n",
    "        print(\"None\")\n",
    "ll = LinkedList()\n",
    "ll.append(10)\n",
    "ll.append(20)\n",
    "ll.append(30)\n",
    "\n",
    "ll.display()\n",
    "# Output: 10 -> 20 -> 30 -> None\n"
   ]
  },
  {
   "cell_type": "markdown",
   "id": "8967d44a",
   "metadata": {},
   "source": [
    "<h3>Doubly LinkedList"
   ]
  },
  {
   "cell_type": "code",
   "execution_count": 5,
   "id": "9520dfa5",
   "metadata": {},
   "outputs": [
    {
     "name": "stdout",
     "output_type": "stream",
     "text": [
      "1\n",
      "2\n",
      "None\n",
      "2\n",
      "None\n"
     ]
    }
   ],
   "source": [
    "#doubly Linkedlist\n",
    "class Node:\n",
    "    def __init__ (self,data):\n",
    "        self.data=data\n",
    "        self.next=None\n",
    "        self.prev=None\n",
    "class DoublyLinkedList:\n",
    "    def __init__(self):\n",
    "        self.head=None\n",
    "\n",
    "head1=DoublyLinkedList()\n",
    "n1=Node(1)\n",
    "n2=Node(2)\n",
    "n3=Node(3)\n",
    "n1.next=n2\n",
    "n2.next=n3\n",
    "n2.prev=n1\n",
    "n3.prev=n2\n",
    "print(n1.data)\n",
    "print(n1.next.data)\n",
    "print(n3.next)\n",
    "print(n3.prev.data)\n",
    "print(n1.prev)"
   ]
  },
  {
   "cell_type": "code",
   "execution_count": null,
   "id": "f2b22690",
   "metadata": {},
   "outputs": [],
   "source": []
  }
 ],
 "metadata": {
  "kernelspec": {
   "display_name": "Python 3",
   "language": "python",
   "name": "python3"
  },
  "language_info": {
   "codemirror_mode": {
    "name": "ipython",
    "version": 3
   },
   "file_extension": ".py",
   "mimetype": "text/x-python",
   "name": "python",
   "nbconvert_exporter": "python",
   "pygments_lexer": "ipython3",
   "version": "3.9.6"
  }
 },
 "nbformat": 4,
 "nbformat_minor": 5
}
