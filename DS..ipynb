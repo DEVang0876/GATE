{
 "cells": [
  {
   "cell_type": "markdown",
   "id": "0deecc02",
   "metadata": {},
   "source": [
    "<h1><b><u><i>DATA STRUCTURES"
   ]
  },
  {
   "cell_type": "markdown",
   "id": "f830b997",
   "metadata": {},
   "source": [
    "<h1>LINKED LIST"
   ]
  },
  {
   "cell_type": "code",
   "execution_count": null,
   "id": "d9240499",
   "metadata": {},
   "outputs": [],
   "source": [
    "class Node:\n",
    "    def __init__(self, data):\n",
    "        self.data = data\n",
    "        self.next = None\n",
    "class LinkedList:\n",
    "    def __init__(self):\n",
    "        self.head = None\n",
    "\n",
    "    def append(self, data):\n",
    "        new_node = Node(data)\n",
    "        if not self.head:  # if list is empty\n",
    "            self.head = new_node\n",
    "            return\n",
    "        current = self.head\n",
    "        while current.next:\n",
    "            current = current.next\n",
    "        current.next = new_node\n",
    "\n",
    "    def display(self):\n",
    "        current = self.head\n",
    "        while current:\n",
    "            print(current.data, end=\" -> \")\n",
    "            current = current.next\n",
    "        print(\"None\")\n",
    "ll = LinkedList()\n",
    "ll.append(10)\n",
    "ll.append(20)\n",
    "ll.append(30)\n",
    "\n",
    "ll.display()\n",
    "# Output: 10 -> 20 -> 30 -> None\n"
   ]
  }
 ],
 "metadata": {
  "language_info": {
   "name": "python"
  }
 },
 "nbformat": 4,
 "nbformat_minor": 5
}
