{
 "cells": [
  {
   "cell_type": "markdown",
   "id": "0deecc02",
   "metadata": {},
   "source": [
    "<h1><b><u><i>DATA STRUCTURES"
   ]
  },
  {
   "cell_type": "markdown",
   "id": "f830b997",
   "metadata": {},
   "source": [
    "<h1>LINKED LIST"
   ]
  },
  {
   "cell_type": "markdown",
   "id": "44ef9e2a",
   "metadata": {},
   "source": [
    "<h3>Singly Linked List"
   ]
  },
  {
   "cell_type": "code",
   "execution_count": 22,
   "id": "7e576bc0",
   "metadata": {},
   "outputs": [
    {
     "name": "stdout",
     "output_type": "stream",
     "text": [
      "1\n",
      "1\n",
      "2\n",
      "3\n",
      "3\n"
     ]
    }
   ],
   "source": [
    "class Node:\n",
    "    def __init__(self,data):\n",
    "        self.data=data\n",
    "        self.next=None\n",
    "\n",
    "n1=Node(1)\n",
    "n2=Node(2)\n",
    "n3=Node(3)\n",
    "n1.next=n2\n",
    "n2.next=n3\n",
    "head=n1\n",
    "print(head.data)\n",
    "print(n1.data)\n",
    "print(n1.next.data)\n",
    "print(n2.next.data)\n",
    "print(n1.next.next.data)"
   ]
  },
  {
   "cell_type": "code",
   "execution_count": null,
   "id": "57d6cfe4",
   "metadata": {},
   "outputs": [
    {
     "name": "stdout",
     "output_type": "stream",
     "text": [
      "3\n"
     ]
    }
   ],
   "source": [
    "class Node:\n",
    "    def __init__(self,data,next=None):\n",
    "        self.data=data\n",
    "        self.next=next\n",
    "\n",
    "n1=Node(1,n2)\n",
    "n2=Node(2,n3)\n",
    "n3=Node(3)"
   ]
  },
  {
   "cell_type": "code",
   "execution_count": 12,
   "id": "d9240499",
   "metadata": {},
   "outputs": [
    {
     "name": "stdout",
     "output_type": "stream",
     "text": [
      "10 -> 20 -> 30 -> None\n"
     ]
    }
   ],
   "source": [
    "class Node:\n",
    "    def __init__(self, data):\n",
    "        self.data = data\n",
    "        self.next = None\n",
    "class LinkedList:\n",
    "    def __init__(self):\n",
    "        self.head = None\n",
    "\n",
    "    def append(self, data):\n",
    "        new_node = Node(data)\n",
    "        if not self.head:  # if list is empty\n",
    "            self.head = new_node\n",
    "            return\n",
    "        current = self.head\n",
    "        while current.next:\n",
    "            current = current.next\n",
    "        current.next = new_node\n",
    "\n",
    "    def display(self):\n",
    "        current = self.head\n",
    "        while current:\n",
    "            print(current.data, end=\" -> \")\n",
    "            current = current.next\n",
    "        print(\"None\")\n",
    "ll = LinkedList()\n",
    "ll.append(10)\n",
    "ll.append(20)\n",
    "ll.append(30)\n",
    "\n",
    "ll.display()\n",
    "# Output: 10 -> 20 -> 30 -> None\n"
   ]
  },
  {
   "cell_type": "code",
   "execution_count": 4,
   "id": "cfaf3d25",
   "metadata": {},
   "outputs": [
    {
     "name": "stdout",
     "output_type": "stream",
     "text": [
      "1 -> 2 -> A -> B -> [1, 2, 3, 4] -> None\n"
     ]
    }
   ],
   "source": [
    "#traverse a linked list\n",
    "class Node:\n",
    "    def __init__(self, data):\n",
    "        self.data = data\n",
    "        self.next = None\n",
    "class LinkedList:\n",
    "    def __init__(self):\n",
    "        self.head = None\n",
    "    def display(self):\n",
    "        curr=self.head\n",
    "        if(curr==None):\n",
    "            return None\n",
    "        while(curr):\n",
    "            print(curr.data,'->',end=' ')\n",
    "            curr=curr.next\n",
    "        print('None')\n",
    "ll=LinkedList()\n",
    "n1=Node(1)\n",
    "n2=Node(2)\n",
    "n3=Node(\"A\")\n",
    "n4=Node(\"B\")\n",
    "n5=Node([1,2,3,4])\n",
    "ll.head=n1 \n",
    "n1.next=n2\n",
    "n2.next=n3\n",
    "n3.next=n4\n",
    "n4.next=n5\n",
    "ll.display()        "
   ]
  },
  {
   "cell_type": "code",
   "execution_count": null,
   "id": "8992255b",
   "metadata": {},
   "outputs": [
    {
     "name": "stdout",
     "output_type": "stream",
     "text": [
      "1 -> 2 -> A -> B -> [1, 2, 3, 4] -> None\n"
     ]
    },
    {
     "data": {
      "text/plain": [
       "False"
      ]
     },
     "execution_count": 9,
     "metadata": {},
     "output_type": "execute_result"
    }
   ],
   "source": [
    "#search in a linkedlist\n",
    "class Node:\n",
    "    def __init__(self, data):\n",
    "        self.data = data\n",
    "        self.next = None\n",
    "class LinkedList:\n",
    "    def __init__(self):\n",
    "        self.head = None\n",
    "    def display(self):\n",
    "        curr=self.head\n",
    "        if(curr==None):\n",
    "            return None\n",
    "        while(curr):\n",
    "            print(curr.data,'->',end=' ')\n",
    "            curr=curr.next\n",
    "        print('None')\n",
    "    def search(self,key):\n",
    "        curr=self.head\n",
    "        if(curr==None):\n",
    "            return False\n",
    "        while(curr):\n",
    "            if(curr.data==key):\n",
    "                return True\n",
    "            curr=curr.next\n",
    "        return False\n",
    "ll=LinkedList()\n",
    "ll2=LinkedList()\n",
    "n1=Node(1)\n",
    "n2=Node(2)\n",
    "n3=Node(\"A\")\n",
    "n4=Node(\"B\")\n",
    "n5=Node([1,2,3,4])\n",
    "ll.head=n1 \n",
    "n1.next=n2\n",
    "n2.next=n3\n",
    "n3.next=n4\n",
    "n4.next=n5\n",
    "\n",
    "ll.display()  \n",
    "ll2.display()\n",
    "ll2.search(22)"
   ]
  },
  {
   "cell_type": "code",
   "execution_count": null,
   "id": "9a0c1e09",
   "metadata": {},
   "outputs": [
    {
     "name": "stdout",
     "output_type": "stream",
     "text": [
      "[1, 2, 3, 4]\n"
     ]
    }
   ],
   "source": [
    "#display last node data\n",
    "class Node:\n",
    "    def __init__(self, data):\n",
    "        self.data = data\n",
    "        self.next = None\n",
    "class LinkedList:\n",
    "    def __init__(self):\n",
    "        self.head = None\n",
    "    def display_last_node_data(self):\n",
    "        curr=self.head\n",
    "        if(curr==None):\n",
    "            return None\n",
    "        while(curr.next):\n",
    "            curr=curr.next\n",
    "        print(curr.data)\n",
    "ll=LinkedList()\n",
    "n1=Node(1)\n",
    "n2=Node(2)\n",
    "n3=Node(\"A\")\n",
    "n4=Node(\"B\")\n",
    "n5=Node([1,2,3,4])\n",
    "ll.head=n1 \n",
    "n1.next=n2\n",
    "n2.next=n3\n",
    "n3.next=n4\n",
    "n4.next=n5\n",
    "ll.display_last_node_data()  "
   ]
  },
  {
   "cell_type": "code",
   "execution_count": 21,
   "id": "d0cd4677",
   "metadata": {},
   "outputs": [
    {
     "name": "stdout",
     "output_type": "stream",
     "text": [
      "5\n"
     ]
    },
    {
     "data": {
      "text/plain": [
       "0"
      ]
     },
     "execution_count": 21,
     "metadata": {},
     "output_type": "execute_result"
    }
   ],
   "source": [
    "#search in a linkedlist\n",
    "class Node:\n",
    "    def __init__(self, data):\n",
    "        self.data = data\n",
    "        self.next = None\n",
    "class LinkedList:\n",
    "    def __init__(self):\n",
    "        self.head = None\n",
    "    def length_of_linkedlist(self):\n",
    "        count=0\n",
    "        curr=self.head\n",
    "        if(curr==None):\n",
    "            return 0\n",
    "        while(curr):\n",
    "            curr=curr.next\n",
    "            count+=1\n",
    "        return count\n",
    "ll=LinkedList()\n",
    "ll2=LinkedList()\n",
    "n1=Node(1)\n",
    "n2=Node(2)\n",
    "n3=Node(\"A\")\n",
    "n4=Node(\"B\")\n",
    "n5=Node([1,2,3,4])\n",
    "ll.head=n1 \n",
    "n1.next=n2\n",
    "n2.next=n3\n",
    "n3.next=n4\n",
    "n4.next=n5\n",
    "\n",
    "print(ll.length_of_linkedlist())\n",
    "ll2.length_of_linkedlist()"
   ]
  },
  {
   "cell_type": "code",
   "execution_count": 2,
   "id": "224ee782",
   "metadata": {},
   "outputs": [
    {
     "ename": "AttributeError",
     "evalue": "'int' object has no attribute 'data'",
     "output_type": "error",
     "traceback": [
      "\u001b[0;31m---------------------------------------------------------------------------\u001b[0m",
      "\u001b[0;31mAttributeError\u001b[0m                            Traceback (most recent call last)",
      "Cell \u001b[0;32mIn[2], line 26\u001b[0m\n\u001b[1;32m     24\u001b[0m             tail\u001b[38;5;241m=\u001b[39mtail\u001b[38;5;241m.\u001b[39mnext\n\u001b[1;32m     25\u001b[0m ll\u001b[38;5;241m=\u001b[39mLinkedList()\n\u001b[0;32m---> 26\u001b[0m \u001b[43mll\u001b[49m\u001b[38;5;241;43m.\u001b[39;49m\u001b[43minsert\u001b[49m\u001b[43m(\u001b[49m\u001b[38;5;241;43m1\u001b[39;49m\u001b[43m)\u001b[49m\n\u001b[1;32m     27\u001b[0m ll\u001b[38;5;241m.\u001b[39minsert(\u001b[38;5;241m2\u001b[39m)\n\u001b[1;32m     28\u001b[0m ll\u001b[38;5;241m.\u001b[39minsert([\u001b[38;5;241m1\u001b[39m,\u001b[38;5;241m2\u001b[39m,\u001b[38;5;241m3\u001b[39m])\n",
      "Cell \u001b[0;32mIn[2], line 18\u001b[0m, in \u001b[0;36mLinkedList.insert\u001b[0;34m(self, data)\u001b[0m\n\u001b[1;32m     17\u001b[0m \u001b[38;5;28;01mdef\u001b[39;00m \u001b[38;5;21minsert\u001b[39m(\u001b[38;5;28mself\u001b[39m,data):\n\u001b[0;32m---> 18\u001b[0m     node\u001b[38;5;241m=\u001b[39m\u001b[43mNode\u001b[49m\u001b[38;5;241;43m.\u001b[39;49m\u001b[38;5;21;43m__init__\u001b[39;49m\u001b[43m(\u001b[49m\u001b[43mdata\u001b[49m\u001b[43m)\u001b[49m\n\u001b[1;32m     19\u001b[0m     \u001b[38;5;28;01mif\u001b[39;00m(head\u001b[38;5;241m==\u001b[39m\u001b[38;5;28;01mNone\u001b[39;00m):\n\u001b[1;32m     20\u001b[0m         head\u001b[38;5;241m=\u001b[39mnode\n",
      "Cell \u001b[0;32mIn[2], line 3\u001b[0m, in \u001b[0;36mNode.__init__\u001b[0;34m(self, data)\u001b[0m\n\u001b[1;32m      2\u001b[0m \u001b[38;5;28;01mdef\u001b[39;00m \u001b[38;5;21m__init__\u001b[39m(\u001b[38;5;28mself\u001b[39m,data\u001b[38;5;241m=\u001b[39m\u001b[38;5;28;01mNone\u001b[39;00m):\n\u001b[0;32m----> 3\u001b[0m     \u001b[38;5;28;43mself\u001b[39;49m\u001b[38;5;241;43m.\u001b[39;49m\u001b[43mdata\u001b[49m\u001b[38;5;241m=\u001b[39mdata\n\u001b[1;32m      4\u001b[0m     \u001b[38;5;28mself\u001b[39m\u001b[38;5;241m.\u001b[39mnext\u001b[38;5;241m=\u001b[39m\u001b[38;5;28;01mNone\u001b[39;00m\n",
      "\u001b[0;31mAttributeError\u001b[0m: 'int' object has no attribute 'data'"
     ]
    }
   ],
   "source": [
    "class Node:\n",
    "    def __init__(self,data=None):\n",
    "        self.data=data\n",
    "        self.next=None\n",
    "class LinkedList:\n",
    "    def __init__(self,head=None,tail=None):\n",
    "        self.head=None\n",
    "        self.tail=None\n",
    "    def display(self):\n",
    "        curr=self.head\n",
    "        if (curr==None):\n",
    "            return None\n",
    "        while(curr):\n",
    "            print(curr.data,'->',end='')\n",
    "            curr=curr.next\n",
    "        print('None')\n",
    "    def insert(self,data):\n",
    "        node=Node.__init__(data)\n",
    "        if(head==None):\n",
    "            head=node\n",
    "            tail=node\n",
    "        else:\n",
    "            tail.next=node\n",
    "            tail=tail.next\n",
    "ll=LinkedList()\n",
    "ll.insert(1)\n",
    "ll.insert(2)\n",
    "ll.insert([1,2,3])\n",
    "ll.display\n",
    "        \n"
   ]
  },
  {
   "cell_type": "markdown",
   "id": "8967d44a",
   "metadata": {},
   "source": [
    "<h3>Doubly LinkedList"
   ]
  },
  {
   "cell_type": "code",
   "execution_count": 5,
   "id": "9520dfa5",
   "metadata": {},
   "outputs": [
    {
     "name": "stdout",
     "output_type": "stream",
     "text": [
      "1\n",
      "2\n",
      "None\n",
      "2\n",
      "None\n"
     ]
    }
   ],
   "source": [
    "#doubly Linkedlist\n",
    "class Node:\n",
    "    def __init__ (self,data):\n",
    "        self.data=data\n",
    "        self.next=None\n",
    "        self.prev=None\n",
    "class DoublyLinkedList:\n",
    "    def __init__(self):\n",
    "        self.head=None\n",
    "\n",
    "head1=DoublyLinkedList()\n",
    "n1=Node(1)\n",
    "n2=Node(2)\n",
    "n3=Node(3)\n",
    "n1.next=n2\n",
    "n2.next=n3\n",
    "n2.prev=n1\n",
    "n3.prev=n2\n",
    "print(n1.data)\n",
    "print(n1.next.data)\n",
    "print(n3.next)\n",
    "print(n3.prev.data)\n",
    "print(n1.prev)"
   ]
  },
  {
   "cell_type": "code",
   "execution_count": null,
   "id": "f2b22690",
   "metadata": {},
   "outputs": [],
   "source": []
  }
 ],
 "metadata": {
  "kernelspec": {
   "display_name": "Python 3",
   "language": "python",
   "name": "python3"
  },
  "language_info": {
   "codemirror_mode": {
    "name": "ipython",
    "version": 3
   },
   "file_extension": ".py",
   "mimetype": "text/x-python",
   "name": "python",
   "nbconvert_exporter": "python",
   "pygments_lexer": "ipython3",
   "version": "3.9.6"
  }
 },
 "nbformat": 4,
 "nbformat_minor": 5
}
