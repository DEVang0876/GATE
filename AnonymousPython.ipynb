{
 "cells": [
  {
   "cell_type": "code",
   "execution_count": 1,
   "id": "f647f025",
   "metadata": {},
   "outputs": [
    {
     "data": {
      "text/plain": [
       "''"
      ]
     },
     "execution_count": 1,
     "metadata": {},
     "output_type": "execute_result"
    }
   ],
   "source": [
    "'' and 'g'"
   ]
  },
  {
   "cell_type": "code",
   "execution_count": null,
   "id": "acef71d6",
   "metadata": {},
   "outputs": [],
   "source": []
  },
  {
   "cell_type": "code",
   "execution_count": 2,
   "id": "5780ee0e",
   "metadata": {},
   "outputs": [
    {
     "data": {
      "text/plain": [
       "9"
      ]
     },
     "execution_count": 2,
     "metadata": {},
     "output_type": "execute_result"
    }
   ],
   "source": [
    "' ' and 9"
   ]
  },
  {
   "cell_type": "code",
   "execution_count": 6,
   "id": "9d3c3e21",
   "metadata": {},
   "outputs": [
    {
     "name": "stdout",
     "output_type": "stream",
     "text": [
      "True\n"
     ]
    }
   ],
   "source": [
    "lt=[]\n",
    "print(not lt)"
   ]
  },
  {
   "cell_type": "code",
   "execution_count": 11,
   "id": "d93cf097",
   "metadata": {},
   "outputs": [
    {
     "data": {
      "text/plain": [
       "True"
      ]
     },
     "execution_count": 11,
     "metadata": {},
     "output_type": "execute_result"
    }
   ],
   "source": [
    "not ''"
   ]
  },
  {
   "cell_type": "code",
   "execution_count": 13,
   "id": "30c254ab",
   "metadata": {},
   "outputs": [
    {
     "name": "stdout",
     "output_type": "stream",
     "text": [
      "False\n"
     ]
    }
   ],
   "source": [
    "l=[1,2]\n",
    "print(not l)"
   ]
  },
  {
   "cell_type": "code",
   "execution_count": 2,
   "id": "5f711150",
   "metadata": {},
   "outputs": [
    {
     "data": {
      "text/plain": [
       "4"
      ]
     },
     "execution_count": 2,
     "metadata": {},
     "output_type": "execute_result"
    }
   ],
   "source": [
    "5 & 6"
   ]
  },
  {
   "cell_type": "code",
   "execution_count": 4,
   "id": "8f2b9eaf",
   "metadata": {},
   "outputs": [
    {
     "data": {
      "text/plain": [
       "True"
      ]
     },
     "execution_count": 4,
     "metadata": {},
     "output_type": "execute_result"
    }
   ],
   "source": [
    "True & True"
   ]
  },
  {
   "cell_type": "code",
   "execution_count": 5,
   "id": "b3c9ea38",
   "metadata": {},
   "outputs": [
    {
     "data": {
      "text/plain": [
       "7"
      ]
     },
     "execution_count": 5,
     "metadata": {},
     "output_type": "execute_result"
    }
   ],
   "source": [
    "5 | 6"
   ]
  },
  {
   "cell_type": "code",
   "execution_count": 14,
   "id": "4e2cbb83",
   "metadata": {},
   "outputs": [
    {
     "data": {
      "text/plain": [
       "6"
      ]
     },
     "execution_count": 14,
     "metadata": {},
     "output_type": "execute_result"
    }
   ],
   "source": [
    "3<<1"
   ]
  },
  {
   "cell_type": "code",
   "execution_count": null,
   "id": "da398c46",
   "metadata": {},
   "outputs": [
    {
     "name": "stdout",
     "output_type": "stream",
     "text": [
      "True\n"
     ]
    },
    {
     "data": {
      "text/plain": [
       "True"
      ]
     },
     "execution_count": 3,
     "metadata": {},
     "output_type": "execute_result"
    }
   ],
   "source": [
    "a=5\n",
    "b=5\n",
    "print(a is b)\n",
    "a==b\n"
   ]
  },
  {
   "cell_type": "code",
   "execution_count": 6,
   "id": "e21d5990",
   "metadata": {},
   "outputs": [
    {
     "name": "stdout",
     "output_type": "stream",
     "text": [
      "True\n",
      "False\n",
      "True\n",
      "True\n"
     ]
    }
   ],
   "source": [
    "a = [1, 2, 3]\n",
    "b = [1, 2, 3]\n",
    "c = a\n",
    "\n",
    "print(a == b)  # ✅ True: contents are equal\n",
    "print(a is b)  # ❌ False: different objects in memory\n",
    "\n",
    "print(a is c)  # ✅ True: same object (c points to a)\n",
    "print(a == c)  # ✅ True: contents are equal"
   ]
  },
  {
   "cell_type": "code",
   "execution_count": 7,
   "id": "269a7c4b",
   "metadata": {},
   "outputs": [
    {
     "data": {
      "text/plain": [
       "True"
      ]
     },
     "execution_count": 7,
     "metadata": {},
     "output_type": "execute_result"
    }
   ],
   "source": [
    "'' in 'strggg'"
   ]
  },
  {
   "cell_type": "code",
   "execution_count": 7,
   "id": "63d2532d",
   "metadata": {},
   "outputs": [
    {
     "name": "stdout",
     "output_type": "stream",
     "text": [
      "True\n",
      "True\n",
      "True\n"
     ]
    }
   ],
   "source": [
    "print(False<True<2<3<4<5<10.5)\n",
    "\n",
    "print('a'<'b'<'c'<'d'<'e'<'f'<'g')\n",
    "print(10>5<31<211<1111)"
   ]
  },
  {
   "cell_type": "code",
   "execution_count": 14,
   "id": "46066c34",
   "metadata": {},
   "outputs": [
    {
     "name": "stdout",
     "output_type": "stream",
     "text": [
      "4\n"
     ]
    }
   ],
   "source": [
    "a=b=c=2\n",
    "d=e=f=3\n",
    "print(a+b-c*d%2//2)"
   ]
  },
  {
   "cell_type": "code",
   "execution_count": 22,
   "id": "33bb8763",
   "metadata": {},
   "outputs": [
    {
     "name": "stdout",
     "output_type": "stream",
     "text": [
      "<class 'complex'>\n",
      "(1+0j)\n"
     ]
    }
   ],
   "source": [
    "a=complex(input())\n",
    "print(type(a))\n",
    "print(a)"
   ]
  },
  {
   "cell_type": "code",
   "execution_count": 1,
   "id": "801b7fd1",
   "metadata": {},
   "outputs": [
    {
     "name": "stdout",
     "output_type": "stream",
     "text": [
      "[3]\n",
      "6\n",
      "Not a Strong Number\n"
     ]
    }
   ],
   "source": [
    "n=int(input())\n",
    "org=n\n",
    "lt=[]\n",
    "while n!=0:\n",
    "    rem=n%10\n",
    "    lt.append(rem)\n",
    "    n//=10\n",
    "\n",
    "print(lt)\n",
    "def factorial(n):\n",
    "    if n==0 or n==1:\n",
    "        return 1\n",
    "    else:\n",
    "        return n*factorial(n-1)\n",
    "s=0\n",
    "for x in lt:\n",
    "    s+=factorial(x)\n",
    "print(s)\n",
    "if s==org:\n",
    "    print(\"Strong Number\")\n",
    "else:\n",
    "    print(\"Not a Strong Number\")\n"
   ]
  },
  {
   "cell_type": "code",
   "execution_count": 10,
   "id": "eae7f665",
   "metadata": {},
   "outputs": [
    {
     "name": "stdout",
     "output_type": "stream",
     "text": [
      "1 \n",
      "1 2 \n",
      "1 2 3 \n",
      "1 2 3 4 \n",
      "1 2 3 4 5 \n"
     ]
    }
   ],
   "source": [
    "for i in range(1,6):\n",
    "    for j in range(1,i+1):\n",
    "        print(j,end=\" \")\n",
    "    print()"
   ]
  },
  {
   "cell_type": "code",
   "execution_count": 11,
   "id": "af66a967",
   "metadata": {},
   "outputs": [
    {
     "name": "stdout",
     "output_type": "stream",
     "text": [
      "1 \n",
      "2 2 \n",
      "3 3 3 \n",
      "4 4 4 4 \n",
      "5 5 5 5 5 \n"
     ]
    }
   ],
   "source": [
    "\n",
    "for i in range(1,6):\n",
    "    for j in range(1,i+1):\n",
    "        print(i,end=\" \")\n",
    "    print()"
   ]
  },
  {
   "cell_type": "code",
   "execution_count": 17,
   "id": "22c505ed",
   "metadata": {},
   "outputs": [
    {
     "name": "stdout",
     "output_type": "stream",
     "text": [
      "      *\n",
      "     **\n",
      "    ***\n",
      "   ****\n",
      "  *****\n",
      " ******\n"
     ]
    }
   ],
   "source": [
    "n=int(input())\n",
    "\n",
    "for i in range(1,n):\n",
    "    for k in range(n-i):\n",
    "        print(\" \",end=\"\")\n",
    "    for j in range(1,i+1):\n",
    "        print(\"*\",end=\"\")\n",
    "    print()\n"
   ]
  },
  {
   "cell_type": "code",
   "execution_count": 21,
   "id": "a22bba1a",
   "metadata": {},
   "outputs": [
    {
     "name": "stdout",
     "output_type": "stream",
     "text": [
      "    *\n",
      "   ***\n",
      "  *****\n",
      " *******\n",
      "*********\n"
     ]
    }
   ],
   "source": [
    "n=int(input())\n",
    "\n",
    "for i in range(1,n+1):\n",
    "    for k in range(n-i):\n",
    "        print(\" \",end=\"\")\n",
    "    for j in range(0,2*i-1):\n",
    "        print(\"*\",end=\"\")\n",
    "\n",
    "    print()\n"
   ]
  },
  {
   "cell_type": "code",
   "execution_count": 23,
   "id": "cacbfb68",
   "metadata": {},
   "outputs": [
    {
     "name": "stdout",
     "output_type": "stream",
     "text": [
      "      1\n",
      "     12\n",
      "    123\n",
      "   1234\n",
      "  12345\n",
      " 123456\n"
     ]
    }
   ],
   "source": [
    "n=int(input())\n",
    "\n",
    "for i in range(1,n):\n",
    "    for k in range(n-i):\n",
    "        print(\" \",end=\"\")\n",
    "    for j in range(1,i+1):\n",
    "        print(j,end=\"\")\n",
    "    print()\n"
   ]
  },
  {
   "cell_type": "code",
   "execution_count": 24,
   "id": "7b2793c2",
   "metadata": {},
   "outputs": [
    {
     "name": "stdout",
     "output_type": "stream",
     "text": [
      "      1\n",
      "     22\n",
      "    333\n",
      "   4444\n",
      "  55555\n",
      " 666666\n"
     ]
    }
   ],
   "source": [
    "n=int(input())\n",
    "\n",
    "for i in range(1,n):\n",
    "    for k in range(n-i):\n",
    "        print(\" \",end=\"\")\n",
    "    for j in range(1,i+1):\n",
    "        print(i,end=\"\")\n",
    "    print()\n"
   ]
  },
  {
   "cell_type": "code",
   "execution_count": null,
   "id": "62781007",
   "metadata": {},
   "outputs": [
    {
     "name": "stdout",
     "output_type": "stream",
     "text": [
      "1234567\n",
      "123456\n",
      "12345\n",
      "1234\n",
      "123\n",
      "12\n",
      "1\n"
     ]
    }
   ],
   "source": [
    "n=int(input())\n",
    "\n",
    "for i in range(n,0,-1):\n",
    "    for j in range(1,i+1):\n",
    "        print(j,end=\"\")\n",
    "        \n",
    "    print()\n"
   ]
  },
  {
   "cell_type": "code",
   "execution_count": 1,
   "id": "d9fec3ff",
   "metadata": {},
   "outputs": [
    {
     "name": "stdout",
     "output_type": "stream",
     "text": [
      "na\n"
     ]
    }
   ],
   "source": [
    "s='pankaj'\n",
    "print(s[2::2])"
   ]
  },
  {
   "cell_type": "code",
   "execution_count": 30,
   "id": "3cf7ad9a",
   "metadata": {},
   "outputs": [
    {
     "name": "stdout",
     "output_type": "stream",
     "text": [
      "1234567\n",
      " 123456\n",
      "  12345\n",
      "   1234\n",
      "    123\n",
      "     12\n",
      "      1\n"
     ]
    }
   ],
   "source": [
    "n=int(input())\n",
    "\n",
    "for i in range(n,0,-1):\n",
    "    for k in range(n-i):\n",
    "        print(\" \",end=\"\")\n",
    "    for j in range(1,i+1):\n",
    "        print(j,end=\"\")\n",
    "    print()\n"
   ]
  },
  {
   "cell_type": "code",
   "execution_count": null,
   "id": "4e74ee4d",
   "metadata": {},
   "outputs": [
    {
     "name": "stdout",
     "output_type": "stream",
     "text": [
      "   *\n",
      "  ***\n",
      " *****\n",
      "  ***\n",
      "   *\n"
     ]
    }
   ],
   "source": [
    "n=int(input())\n",
    "\n",
    "for i in range(1,n+1//2):\n",
    "    for k in range(n-i):\n",
    "        print(\" \",end=\"\") \n",
    "    for j in range(0,2*i-1):\n",
    "        print(\"*\",end=\"\")\n",
    "    print()\n",
    "\n",
    "for i in range(n-2,0,-1):\n",
    "    for k in range(n-i):\n",
    "        print(\" \",end=\"\")\n",
    "    for j in range(0,2*i-1):\n",
    "        print(\"*\",end=\n",
    "              \"\")\n",
    "    print()\n"
   ]
  },
  {
   "cell_type": "code",
   "execution_count": null,
   "id": "4ec3dc9d",
   "metadata": {},
   "outputs": [
    {
     "name": "stdout",
     "output_type": "stream",
     "text": [
      "1\n",
      "2\n",
      "3\n",
      "4\n",
      "5\n",
      "6\n",
      "7\n",
      "8\n",
      "9\n"
     ]
    }
   ],
   "source": [
    "for x in range(1,11):\n",
    "    print(x)\n",
    "    if(x==9):\n",
    "        break\n",
    "else:\n",
    "    print(\"else\")"
   ]
  },
  {
   "cell_type": "code",
   "execution_count": 3,
   "id": "56576778",
   "metadata": {},
   "outputs": [
    {
     "name": "stdout",
     "output_type": "stream",
     "text": [
      "HELLO WORLD\n",
      "I Am Devang Dhandhukiya\n",
      "I am devang dhandhukiya\n"
     ]
    }
   ],
   "source": [
    "a='Hello world'\n",
    "print(a.upper())\n",
    "\n",
    "b='i am devang dhandhukiya'\n",
    "print(b.title())\n",
    "print(b.capitalize())"
   ]
  },
  {
   "cell_type": "code",
   "execution_count": 6,
   "id": "cc5aa27a",
   "metadata": {},
   "outputs": [
    {
     "name": "stdout",
     "output_type": "stream",
     "text": [
      "Hello, World!\n",
      "Jello, World!\n",
      "['Hello,', 'World!']\n"
     ]
    }
   ],
   "source": [
    "a='Hello, World!'\n",
    "b=a.replace('H','J')\n",
    "print(a,b, sep=\"\\n\")\n",
    "print(a.split())"
   ]
  },
  {
   "cell_type": "code",
   "execution_count": 7,
   "id": "193f4992",
   "metadata": {},
   "outputs": [
    {
     "name": "stdout",
     "output_type": "stream",
     "text": [
      "helo\n"
     ]
    }
   ],
   "source": [
    "l=['h','e','l','o']\n",
    "print(''.join(l))"
   ]
  },
  {
   "cell_type": "markdown",
   "id": "ba08c742",
   "metadata": {},
   "source": []
  },
  {
   "cell_type": "code",
   "execution_count": 3,
   "id": "97aec264",
   "metadata": {},
   "outputs": [
    {
     "name": "stdout",
     "output_type": "stream",
     "text": [
      "hELLO wORLD\n"
     ]
    }
   ],
   "source": [
    "a='Hello World'\n",
    "print(a.swapcase())"
   ]
  },
  {
   "cell_type": "code",
   "execution_count": 8,
   "id": "a3de3a3a",
   "metadata": {},
   "outputs": [
    {
     "name": "stdout",
     "output_type": "stream",
     "text": [
      "[2, 4, 6, 8, 10]\n"
     ]
    },
    {
     "ename": "TypeError",
     "evalue": "'set' object is not subscriptable",
     "output_type": "error",
     "traceback": [
      "\u001b[0;31m---------------------------------------------------------------------------\u001b[0m",
      "\u001b[0;31mTypeError\u001b[0m                                 Traceback (most recent call last)",
      "Cell \u001b[0;32mIn[8], line 10\u001b[0m\n\u001b[1;32m      8\u001b[0m twice(l)\n\u001b[1;32m      9\u001b[0m \u001b[38;5;28mprint\u001b[39m(l)\n\u001b[0;32m---> 10\u001b[0m \u001b[43mtwice\u001b[49m\u001b[43m(\u001b[49m\u001b[43mst\u001b[49m\u001b[43m)\u001b[49m\n\u001b[1;32m     11\u001b[0m \u001b[38;5;28mprint\u001b[39m(st)\n",
      "Cell \u001b[0;32mIn[8], line 3\u001b[0m, in \u001b[0;36mtwice\u001b[0;34m(o)\u001b[0m\n\u001b[1;32m      1\u001b[0m \u001b[38;5;28;01mdef\u001b[39;00m \u001b[38;5;21mtwice\u001b[39m(o):\n\u001b[1;32m      2\u001b[0m     \u001b[38;5;28;01mfor\u001b[39;00m i \u001b[38;5;129;01min\u001b[39;00m \u001b[38;5;28mrange\u001b[39m(\u001b[38;5;28mlen\u001b[39m(o)):\n\u001b[0;32m----> 3\u001b[0m         o[i]\u001b[38;5;241m=\u001b[39m\u001b[43mo\u001b[49m\u001b[43m[\u001b[49m\u001b[43mi\u001b[49m\u001b[43m]\u001b[49m\u001b[38;5;241m*\u001b[39m\u001b[38;5;241m2\u001b[39m\n",
      "\u001b[0;31mTypeError\u001b[0m: 'set' object is not subscriptable"
     ]
    }
   ],
   "source": [
    "def twice(o):\n",
    "    for i in range(len(o)):\n",
    "        o[i]=o[i]*2\n",
    "l=[1,2,3,4,5]\n",
    "s='hello'\n",
    "t=(1, 2, 3, 4, 5)\n",
    "st={1,2,3}\n",
    "twice(l)\n",
    "print(l)\n",
    "twice(st)\n",
    "print(st)"
   ]
  },
  {
   "cell_type": "code",
   "execution_count": 17,
   "id": "fb161730",
   "metadata": {},
   "outputs": [
    {
     "name": "stdout",
     "output_type": "stream",
     "text": [
      "2\n"
     ]
    }
   ],
   "source": [
    "x=1\n",
    "def f():\n",
    "    # x=0\n",
    "    xx=x+1\n",
    "    print(xx)\n",
    "\n",
    "# print(x)\n",
    "f()\n"
   ]
  },
  {
   "cell_type": "code",
   "execution_count": 18,
   "id": "9dc884bc",
   "metadata": {},
   "outputs": [
    {
     "name": "stdout",
     "output_type": "stream",
     "text": [
      "10\n",
      "20\n",
      "10\n"
     ]
    }
   ],
   "source": [
    "a=10\n",
    "def fun():\n",
    "    a=20\n",
    "    print(a)\n",
    "print(a)\n",
    "fun()\n",
    "print(a)"
   ]
  },
  {
   "cell_type": "code",
   "execution_count": 19,
   "id": "d9ae6afe",
   "metadata": {},
   "outputs": [
    {
     "name": "stdout",
     "output_type": "stream",
     "text": [
      "15 5\n"
     ]
    }
   ],
   "source": [
    "def f(a,b):\n",
    "    return a+b,a-b\n",
    "x,y=f(10,5)\n",
    "print(x,y)"
   ]
  },
  {
   "cell_type": "code",
   "execution_count": 20,
   "id": "2792f05b",
   "metadata": {},
   "outputs": [
    {
     "name": "stdout",
     "output_type": "stream",
     "text": [
      "20\n",
      "10\n"
     ]
    }
   ],
   "source": [
    "def swap(a,b):\n",
    "    return b,a\n",
    "x,y=swap(10,20)\n",
    "print(x)\n",
    "print(y)"
   ]
  },
  {
   "cell_type": "code",
   "execution_count": 23,
   "id": "b97efbab",
   "metadata": {},
   "outputs": [
    {
     "name": "stdout",
     "output_type": "stream",
     "text": [
      "1 2 3 4\n",
      "1 2 3 4\n",
      "1 2 3 4\n"
     ]
    },
    {
     "ename": "TypeError",
     "evalue": "fun() got multiple values for argument 'b'",
     "output_type": "error",
     "traceback": [
      "\u001b[0;31m---------------------------------------------------------------------------\u001b[0m",
      "\u001b[0;31mTypeError\u001b[0m                                 Traceback (most recent call last)",
      "Cell \u001b[0;32mIn[23], line 7\u001b[0m\n\u001b[1;32m      4\u001b[0m fun(\u001b[38;5;241m1\u001b[39m,\u001b[38;5;241m2\u001b[39m,\u001b[38;5;241m3\u001b[39m,d\u001b[38;5;241m=\u001b[39m\u001b[38;5;241m4\u001b[39m)\n\u001b[1;32m      5\u001b[0m fun(\u001b[38;5;241m1\u001b[39m,\u001b[38;5;241m2\u001b[39m,d\u001b[38;5;241m=\u001b[39m\u001b[38;5;241m4\u001b[39m,c\u001b[38;5;241m=\u001b[39m\u001b[38;5;241m3\u001b[39m)\n\u001b[0;32m----> 7\u001b[0m \u001b[43mfun\u001b[49m\u001b[43m(\u001b[49m\u001b[38;5;241;43m1\u001b[39;49m\u001b[43m,\u001b[49m\u001b[38;5;241;43m2\u001b[39;49m\u001b[43m,\u001b[49m\u001b[43mb\u001b[49m\u001b[38;5;241;43m=\u001b[39;49m\u001b[38;5;241;43m2\u001b[39;49m\u001b[43m,\u001b[49m\u001b[43md\u001b[49m\u001b[38;5;241;43m=\u001b[39;49m\u001b[38;5;241;43m3\u001b[39;49m\u001b[43m)\u001b[49m\n",
      "\u001b[0;31mTypeError\u001b[0m: fun() got multiple values for argument 'b'"
     ]
    }
   ],
   "source": [
    "def fun(a,b,c,d):\n",
    "    print(a,b,c,d)\n",
    "fun(1,2,3,4)\n",
    "fun(1,2,3,d=4)\n",
    "fun(1,2,d=4,c=3)\n",
    "\n",
    "fun(1,2,b=2,d=3)"
   ]
  },
  {
   "cell_type": "code",
   "execution_count": 26,
   "id": "4024dd98",
   "metadata": {},
   "outputs": [
    {
     "name": "stdout",
     "output_type": "stream",
     "text": [
      "pankaj\n",
      "joe\n",
      "devang\n"
     ]
    }
   ],
   "source": [
    "def f(name='joe'):\n",
    "    print(name)\n",
    "\n",
    "f('pankaj')\n",
    "f()\n",
    "f(name='devang')"
   ]
  },
  {
   "cell_type": "code",
   "execution_count": 2,
   "id": "63bec8f3",
   "metadata": {},
   "outputs": [
    {
     "name": "stdout",
     "output_type": "stream",
     "text": [
      "314.0\n",
      "300\n"
     ]
    }
   ],
   "source": [
    "def area(r,pi=3.14):\n",
    "    return pi*r*r\n",
    "print(area(10))\n",
    "print(area(10,3))"
   ]
  },
  {
   "cell_type": "code",
   "execution_count": 8,
   "id": "df0c41aa",
   "metadata": {},
   "outputs": [
    {
     "name": "stdout",
     "output_type": "stream",
     "text": [
      "15\n",
      "78\n",
      "3\n"
     ]
    }
   ],
   "source": [
    "def sum(*args):\n",
    "    s=0\n",
    "    for i in args:\n",
    "        s+=i\n",
    "    return s\n",
    "print(sum(1,2,3,4,5))\n",
    "print(sum(1,2,3,4,5,6,7,8,9,10,11,12))\n",
    "print(sum(3))"
   ]
  },
  {
   "cell_type": "code",
   "execution_count": 9,
   "id": "9ff14458",
   "metadata": {},
   "outputs": [
    {
     "name": "stdout",
     "output_type": "stream",
     "text": [
      "1 2 (3, 4, 5)\n"
     ]
    }
   ],
   "source": [
    "def c(a,b,*c):\n",
    "    print(a,b,c)\n",
    "c(1,2,3,4,5)\n"
   ]
  },
  {
   "cell_type": "code",
   "execution_count": 28,
   "id": "2ce6e515",
   "metadata": {},
   "outputs": [
    {
     "ename": "SyntaxError",
     "evalue": "non-default argument follows default argument (395673362.py, line 1)",
     "output_type": "error",
     "traceback": [
      "\u001b[0;36m  Cell \u001b[0;32mIn[28], line 1\u001b[0;36m\u001b[0m\n\u001b[0;31m    def f(a=0,b,c):\u001b[0m\n\u001b[0m                ^\u001b[0m\n\u001b[0;31mSyntaxError\u001b[0m\u001b[0;31m:\u001b[0m non-default argument follows default argument\n"
     ]
    }
   ],
   "source": [
    "def f(a=0,b,c):\n",
    "    print(a,b,c)\n",
    "# f(1,2,3)"
   ]
  },
  {
   "cell_type": "code",
   "execution_count": 13,
   "id": "d0b644f7",
   "metadata": {},
   "outputs": [
    {
     "name": "stdout",
     "output_type": "stream",
     "text": [
      "(1,) 5 4\n",
      "() 3 2\n"
     ]
    }
   ],
   "source": [
    "def c(*a,b,c):\n",
    "    print(a,b,c)\n",
    "c(1,c=4,b=5)\n",
    "c(c=2,b=3)"
   ]
  },
  {
   "cell_type": "code",
   "execution_count": 15,
   "id": "5e4a3675",
   "metadata": {},
   "outputs": [
    {
     "name": "stdout",
     "output_type": "stream",
     "text": [
      "1 (2, 3, 4, 5)\n",
      "1 ()\n"
     ]
    }
   ],
   "source": [
    "def f(a,*b):\n",
    "    print(a,b)\n",
    "\n",
    "f(1,2,3,4,5)\n",
    "f(1)"
   ]
  },
  {
   "cell_type": "code",
   "execution_count": 16,
   "id": "661df003",
   "metadata": {},
   "outputs": [
    {
     "name": "stdout",
     "output_type": "stream",
     "text": [
      "{'a': 1, 'b': 2, 'c': 3}\n",
      "{}\n"
     ]
    }
   ],
   "source": [
    "def f(**kwargs):\n",
    "    print(kwargs)\n",
    "f(a=1,b=2,c=3)\n",
    "f()"
   ]
  },
  {
   "cell_type": "code",
   "execution_count": 18,
   "id": "26f217d7",
   "metadata": {},
   "outputs": [
    {
     "name": "stdout",
     "output_type": "stream",
     "text": [
      "a 1\n",
      "b 2\n",
      "c 3\n"
     ]
    }
   ],
   "source": [
    "def f(**A):\n",
    "    for x,y in A.items():\n",
    "        print(x,y)\n",
    "f(a=1,b=2,c=3)"
   ]
  },
  {
   "cell_type": "code",
   "execution_count": 20,
   "id": "3a87ea03",
   "metadata": {},
   "outputs": [
    {
     "name": "stdout",
     "output_type": "stream",
     "text": [
      "This function takes two arguments and returns their sum.\n",
      "30\n"
     ]
    }
   ],
   "source": [
    "# --docstring in functions\n",
    "def f(a,b):\n",
    "    '''This function takes two arguments and returns their sum.'''\n",
    "    return a+b\n",
    "print(f.__doc__)\n",
    "print(f(10,20))\n",
    "\n"
   ]
  },
  {
   "cell_type": "code",
   "execution_count": 21,
   "id": "8b263580",
   "metadata": {},
   "outputs": [],
   "source": [
    "def greet(name):\n",
    "    \"\"\"This function greets the per\n",
    "    son by name.\"\"\"\n",
    "    print(f\"Hello, {name}!\")\n"
   ]
  },
  {
   "cell_type": "code",
   "execution_count": 4,
   "id": "54e75e16",
   "metadata": {},
   "outputs": [
    {
     "name": "stdout",
     "output_type": "stream",
     "text": [
      "(111, 222, 333)\n"
     ]
    }
   ],
   "source": [
    "a=(1,2,3)\n",
    "b=(10,20,30)\n",
    "c=(100,200,300)\n",
    "x=tuple(a+b+c)\n",
    "add=tuple(map(lambda l,m,n:l+m+n,a,b,c))\n",
    "print(add)"
   ]
  },
  {
   "cell_type": "code",
   "execution_count": null,
   "id": "0757cb79",
   "metadata": {},
   "outputs": [],
   "source": [
    "#reduce func with ambda func\n",
    "from functools import reduce\n",
    "def add(x, y):\n",
    "    return x + y\n",
    "lst = [1, 2, 3, 4, 5]\n",
    "result = reduce(add, lst)\n",
    "print(result)  # Output: 15\n"
   ]
  },
  {
   "cell_type": "code",
   "execution_count": 2,
   "id": "4a5af8dc",
   "metadata": {},
   "outputs": [
    {
     "name": "stdout",
     "output_type": "stream",
     "text": [
      "function -1\n"
     ]
    }
   ],
   "source": [
    "def f():\n",
    "    print(\"function -1\")\n",
    "g=f\n",
    "h=g\n",
    "h()"
   ]
  },
  {
   "cell_type": "code",
   "execution_count": null,
   "id": "1d873f03",
   "metadata": {},
   "outputs": [
    {
     "name": "stdout",
     "output_type": "stream",
     "text": [
      "f1 started\n",
      "f2 started\n",
      "f3 started\n",
      "f4 started\n",
      "f4 ended\n",
      "f3 ended\n",
      "f2 ended\n",
      "f1 ended\n"
     ]
    }
   ],
   "source": [
    "def f1():\n",
    "    print('f1 started')\n",
    "    f2()\n",
    "    print('f1 ended')\n",
    "def f2():\n",
    "    print('f2 started')\n",
    "    f3()\n",
    "    print('f2 ended')\n",
    "def f3():\n",
    "    print('f3 started')\n",
    "    f4()\n",
    "    print('f3 ended')\n",
    "def f4():\n",
    "    print('f4 started')\n",
    "    #f1()\n",
    "    \n",
    "    print('f4 ended')\n",
    "f1()"
   ]
  },
  {
   "cell_type": "code",
   "execution_count": 9,
   "id": "b20c85f4",
   "metadata": {},
   "outputs": [],
   "source": [
    "#recursion tree undertable example\n",
    "def factorial(n):\n",
    "    if n == 0 or n == 1:\n",
    "        return 1\n",
    "    else:\n",
    "        return n * factorial(n - 1)\n",
    "def fibonacci(n):\n",
    "    if n <= 0:\n",
    "        return 0\n",
    "    elif n == 1:\n",
    "        return 1\n",
    "    else:\n",
    "        return fibonacci(n - 1) + fibonacci(n - 2)\n",
    "def sum_of_digits(n):\n",
    "    if n == 0:\n",
    "        return 0\n",
    "    else:\n",
    "        return n % 10 + sum_of_digits(n // 10)\n",
    "def power(base, exp):\n",
    "    if exp == 0:\n",
    "        return 1\n",
    "    else:\n",
    "        return base * power(base, exp - 1)\n",
    "def gcd(a, b):\n",
    "    if b == 0:\n",
    "        return a\n",
    "    else:\n",
    "        return gcd(b, a % b)\n",
    "def lcm(a, b):\n",
    "    return (a * b) // gcd(a, b)\n",
    "def reverse_string(s):\n",
    "    if len(s) == 0:\n",
    "        return \"\"\n",
    "    else:\n",
    "        return s[-1] + reverse_string(s[:-1])\n",
    "def is_palindrome(s):\n",
    "    if len(s) <= 1:\n",
    "        return True\n",
    "    else:\n",
    "        return s[0] == s[-1] and is_palindrome(s[1:-1])\n",
    "def count_vowels(s):\n",
    "    vowels = \"aeiouAEIOU\"\n",
    "    if len(s) == 0:\n",
    "        return 0\n",
    "    else:\n",
    "        return (1 if s[0] in vowels else 0) + count_vowels(s[1:])\n",
    "def binary_search(arr, target, low, high):  \n",
    "    if low > high:\n",
    "        return -1\n",
    "    mid = (low + high) // 2\n",
    "    if arr[mid] == target:\n",
    "        return mid\n",
    "    elif arr[mid] < target:\n",
    "        return binary_search(arr, target, mid + 1, high)\n",
    "    else:\n",
    "        return binary_search(arr, target, low, mid - 1)\n",
    "def merge_sort(arr):\n",
    "    if len(arr) <= 1:\n",
    "        return arr\n",
    "    mid = len(arr) // 2\n",
    "    left_half = merge_sort(arr[:mid])\n",
    "    right_half = merge_sort(arr[mid:])\n",
    "    return merge(left_half, right_half)\n",
    "def merge(left, right): \n",
    "    result = []\n",
    "    i = j = 0\n",
    "    while i < len(left) and j < len(right):\n",
    "        if left[i] < right[j]:\n",
    "            result.append(left[i])\n",
    "            i += 1\n",
    "        else:\n",
    "            result.append(right[j])\n",
    "            j += 1\n",
    "    result.extend(left[i:])\n",
    "    result.extend(right[j:])\n",
    "    return result"
   ]
  },
  {
   "cell_type": "code",
   "execution_count": null,
   "id": "adbf873b",
   "metadata": {},
   "outputs": [],
   "source": [
    "#OOPs create a class\n",
    "class Person:\n",
    "   \n",
    "    name\n",
    "    age \n",
    "\n",
    "    def greet(self):\n",
    "        print(f\"Hello, my name is {self.name} and I am {self.age} years old.\")"
   ]
  },
  {
   "cell_type": "code",
   "execution_count": 9,
   "id": "250e02e4",
   "metadata": {},
   "outputs": [
    {
     "name": "stdout",
     "output_type": "stream",
     "text": [
      "Depositing 1000 to the account.\n",
      "Withdrawing 500 from the account.\n",
      "700500\n"
     ]
    }
   ],
   "source": [
    "class Account:\n",
    "    def __init__(self, balance):\n",
    "        self.account_number = 123456789\n",
    "        self.balance = balance\n",
    "    def deposite(self, amount):\n",
    "        self.balance+= amount\n",
    "        print(f\"Depositing {amount} to the account.\")\n",
    "    def withdraw(self, amount):\n",
    "        self.balance -= amount\n",
    "        print(f\"Withdrawing {amount} from the account.\")\n",
    "\n",
    "a1=Account(700000)\n",
    "\n",
    "a1.deposite(1000)\n",
    "\n",
    "a1.withdraw(500)\n",
    "print(a1.balance)"
   ]
  },
  {
   "cell_type": "code",
   "execution_count": 10,
   "id": "bebeb268",
   "metadata": {},
   "outputs": [
    {
     "name": "stdout",
     "output_type": "stream",
     "text": [
      "Hello, my name is Alice and I am 30 years old.\n"
     ]
    }
   ],
   "source": [
    "#local variable attributr\n",
    "class Person:\n",
    "    def __init__(self, name, age):\n",
    "        self.name = name\n",
    "        self.age = age\n",
    "\n",
    "    def greet(self):\n",
    "        print(f\"Hello, my name is {self.name} and I am {self.age} years old.\")\n",
    "p1 = Person(\"Alice\", 30)\n",
    "p1.greet()  # Output: Hello, my name is Alice and I am 30 years old."
   ]
  },
  {
   "cell_type": "code",
   "execution_count": 1,
   "id": "23e36820",
   "metadata": {},
   "outputs": [
    {
     "name": "stdout",
     "output_type": "stream",
     "text": [
      "Hello!\n"
     ]
    },
    {
     "ename": "AttributeError",
     "evalue": "'Person' object has no attribute 'message'",
     "output_type": "error",
     "traceback": [
      "\u001b[0;31m---------------------------------------------------------------------------\u001b[0m",
      "\u001b[0;31mAttributeError\u001b[0m                            Traceback (most recent call last)",
      "Cell \u001b[0;32mIn[1], line 8\u001b[0m\n\u001b[1;32m      6\u001b[0m p2 \u001b[38;5;241m=\u001b[39m Person()\n\u001b[1;32m      7\u001b[0m p2\u001b[38;5;241m.\u001b[39mgreet()  \u001b[38;5;66;03m# Output: Hello!\u001b[39;00m\n\u001b[0;32m----> 8\u001b[0m \u001b[43mp2\u001b[49m\u001b[38;5;241;43m.\u001b[39;49m\u001b[43mmessage\u001b[49m  \u001b[38;5;66;03m# This will raise an AttributeError because message is not an attribute of the instance\u001b[39;00m\n",
      "\u001b[0;31mAttributeError\u001b[0m: 'Person' object has no attribute 'message'"
     ]
    }
   ],
   "source": [
    "class Person:\n",
    "    def greet(self):\n",
    "        message = \"Hello!\"  # local variable\n",
    "        print(message)\n",
    "# message is a local variable within the greet method\n",
    "p2 = Person()\n",
    "p2.greet()  # Output: Hello!\n",
    "p2.message  # This will raise an AttributeError because message is not an attribute of the instance"
   ]
  },
  {
   "cell_type": "code",
   "execution_count": 3,
   "id": "0bd368e8",
   "metadata": {},
   "outputs": [
    {
     "name": "stdout",
     "output_type": "stream",
     "text": [
      "Alice\n",
      "Bob\n",
      "Human\n",
      "Human\n",
      "Human\n"
     ]
    }
   ],
   "source": [
    "#instance variable v/s static variable\n",
    "\n",
    "\n",
    "class Person:\n",
    "    species='Human'\n",
    "    def __init__(self,name):\n",
    "        self.name=name\n",
    "p1=Person('Alice')\n",
    "p2=Person('Bob')\n",
    "print(p1.name)  # Output: Alice\n",
    "print(p2.name)  # Output: Bob\n",
    "print(p1.species)  # Output: Human\n",
    "print(p2.species)  # Output: Human\n",
    "print(Person.species)  # Output: Human"
   ]
  },
  {
   "cell_type": "code",
   "execution_count": 2,
   "id": "6c700af6",
   "metadata": {},
   "outputs": [
    {
     "name": "stdout",
     "output_type": "stream",
     "text": [
      "Person created: Alice. Total count: 1\n",
      "Person created: Bob. Total count: 2\n",
      "Name: Alice, count: 2\n",
      "Name: Bob, count: 2\n"
     ]
    }
   ],
   "source": [
    "class Person:\n",
    "    count = 0  # Class variable\n",
    "\n",
    "    def __init__(self, name):\n",
    "        self.name = name\n",
    "        Person.count += 1  # Correct way to update class variable\n",
    "        print(f\"Person created: {self.name}. Total count: {Person.count}\")\n",
    "\n",
    "    def info(self):  # Instance method\n",
    "        print(f\"Name: {self.name}, count: {Person.count}\")\n",
    "\n",
    "\n",
    "# Creating instances\n",
    "p1 = Person(\"Alice\")\n",
    "p2 = Person(\"Bob\")\n",
    "\n",
    "# Using instance method\n",
    "p1.info()\n",
    "p2.info()\n"
   ]
  },
  {
   "cell_type": "code",
   "execution_count": 3,
   "id": "386399a1",
   "metadata": {},
   "outputs": [
    {
     "name": "stdout",
     "output_type": "stream",
     "text": [
      "Human\n",
      "Human\n"
     ]
    }
   ],
   "source": [
    "#class method example\n",
    "class Person:\n",
    "    species = 'Human'  # Class variable\n",
    "\n",
    "    def __init__(self, name):\n",
    "        self.name = name\n",
    "\n",
    "    @classmethod\n",
    "    def get_species(cls):\n",
    "        return cls.species  # Accessing class variable using cls\n",
    "    \n",
    "# Creating an instance\n",
    "p1 = Person(\"Alice\")\n",
    "# Accessing class variable through class method\n",
    "print(Person.get_species())  # Output: Human\n",
    "# Accessing class variable through instance\n",
    "print(p1.get_species())  # Output: Human\n",
    "\n"
   ]
  },
  {
   "cell_type": "code",
   "execution_count": 7,
   "id": "a427f92d",
   "metadata": {},
   "outputs": [
    {
     "name": "stdout",
     "output_type": "stream",
     "text": [
      "Hi, I'm Alice and I'm 30 years old.\n",
      "I am an adult.\n",
      "Hi, I'm Bob and I'm 17 years old.\n",
      "Total people created: 2\n",
      "True\n",
      "False\n",
      "Total people created: 2\n"
     ]
    }
   ],
   "source": [
    "class Person:\n",
    "    count = 0  # Class variable to count number of people\n",
    "\n",
    "    def __init__(self, name, age):\n",
    "        self.name = name      # Instance variable\n",
    "        self.age = age\n",
    "        Person.count += 1     # Updating class variable\n",
    "     # Static Method\n",
    "    @staticmethod\n",
    "    def is_adult(age):\n",
    "        return age >= 18\n",
    "    # Instance Method\n",
    "    def introduce(self):\n",
    "        print(f\"Hi, I'm {self.name} and I'm {self.age} years old.\")\n",
    "        if(Person.is_adult(self.age)):\n",
    "            print(\"I am an adult.\")\n",
    "\n",
    "    # Class Method\n",
    "    @classmethod\n",
    "    def total_people(cls):\n",
    "        print(f\"Total people created: {cls.count}\")\n",
    "\n",
    "   \n",
    "    \n",
    "\n",
    "p1= Person(\"Alice\", 30)\n",
    "p2 = Person(\"Bob\", 17)\n",
    "p1.introduce()  # Output: Hi, I'm Alice and I'm 30 years old. I am an adult.\n",
    "p2.introduce()  # Output: Hi, I'm Bob and I'm 17 years old.\n",
    "Person.total_people()  # Output: Total people created: 2\n",
    "print(Person.is_adult(20))  # Output: True\n",
    "print(Person.is_adult(15))  # Output: False\n",
    "# Using the class method to access class variable\n",
    "print(f\"Total people created: {Person.count}\")  # Output: Total people created: 2\n",
    "\n"
   ]
  },
  {
   "cell_type": "code",
   "execution_count": 2,
   "id": "b9826886",
   "metadata": {},
   "outputs": [
    {
     "name": "stdout",
     "output_type": "stream",
     "text": [
      "{'name': 'Alice', 'age': 30, 'address': 'Chandani Chowk'}\n",
      "{'name': 'Alice', 'age': 30, 'address': 'Karol Baugh'}\n"
     ]
    }
   ],
   "source": [
    "#Instance ethod creating an attribute and then dictionary of that object \n",
    "class Person:\n",
    "    def __init__(self, name, age):\n",
    "        self.name = name\n",
    "        self.age = age\n",
    "\n",
    "    def fun(self):\n",
    "        self.address=\"Chandani Chowk\"\n",
    "obj1=Person(\"Alice\", 30)\n",
    "obj1.fun()\n",
    "print(obj1.__dict__)  # Output: {'name': 'Alice', 'age': 30, 'address': 'Chandani\n",
    "\n",
    "obj1.address='Karol Baugh'\n",
    "print(obj1.__dict__)  # Output: {'name': 'Alice', 'age': 30, 'address': 'Karol Baugh'}"
   ]
  },
  {
   "cell_type": "code",
   "execution_count": 3,
   "id": "523008b2",
   "metadata": {},
   "outputs": [
    {
     "name": "stdout",
     "output_type": "stream",
     "text": [
      "Name: Alice, Age: 30, Address: Unknown\n",
      "Name: Alice, Age: 30, Address: 123 Main St\n",
      "Alice\n",
      "30\n",
      "Error: 'Person' object has no attribute '__address'\n",
      "123 Main St\n"
     ]
    }
   ],
   "source": [
    "#public private protected attributes\n",
    "class Person:\n",
    "    def __init__(self, name, age):\n",
    "        self.name = name          # Public attribute\n",
    "        self._age = age          # Protected attribute\n",
    "        self.__address = \"Unknown\"  # Private attribute\n",
    "\n",
    "    def get_address(self):\n",
    "        return self.__address  # Method to access private attribute\n",
    "\n",
    "    def set_address(self, address):\n",
    "        self.__address = address  # Method to modify private attribute\n",
    "    def display_info(self):\n",
    "        print(f\"Name: {self.name}, Age: {self._age}, Address: {self.get_address()}\")        \n",
    "    \n",
    "\n",
    "# Creating an instance of Person\n",
    "p1 = Person(\"Alice\", 30)\n",
    "p1.display_info()  # Output: Name: Alice, Age: 30, Address: Unknown\n",
    "p1.set_address(\"123 Main St\")\n",
    "p1.display_info()  # Output: Name: Alice, Age: 30, Address: 123 Main St\n",
    "# Accessing public and protected attributes\n",
    "print(p1.name)  # Output: Alice\n",
    "print(p1._age)  # Output: 30 (Protected attribute, should be accessed with caution)\n",
    "# Attempting to access private attribute directly (will raise an error) \n",
    "try:\n",
    "    print(p1.__address)  # Raises AttributeError\n",
    "except AttributeError as e:\n",
    "    print(f\"Error: {e}\")\n",
    "# Accessing private attribute using the getter method\n",
    "print(p1.get_address())  # Output: 123 Main St"
   ]
  },
  {
   "cell_type": "code",
   "execution_count": 20,
   "id": "a8d6c891",
   "metadata": {},
   "outputs": [
    {
     "name": "stdout",
     "output_type": "stream",
     "text": [
      "Name: Bob, Age: 40\n",
      "Owner Name: Bob Owner Age: 40\n",
      "{'name': 'Alice', '_age': 30}\n",
      "70\n",
      "{'name': 'Alice', '_age': 30, 'age': 70}\n",
      "50\n",
      "Name: Alice, Age: 30\n",
      "Owner Name: Bob Owner Age: 50\n",
      "Name: Bob, Age: 50\n",
      "{'name': 'Alice', '_age': 90, 'age': 70}\n",
      "\n",
      "\n",
      "\n",
      "\n",
      "\n",
      "{'name': 'Bob', '_age': 50}\n",
      "{'name': 'Bob', '_age': 50, 'age': 100}\n"
     ]
    }
   ],
   "source": [
    "# Base class with a protected attribute\n",
    "class Person:\n",
    "    def __init__(self, name, age):\n",
    "        self.name = name\n",
    "        self._age = age  # Protected attribute\n",
    "    def display_info(self):\n",
    "        print(f\"Name: {self.name}, Age: {self._age}\")  # _age accessed in subclas\n",
    "\n",
    "# Subclass accessing the protected attribute\n",
    "class Teacher(Person):\n",
    "    def display_info(self):\n",
    "        print(f\"Name: {self.name}, Age: {self._age}\")  # _age accessed in subclass\n",
    "\n",
    "# Another unrelated class\n",
    "class Animal:\n",
    "    def __init__(self, species, owner: Person):\n",
    "        self.species = species\n",
    "        self.is_wild = True \n",
    "        self.owner = owner\n",
    "\n",
    "    def show_owner_info(self):\n",
    "        print(f\"Owner Name: {self.owner.name}\",end=' ')\n",
    "        print(f\"Owner Age: {self.owner._age}\")  # ⚠️ Technically allowed, but discouraged\n",
    "p=Person(\"Alice\", 30)\n",
    "t = Teacher(\"Bob\", 40)\n",
    "\n",
    "#print(p.age)  # Error: 'Person' object has no attribute 'age'\n",
    "  \n",
    "t.display_info()\n",
    "a = Animal(\"Dog\", t)\n",
    "\n",
    "a.show_owner_info()  # Output: Owner Name: Alice, Owner Age (Protected): 30\n",
    "\n",
    "print(p.__dict__)\n",
    "p.age=70\n",
    "print(p.age) \n",
    "print(p.__dict__) # Output: 70 (Protected attribute can be modified, but should be done cautiously)\n",
    "\n",
    "t._age=50\n",
    "print(t._age) \n",
    "p.display_info() # Output: 50 (Protected attribute can be modified, but should be done cautiously)\n",
    "a.show_owner_info()  # Output: Owner Name: Alice, Owner Age (Protected): 30\n",
    "t.display_info()\n",
    "\n",
    "p._age=90\n",
    "print(p.__dict__)\n",
    "\n",
    "print('\\n\\n\\n\\n')\n",
    "print(t.__dict__)\n",
    "t.age=100\n",
    "print(t.__dict__)  # Output: {'name': 'Bob', '_age': 100} (Protected attribute modified)\n",
    "        \n"
   ]
  },
  {
   "cell_type": "code",
   "execution_count": 22,
   "id": "f3bc93dd",
   "metadata": {},
   "outputs": [
    {
     "name": "stdout",
     "output_type": "stream",
     "text": [
      "Name: Alice, Age: 30\n",
      "Name: Bob, Age: 40\n",
      "Subject: Mathematics\n",
      "Error: 'Person' object has no attribute 'display_info'\n"
     ]
    }
   ],
   "source": [
    "#protected method example\n",
    "class Person:\n",
    "    def __init__(self, name, age):\n",
    "        self.name = name\n",
    "        self._age = age  # Protected attribute\n",
    "\n",
    "    def _display_info(self):  # Protected method\n",
    "        print(f\"Name: {self.name}, Age: {self._age}\")\n",
    "class Teacher(Person):\n",
    "    def __init__(self, name, age, subject):\n",
    "        super().__init__(name, age)\n",
    "        self.subject = subject\n",
    "\n",
    "    def display_teacher_info(self):\n",
    "        self._display_info()  # Accessing protected method\n",
    "        print(f\"Subject: {self.subject}\")\n",
    "# Creating instances\n",
    "p1 = Person(\"Alice\", 30)\n",
    "t1 = Teacher(\"Bob\", 40, \"Mathematics\")      \n",
    "p1._display_info()  # Output: Name: Alice, Age: 30 (Protected method accessed)\n",
    "t1.display_teacher_info()  # Output: Name: Bob, Age: 40, Subject: Mathematics (Protected method accessed)\n",
    "# Attempting to access protected method from outside the class (not recommended)\n",
    "try:\n",
    "    p1.display_info()  # This is allowed, but discouraged\n",
    "except AttributeError as e:     \n",
    "    print(f\"Error: {e}\")"
   ]
  },
  {
   "cell_type": "code",
   "execution_count": 1,
   "id": "0ea1df6f",
   "metadata": {},
   "outputs": [
    {
     "name": "stdout",
     "output_type": "stream",
     "text": [
      "Name: Alice, Age: 30\n",
      "Error: 'Person' object has no attribute '__age'\n",
      "30\n",
      "Error: 'Person' object has no attribute '__display_info'\n",
      "Name: Alice, Age: 30\n"
     ]
    }
   ],
   "source": [
    "# private attribute and method example\n",
    "class Person:\n",
    "    def __init__(self, name, age):\n",
    "        self.name = name\n",
    "        self.__age = age  # Private attribute\n",
    "\n",
    "    def __display_info(self):  # Private method\n",
    "        print(f\"Name: {self.name}, Age: {self.__age}\")\n",
    "\n",
    "    def show_info(self):  # Public method to access private method\n",
    "        self.__display_info()\n",
    "# Creating an instance\n",
    "p1 = Person(\"Alice\", 30)\n",
    "p1.show_info()  # Output: Name: Alice, Age: 30 (Private method accessed through public method)      \n",
    "# Attempting to access private attribute directly (will raise an error)\n",
    "try:\n",
    "    print(p1.__age)  # Raises AttributeError\n",
    "except AttributeError as e:\n",
    "    print(f\"Error: {e}\")\n",
    "# Accessing private attribute using name mangling\n",
    "try:\n",
    "    print(p1._Person__age)  # Output: 30 (Not recommended, but possible)\n",
    "except AttributeError as e:\n",
    "    print(f\"Error: {e}\")\n",
    "# Attempting to access private method directly (will raise an error)    \n",
    "try:\n",
    "    p1.__display_info()  # Raises AttributeError\n",
    "except AttributeError as e:\n",
    "    print(f\"Error: {e}\")\n",
    "# Accessing private method using name mangling\n",
    "try:\n",
    "    p1._Person__display_info()  # Output: Name: Alice, Age: 30 (Not recommended, but possible)\n",
    "except AttributeError as e:\n",
    "    print(f\"Error: {e}\")\n"
   ]
  },
  {
   "cell_type": "code",
   "execution_count": 5,
   "id": "8864b214",
   "metadata": {},
   "outputs": [
    {
     "name": "stdout",
     "output_type": "stream",
     "text": [
      "Dog makes a sound.\n",
      "Buddy barks!\n",
      "Name: Buddy, Age: 5\n",
      "1 Error: 'Dog' object has no attribute '__age'\n",
      "2 5\n",
      "3\n",
      "3 Error: 'Dog' object has no attribute '__display_info'\n",
      "4\n",
      "4 Error: 'Dog' object has no attribute '_Dog__show_info'\n",
      "5\n",
      "Name: Buddy, Age: 5\n"
     ]
    }
   ],
   "source": [
    "# Inheritance example\n",
    "class Animal:\n",
    "    def __init__(self, species):\n",
    "        self.species = species\n",
    "\n",
    "    def make_sound(self):\n",
    "        print(f\"{self.species} makes a sound.\")\n",
    "class Dog(Animal):\n",
    "    def __init__(self, name, age):\n",
    "        super().__init__(\"Dog\")\n",
    "        self.name = name\n",
    "        self.__age = age  # Private attribute\n",
    "\n",
    "    def bark(self):\n",
    "        print(f\"{self.name} barks!\")\n",
    "\n",
    "    def show_info(self):  # Public method to access private attribute\n",
    "        print(f\"Name: {self.name}, Age: {self._Dog__age}\")\n",
    "# Creating an instance of Dog\n",
    "d1 = Dog(\"Buddy\", 5)            \n",
    "d1.make_sound()  # Output: Dog makes a sound.\n",
    "d1.bark()  # Output: Buddy barks!\n",
    "d1.show_info()  # Output: Name: Buddy, Age: 5\n",
    "# Attempting to access private attribute directly (will raise an error)\n",
    "\n",
    "try:\n",
    "    print(1,d1.__age)  # Raises AttributeError\n",
    "except AttributeError as e:\n",
    "    print(1,f\"Error: {e}\")\n",
    "# Accessing private attribute using name mangling\n",
    "try:\n",
    "    print(2,d1._Dog__age)  # Output: 5 (Not recommended, but possible)\n",
    "except AttributeError as e:\n",
    "    print(2,f\"Error: {e}\")\n",
    "# Attempting to access private method directly (will raise an error)    \n",
    "try:\n",
    "    print(3)\n",
    "    d1.__display_info()  # Raises AttributeError\n",
    "except AttributeError as e:\n",
    "    print(3,f\"Error: {e}\")\n",
    "# Accessing private method using name mangling\n",
    "try:\n",
    "    print(4)\n",
    "    d1._Dog__show_info()  # Raises AttributeError\n",
    "except AttributeError as e:\n",
    "    print(4,f\"Error: {e}\")\n",
    "# Accessing private method using public method\n",
    "try:\n",
    "    print(5)\n",
    "    d1.show_info()  # Output: Name: Buddy, Age: 5 (Private method accessed through public method)\n",
    "except AttributeError as e:\n",
    "    print(5,f\"Error: {e}\")    \n",
    "   \n"
   ]
  },
  {
   "cell_type": "code",
   "execution_count": null,
   "id": "f1f39289",
   "metadata": {},
   "outputs": [
    {
     "name": "stdout",
     "output_type": "stream",
     "text": [
      "4 + 6i\n",
      "2 + 2i\n",
      "-5 + 10i\n",
      "2.2 - 0.4i\n",
      "3 + 4i\n"
     ]
    }
   ],
   "source": [
    "#operator overloading example\n",
    "class Complex:\n",
    "    def __init__(self,real,img):\n",
    "        self.real=real\n",
    "        self.img=img\n",
    "    def __add__(self,other):\n",
    "        return Complex(self.real + other.real, self.img + other.img)\n",
    "    def __sub__(self,other):\n",
    "        return Complex(self.real - other.real, self.img - other.img)\n",
    "    def __mul__(self,other):    \n",
    "        return Complex(self.real * other.real - self.img * other.img, \n",
    "                       self.real * other.img + self.img * other.real)\n",
    "    def __truediv__(self,other):    \n",
    "        denom = other.real**2 + other.img**2\n",
    "        return Complex((self.real * other.real + self.img * other.img) / denom,\n",
    "                       (self.img * other.real - self.real * other.img) / denom)\n",
    "    def __str__(self): \n",
    "        return f\"{self.real} + {self.img}i\" if self.img >= 0 else f\"{self.real} - {-self.img}i\"\n",
    "    def __repr__(self): \n",
    "        return f\"Complex({self.real}, {self.img})\"\n",
    "\n",
    "c1=Complex(3, 4)\n",
    "c2=Complex(1, 2)\n",
    "print(c1 + c2)  # Output: 4 + 6i\n",
    "print(c1 - c2)  # Output: 2 + 2i\n",
    "print(c1 * c2)  # Output: -5 + 10i\n",
    "print(c1 / c2)  # Output: 2.2 + 0.4i\n",
    "print(c1)  # Output: 3 + 4i         "
   ]
  },
  {
   "cell_type": "code",
   "execution_count": null,
   "id": "73f6d88a",
   "metadata": {},
   "outputs": [
    {
     "name": "stdout",
     "output_type": "stream",
     "text": [
      "10/8\n",
      "-2/8\n",
      "3/8\n",
      "4/6\n",
      "1/2\n"
     ]
    }
   ],
   "source": [
    "class Fraction:\n",
    "    def __init__(self, numerator, denominator):\n",
    "        self.numerator = numerator\n",
    "        self.denominator = denominator\n",
    "\n",
    "    def __add__(self, other):\n",
    "        new_numerator = (self.numerator * other.denominator) + (other.numerator * self.denominator)\n",
    "        new_denominator = self.denominator * other.denominator\n",
    "        return Fraction(new_numerator, new_denominator)\n",
    "\n",
    "    def __sub__(self, other):\n",
    "        new_numerator = (self.numerator * other.denominator) - (other.numerator * self.denominator)\n",
    "        new_denominator = self.denominator * other.denominator\n",
    "        return Fraction(new_numerator, new_denominator)\n",
    "\n",
    "    def __mul__(self, other):\n",
    "        return Fraction(self.numerator * other.numerator, self.denominator * other.denominator)\n",
    "\n",
    "    def __truediv__(self, other):\n",
    "        return Fraction(self.numerator * other.denominator, self.denominator * other.numerator)\n",
    "\n",
    "    def __str__(self):\n",
    "        return f\"{self.numerator}/{self.denominator}\"\n",
    "    def __repr__(self):\n",
    "        return f\"Fraction({self.numerator}, {self.denominator})\"\n",
    "f1 = Fraction(1, 2)\n",
    "f2 = Fraction(3, 4)\n",
    "print(f1 + f2)  # Output: 5/4\n",
    "print(f1 - f2)  # Output: -1/4      \n",
    "print(f1 * f2)  # Output: 3/8\n",
    "print(f1 / f2)  # Output: 2/3\n",
    "print(f1)  # Output: 1/2\n"
   ]
  },
  {
   "cell_type": "code",
   "execution_count": null,
   "id": "cf5e34fe",
   "metadata": {},
   "outputs": [],
   "source": [
    "class Vector:\n",
    "    def __init__(self, x, y):\n",
    "        self.x = x\n",
    "        self.y = y\n",
    "\n",
    "    def __add__(self, other):\n",
    "        return Vector(self.x + other.x, self.y + other.y)\n",
    "\n",
    "    def __sub__(self, other):\n",
    "        return Vector(self.x - other.x, self.y - other.y)\n",
    "\n",
    "    def __mul__(self, scalar):\n",
    "        return Vector(self.x * scalar, self.y * scalar)\n",
    "\n",
    "    def __truediv__(self, scalar):\n",
    "        return Vector(self.x / scalar, self.y / scalar)\n",
    "\n",
    "    def __str__(self):\n",
    "        return f\"({self.x}, {self.y})\"\n",
    "    def __repr__(self):\n",
    "        return f\"Vector({self.x}, {self.y})\"\n",
    "v1 = Vector(3, 4)\n",
    "v2 = Vector(1, 2)\n",
    "print(v1 + v2)  # Output: (4, 6)    \n",
    "\n",
    "print(v1 - v2)  # Output: (2, 2)\n",
    "print(v1 * 2)  # Output: (6, 8)\n",
    "print(v1 / 2)  # Output: (1.5, 2.0)\n",
    "\n"
   ]
  },
  {
   "cell_type": "code",
   "execution_count": null,
   "id": "fe35eb22",
   "metadata": {},
   "outputs": [],
   "source": [
    "class Matrix:\n",
    "    def __init__(self, data):\n",
    "        self.data = data\n",
    "\n",
    "    def __add__(self, other):\n",
    "        return Matrix([[self.data[i][j] + other.data[i][j] for j in range(len(self.data[0]))] for i in range(len(self.data))])\n",
    "\n",
    "    def __sub__(self, other):\n",
    "        return Matrix([[self.data[i][j] - other.data[i][j] for j in range(len(self.data[0]))] for i in range(len(self.data))])\n",
    "\n",
    "    def __mul__(self, scalar):\n",
    "        return Matrix([[self.data[i][j] * scalar for j in range(len(self.data[0]))] for i in range(len(self.data))])\n",
    "\n",
    "    def __str__(self):\n",
    "        return '\\n'.join([' '.join(map(str, row)) for row in self.data])\n",
    "    def __repr__(self):\n",
    "        return f\"Matrix({self.data})\"\n",
    "m1 = Matrix([[1, 2], [3, 4]])\n",
    "m2 = Matrix([[5, 6], [7, 8]])\n",
    "print(m1 + m2)  # Output: 6 8\\n10 12\n",
    "print(m1 - m2)  # Output: -4 -4\\n-4 -4\n",
    "print(m1 * 2)  # Output: 2 4\\n6 8\n",
    "print(m1)  # Output: 1 2\\n3 4\n",
    "# Using the __repr__ method\n",
    "print(repr(m1))  # Output: Matrix([[1, 2], [3, 4]])\n"
   ]
  },
  {
   "cell_type": "code",
   "execution_count": null,
   "id": "67479488",
   "metadata": {},
   "outputs": [],
   "source": [
    "#return object , object as a passing parameter\n",
    "class Person:\n",
    "    def __init__(self, name, age):\n",
    "        self.name = name\n",
    "        self.age = age\n",
    "\n",
    "    def get_info(self):\n",
    "        return f\"Name: {self.name}, Age: {self.age}\"\n",
    "\n",
    "    @classmethod\n",
    "    def from_string(cls, info_str):\n",
    "        name, age = info_str.split(\", \")\n",
    "        return cls(name, int(age))\n",
    "\n",
    "    @staticmethod\n",
    "    def is_adult(age):\n",
    "        return age >= 18\n",
    "def create_person(info_str):\n",
    "    return Person.from_string(info_str)  # Returning an object of Person class\n",
    "def print_person_info(person):\n",
    "    print(person.get_info())  # Using the object passed as a parameter\n",
    "\n",
    "\n",
    "\n",
    "\n",
    "# Example usage\n",
    "info_str = \"Alice, 30\"\n",
    "p1 = create_person(info_str)  # Creating a Person object\n",
    "print_person_info(p1)  # Output: Name: Alice, Age: 30\n",
    "# Using the static method\n",
    "print(Person.is_adult(p1.age))  # Output: True\n",
    "# Using the class method to create another Person object\n",
    "p2 = Person.from_string(\"Bob, 17\")  \n"
   ]
  },
  {
   "cell_type": "code",
   "execution_count": null,
   "id": "f07316e9",
   "metadata": {},
   "outputs": [],
   "source": [
    "#return class object\n",
    "\n",
    "#OBJECT AS A PARAMETER"
   ]
  },
  {
   "cell_type": "code",
   "execution_count": 4,
   "id": "072d13d7",
   "metadata": {},
   "outputs": [
    {
     "ename": "NameError",
     "evalue": "name 'Person' is not defined",
     "output_type": "error",
     "traceback": [
      "\u001b[0;31m---------------------------------------------------------------------------\u001b[0m",
      "\u001b[0;31mNameError\u001b[0m                                 Traceback (most recent call last)",
      "Cell \u001b[0;32mIn[4], line 1\u001b[0m\n\u001b[0;32m----> 1\u001b[0m \u001b[38;5;28;01mclass\u001b[39;00m \u001b[38;5;21;01mPerson\u001b[39;00m:\n\u001b[1;32m      2\u001b[0m     \u001b[38;5;28;01mdef\u001b[39;00m \u001b[38;5;21m__init__\u001b[39m(\u001b[38;5;28mself\u001b[39m, name, age):\n\u001b[1;32m      3\u001b[0m         \u001b[38;5;28mself\u001b[39m\u001b[38;5;241m.\u001b[39mname \u001b[38;5;241m=\u001b[39m name\n",
      "Cell \u001b[0;32mIn[4], line 7\u001b[0m, in \u001b[0;36mPerson\u001b[0;34m()\u001b[0m\n\u001b[1;32m      4\u001b[0m     \u001b[38;5;28mself\u001b[39m\u001b[38;5;241m.\u001b[39mage \u001b[38;5;241m=\u001b[39m age\n\u001b[1;32m      6\u001b[0m \u001b[38;5;66;03m# Class method that accepts another Person object\u001b[39;00m\n\u001b[0;32m----> 7\u001b[0m \u001b[38;5;28;01mdef\u001b[39;00m \u001b[38;5;21mcompare_age\u001b[39m(\u001b[38;5;28mself\u001b[39m, other_person : \u001b[43mPerson\u001b[49m):\n\u001b[1;32m      8\u001b[0m     \u001b[38;5;28;01mif\u001b[39;00m \u001b[38;5;28mself\u001b[39m\u001b[38;5;241m.\u001b[39mage \u001b[38;5;241m>\u001b[39m other_person\u001b[38;5;241m.\u001b[39mage:\n\u001b[1;32m      9\u001b[0m         \u001b[38;5;28;01mreturn\u001b[39;00m \u001b[38;5;124mf\u001b[39m\u001b[38;5;124m\"\u001b[39m\u001b[38;5;132;01m{\u001b[39;00m\u001b[38;5;28mself\u001b[39m\u001b[38;5;241m.\u001b[39mname\u001b[38;5;132;01m}\u001b[39;00m\u001b[38;5;124m is older than \u001b[39m\u001b[38;5;132;01m{\u001b[39;00mother_person\u001b[38;5;241m.\u001b[39mname\u001b[38;5;132;01m}\u001b[39;00m\u001b[38;5;124m\"\u001b[39m\n",
      "\u001b[0;31mNameError\u001b[0m: name 'Person' is not defined"
     ]
    }
   ],
   "source": [
    "class Person:\n",
    "    def __init__(self, name, age):\n",
    "        self.name = name\n",
    "        self.age = age\n",
    "\n",
    "    # Class method that accepts another Person object\n",
    "    def compare_age(self, other_person : Person):\n",
    "        if self.age > other_person.age:\n",
    "            return f\"{self.name} is older than {other_person.name}\"\n",
    "        elif self.age < other_person.age:\n",
    "            return f\"{other_person.name} is older than {self.name}\"\n",
    "        else:\n",
    "            return f\"{self.name} and {other_person.name} are of the same age\"\n",
    "\n",
    "    # Class method that returns a new Person object\n",
    "    def clone(self):\n",
    "        p= Person(self.name, self.age)\n",
    "        return p\n",
    "\n",
    "\n",
    "# Non-class function that accepts a Person object\n",
    "def greet(person:Person):\n",
    "    print(f\"Hello, {person.name}! You are {person.age} years old.\")\n",
    "\n",
    "# Non-class function that returns a Person object\n",
    "def create_person(name, age):\n",
    "    temp_p=Person(name, age)\n",
    "    return temp_p  \n",
    "\n",
    "\n",
    "# Usage\n",
    "p1 = Person(\"Alice\", 30)\n",
    "p2 = Person(\"Bob\", 25)\n",
    "\n",
    "# Passing object to class method\n",
    "print(p1.compare_age(p2)) \n",
    "\n",
    "# Passing object to non-class function\n",
    "greet(p1)  \n",
    "\n",
    "# Returning object from class method\n",
    "p3 = p1.clone()\n",
    "print(f\"Cloned Person: {p3.name}, {p3.age}\")  \n",
    "\n",
    "# Returning object from non-class function\n",
    "p4 = create_person(\"Charlie\", 40)\n",
    "greet(p4) \n"
   ]
  },
  {
   "cell_type": "code",
   "execution_count": 5,
   "id": "954c6e6f",
   "metadata": {},
   "outputs": [
    {
     "name": "stdout",
     "output_type": "stream",
     "text": [
      "Alice is older than Bob\n",
      "Hello, Alice! You are 30 years old.\n",
      "Cloned Person: Person(name=Alice, age=30)\n",
      "Hello, Charlie! You are 40 years old.\n"
     ]
    }
   ],
   "source": [
    "class Person:\n",
    "    def __init__(self, name: str, age: int):\n",
    "        self.name = name\n",
    "        self.age = age\n",
    "\n",
    "    # Class method that accepts another Person object\n",
    "    def compare_age(self, other_person: 'Person') -> str:\n",
    "        if self.age > other_person.age:\n",
    "            return f\"{self.name} is older than {other_person.name}\"\n",
    "        elif self.age < other_person.age:\n",
    "            return f\"{other_person.name} is older than {self.name}\"\n",
    "        else:\n",
    "            return f\"{self.name} and {other_person.name} are of the same age\"\n",
    "\n",
    "    # Class method that returns a new Person object\n",
    "    def clone(self) -> 'Person':\n",
    "        return Person(self.name, self.age)\n",
    "\n",
    "    def __str__(self):\n",
    "        return f\"Person(name={self.name}, age={self.age})\"\n",
    "\n",
    "\n",
    "# Non-class function that accepts a Person object\n",
    "def greet(person: Person) -> None:\n",
    "    print(f\"Hello, {person.name}! You are {person.age} years old.\")\n",
    "\n",
    "# Non-class function that returns a Person object\n",
    "def create_person(name: str, age: int) -> Person:\n",
    "    return Person(name, age)\n",
    "\n",
    "\n",
    "# Usage\n",
    "p1 = Person(\"Alice\", 30)\n",
    "p2 = Person(\"Bob\", 25)\n",
    "\n",
    "# Passing object to class method\n",
    "print(p1.compare_age(p2)) \n",
    "\n",
    "# Passing object to non-class function\n",
    "greet(p1)  \n",
    "\n",
    "# Returning object from class method\n",
    "p3 = p1.clone()\n",
    "print(f\"Cloned Person: {p3}\")  \n",
    "\n",
    "# Returning object from non-class function\n",
    "p4 = create_person(\"Charlie\", 40)\n",
    "greet(p4) \n"
   ]
  },
  {
   "cell_type": "code",
   "execution_count": 7,
   "id": "49eb87ef",
   "metadata": {},
   "outputs": [],
   "source": [
    "class person:\n",
    "    def __init__(self, name, age):\n",
    "        self.name = name\n",
    "        self.age = age\n",
    "\n",
    "    # Class method that accepts another Person object\n",
    "    def compare_age(self, other_person : Person):\n",
    "        if self.age > other_person.age:\n",
    "            return f\"{self.name} is older than {other_person.name}\"\n",
    "        elif self.age < other_person.age:\n",
    "            return f\"{other_person.name} is older than {self.name}\"\n",
    "        else:\n",
    "            return f\"{self.name} and {other_person.name} are of the same age\"\n",
    "\n",
    "    # Class method that returns a new Person object\n",
    "    def clone(self,p:Person):\n",
    "        p= Person(p.name, p.age)\n",
    "        return p\n",
    "\n",
    "\n",
    "# Non-class function that accepts a Person object\n",
    "def greet(person:Person):\n",
    "    print(f\"Hello, {person.name}! You are {person.age} years old.\")\n",
    "\n",
    "# Non-class function that returns a Person object\n",
    "def create_person(name, age):\n",
    "    temp_p=Person(name, age)\n",
    "    return temp_p  "
   ]
  },
  {
   "cell_type": "code",
   "execution_count": 11,
   "id": "19178dde",
   "metadata": {},
   "outputs": [
    {
     "name": "stdout",
     "output_type": "stream",
     "text": [
      "h 8\n"
     ]
    }
   ],
   "source": [
    "class person:\n",
    "    def __init__(self, name, age):\n",
    "        self.name = name\n",
    "        self.age = age\n",
    "\n",
    "    # Class method that accepts another Person object\n",
    "    def compare_age(self, other_person : Person):\n",
    "        if self.age > other_person.age:\n",
    "            return f\"{self.name} is older than {other_person.name}\"\n",
    "        elif self.age < other_person.age:\n",
    "            return f\"{other_person.name} is older than {self.name}\"\n",
    "        else:\n",
    "            return f\"{self.name} and {other_person.name} are of the same age\"\n",
    "\n",
    "    # Class method that returns a new Person object\n",
    "    def clone(p:Person):\n",
    "        p= Person(p.name, p.age)\n",
    "        return p\n",
    "\n",
    "\n",
    "# Non-class function that accepts a Person object\n",
    "def greet(person:Person):\n",
    "    print(f\"Hello, {person.name}! You are {person.age} years old.\")\n",
    "\n",
    "# Non-class function that returns a Person object\n",
    "def create_person(name, age):\n",
    "    temp_p=Person(name, age)\n",
    "    return temp_p  \n",
    "\n",
    "\n",
    "\n",
    "p=person('h',8)\n",
    "d=p.clone()\n",
    "print(d.name, d.age)  # Output: h 8"
   ]
  },
  {
   "cell_type": "code",
   "execution_count": 12,
   "id": "cf0b05ac",
   "metadata": {},
   "outputs": [
    {
     "name": "stdout",
     "output_type": "stream",
     "text": [
      "Person Alice created.\n",
      "Person Alice deleted.\n",
      "Person Bob created.\n",
      "Person Bob deleted.\n"
     ]
    }
   ],
   "source": [
    "#constructor distructor example\n",
    "class Person:\n",
    "    def __init__(self, name, age):\n",
    "        self.name = name\n",
    "        self.age = age\n",
    "        print(f\"Person {self.name} created.\")\n",
    "\n",
    "    def __del__(self):\n",
    "        print(f\"Person {self.name} deleted.\")\n",
    "# Creating an instance of Person\n",
    "p1 = Person(\"Alice\", 30)  # Output: Person Alice created.\n",
    "# Deleting the instance     \n",
    "del p1  # Output: Person Alice deleted.\n",
    "# Creating another instance of Person\n",
    "p2 = Person(\"Bob\", 25)  # Output: Person Bob created.\n",
    "# Deleting the instance\n",
    "del p2  # Output: Person Bob deleted."
   ]
  },
  {
   "cell_type": "code",
   "execution_count": 7,
   "id": "88bc15cc",
   "metadata": {},
   "outputs": [
    {
     "name": "stdout",
     "output_type": "stream",
     "text": [
      "Dog makes a sound.\n",
      "Buddy barks!\n",
      "Name: Buddy, Age: 5, Species: Dog\n",
      "{'species': 'Dog', 'name': 'Buddy', 'age': 5}\n",
      "{'species': 'Cat'}\n"
     ]
    }
   ],
   "source": [
    "# a very basic inheritance exmaple\n",
    "class Animal:\n",
    "    def __init__(self, species):\n",
    "        self.species = species\n",
    "\n",
    "    def make_sound(self):\n",
    "        print(f\"{self.species} makes a sound.\")\n",
    "class Dog(Animal):\n",
    "    def __init__(self, name, age):\n",
    "        super().__init__(\"Dog\")  # Call the constructor of the base class\n",
    "        self.name = name\n",
    "        self.age = age\n",
    "\n",
    "    def bark(self):\n",
    "        print(f\"{self.name} barks!\")\n",
    "    def display_info(self):\n",
    "        print(f\"Name: {self.name}, Age: {self.age}, Species: {self.species}\")\n",
    "# Creating an instance of Dog\n",
    "d1 = Dog(\"Buddy\", 5)    \n",
    "d1.make_sound()  # Output: Dog makes a sound.\n",
    "d1.bark()  # Output: Buddy barks!\n",
    "d1.display_info()  # Output: Name: Buddy, Age: 5, Species: Dog\n",
    "\n",
    "\n",
    "print(d1.__dict__)\n",
    "a=Animal(\"Cat\")\n",
    "print(a.__dict__)  # Output: {'species': 'Cat'}\n",
    "\n"
   ]
  },
  {
   "cell_type": "code",
   "execution_count": null,
   "id": "5bef09c9",
   "metadata": {},
   "outputs": [
    {
     "name": "stdout",
     "output_type": "stream",
     "text": [
      "Dog makes a sound.\n",
      "Buddy barks!\n",
      "Name: Buddy, Age: 5, Species: Dog, Weight: 20\n",
      "{'species': 'Dog', '_age': 5, '_Animal__weight': 20, 'name': 'Buddy'}\n",
      "Error: 'Dog' object has no attribute '__weight'\n",
      "20\n",
      "5\n",
      "Dog\n",
      "Person Alice created.\n",
      "Person Alice deleted.\n"
     ]
    }
   ],
   "source": [
    "\n",
    "class Animal:\n",
    "    def __init__(self, species):\n",
    "        self.species = species  # Public attribute\n",
    "        self._age = 0           # Protected attribute\n",
    "        self.__weight = 0       # Private attribute\n",
    "\n",
    "    def make_sound(self):\n",
    "        print(f\"{self.species} makes a sound.\")\n",
    "\n",
    "    def set_weight(self, weight):\n",
    "        self.__weight = weight  # Method to set private attribute\n",
    "\n",
    "    def get_weight(self):\n",
    "        return self.__weight  # Method to get private attribute\n",
    "class Dog(Animal):\n",
    "    def __init__(self, name, age):\n",
    "        super().__init__(\"Dog\")  # Call the constructor of the base class\n",
    "        self.name = name         # Public attribute\n",
    "        self._age = age          # Protected attribute\n",
    "\n",
    "    def bark(self):\n",
    "        print(f\"{self.name} barks!\")\n",
    "\n",
    "    def display_info(self):\n",
    "        print(f\"Name: {self.name}, Age: {self._age}, Species: {self.species}, Weight: {self.get_weight()}\")\n",
    "# Creating an instance of Dog\n",
    "d1 = Dog(\"Buddy\", 5)\n",
    "d1.make_sound()  # Output: Dog makes a sound.\n",
    "d1.bark()  # Output: Buddy barks!\n",
    "d1.set_weight(20)  # Setting private attribute using method\n",
    "d1.display_info()  # Output: Name: Buddy, Age: 5, Species: Dog, Weight: 20\n",
    "print(d1.__dict__)  # Output: {'name': 'Buddy', '_age': 5, 'species': 'Dog', '_Animal__weight': 20}\n",
    "# Attempting to access private attribute directly (will raise an error) \n",
    "try:\n",
    "    print(d1.__weight)  # Raises AttributeError\n",
    "except AttributeError as e:\n",
    "    print(f\"Error: {e}\")\n",
    "# Accessing private attribute using name mangling   \n",
    "try:\n",
    "    print(d1._Animal__weight)  # Output: 20 (Not recommended, but possible)\n",
    "except AttributeError as e:\n",
    "    print(f\"Error: {e}\")\n",
    "# Attempting to access protected attribute directly (should be avoided, but allowed)    \n",
    "try:\n",
    "    print(d1._age)  # Output: 5 (Protected attribute, should be accessed with caution)\n",
    "except AttributeError as e:\n",
    "    print(f\"Error: {e}\")\n",
    "# Accessing public attribute directly\n",
    "print(d1.species)  # Output: Dog (Public attribute can be accessed directly)    \n",
    "# Example of a class with a constructor and destructor\n",
    "class Person:\n",
    "    def __init__(self, name, age):\n",
    "        self.name = name\n",
    "        self.age = age\n",
    "        print(f\"Person {self.name} created.\")\n",
    "\n",
    "    def __del__(self):\n",
    "        print(f\"Person {self.name} deleted.\")\n",
    "# Creating an instance of Person\n",
    "p1 = Person(\"Alice\", 30)  # Output: Person Alice created.\n",
    "# Deleting the instance\n",
    "del p1  # Output: Person Alice deleted. \n",
    "# Creating another instance of Person"
   ]
  },
  {
   "cell_type": "code",
   "execution_count": 9,
   "id": "1a76c355",
   "metadata": {},
   "outputs": [],
   "source": [
    "class Parent:\n",
    "    def __init__(self):\n",
    "        self.name = \"Public Attribute\"\n",
    "    \n",
    "    def display(self):\n",
    "        print(\"Public Method\")\n",
    "\n",
    "class Child(Parent):\n",
    "    def show(self):\n",
    "        print(self.name)  # ✅ Accessible\n",
    "        self.display()    # ✅ Accessible\n"
   ]
  },
  {
   "cell_type": "code",
   "execution_count": 10,
   "id": "1212edd0",
   "metadata": {},
   "outputs": [],
   "source": [
    "class Parent:\n",
    "    def __init__(self):\n",
    "        self._age = 45  # Protected attribute\n",
    "    \n",
    "    def _protected_method(self):  # Protected method\n",
    "        print(\"Protected Method\")\n",
    "\n",
    "class Child(Parent):\n",
    "    def show(self):\n",
    "        print(self._age)           # ✅ Accessible\n",
    "        self._protected_method()   # ✅ Accessible\n"
   ]
  },
  {
   "cell_type": "code",
   "execution_count": 11,
   "id": "f0c21665",
   "metadata": {},
   "outputs": [],
   "source": [
    "class Parent:\n",
    "    def __init__(self):\n",
    "        self.__salary = 50000  # Private attribute\n",
    "\n",
    "    def __private_method(self):  # Private method\n",
    "        print(\"Private Method\")\n",
    "\n",
    "class Child(Parent):\n",
    "    def show(self):\n",
    "        # print(self.__salary)           ❌ AttributeError\n",
    "        # self.__private_method()        ❌ AttributeError\n",
    "\n",
    "        # ✅ Correct (using name mangling)\n",
    "        print(self._Parent__salary)\n",
    "        self._Parent__private_method()\n"
   ]
  },
  {
   "cell_type": "code",
   "execution_count": 12,
   "id": "e85af8a5",
   "metadata": {},
   "outputs": [
    {
     "name": "stdout",
     "output_type": "stream",
     "text": [
      "Animal makes a sound\n",
      "Dog barks\n"
     ]
    }
   ],
   "source": [
    "#Types of inheritance\n",
    "#single inheritance\n",
    "class Animal:\n",
    "    def sound(self):\n",
    "        print(\"Animal makes a sound\")\n",
    "\n",
    "class Dog(Animal):\n",
    "    def bark(self):\n",
    "        print(\"Dog barks\")\n",
    "\n",
    "d = Dog()\n",
    "d.sound()  # Inherited from Animal\n",
    "d.bark()\n",
    "\n"
   ]
  },
  {
   "cell_type": "code",
   "execution_count": 13,
   "id": "edbddc95",
   "metadata": {},
   "outputs": [
    {
     "name": "stdout",
     "output_type": "stream",
     "text": [
      "Gardening\n",
      "Singing\n"
     ]
    }
   ],
   "source": [
    "#multiple inheritance\n",
    "\n",
    "class Father:\n",
    "    def skill(self):\n",
    "        print(\"Gardening\")\n",
    "\n",
    "class Mother:\n",
    "    def talent(self):\n",
    "        print(\"Singing\")\n",
    "\n",
    "class Child(Father, Mother):\n",
    "    pass\n",
    "\n",
    "c = Child()\n",
    "c.skill()\n",
    "c.talent()\n"
   ]
  },
  {
   "cell_type": "code",
   "execution_count": null,
   "id": "d7739e2b",
   "metadata": {},
   "outputs": [],
   "source": []
  },
  {
   "cell_type": "code",
   "execution_count": null,
   "id": "6287356f",
   "metadata": {},
   "outputs": [
    {
     "name": "stdout",
     "output_type": "stream",
     "text": [
      "Animal makes sound\n",
      "Animal makes sound\n"
     ]
    }
   ],
   "source": [
    "#Hierarchical inheritance\n",
    "class Animal:\n",
    "    def sound(self):\n",
    "        print(\"Animal makes sound\")\n",
    "\n",
    "class Dog(Animal):\n",
    "    def bark(self):\n",
    "        print(\"Dog barks\")\n",
    "\n",
    "class Cat(Animal):\n",
    "    def meow(self):\n",
    "        print(\"Cat meows\")\n",
    "\n",
    "d = Dog()\n",
    "c = Cat()\n",
    "d.sound()\n",
    "c.sound()\n"
   ]
  },
  {
   "cell_type": "code",
   "execution_count": 16,
   "id": "cbf6ab16",
   "metadata": {},
   "outputs": [
    {
     "name": "stdout",
     "output_type": "stream",
     "text": [
      "Family legacy\n",
      "Parental guidance\n",
      "Child plays\n"
     ]
    }
   ],
   "source": [
    "\n",
    "#Multilevel inheritance\n",
    "class Grandparent:\n",
    "    def legacy(self):\n",
    "        print(\"Family legacy\")\n",
    "\n",
    "class Parent(Grandparent):\n",
    "    def guidance(self):\n",
    "        print(\"Parental guidance\")\n",
    "\n",
    "class Child(Parent):\n",
    "    def play(self):\n",
    "        print(\"Child plays\")\n",
    "\n",
    "c = Child()\n",
    "c.legacy()\n",
    "c.guidance()\n",
    "c.play()\n"
   ]
  },
  {
   "cell_type": "code",
   "execution_count": 15,
   "id": "d1d956c2",
   "metadata": {},
   "outputs": [
    {
     "name": "stdout",
     "output_type": "stream",
     "text": [
      "A\n"
     ]
    }
   ],
   "source": [
    "#Hybrid inheritance\n",
    "class A:\n",
    "    def method_a(self):\n",
    "        print(\"A\")\n",
    "\n",
    "class B(A):\n",
    "    def method_b(self):\n",
    "        print(\"B\")\n",
    "\n",
    "class C(A):\n",
    "    def method_c(self):\n",
    "        print(\"C\")\n",
    "\n",
    "class D(B, C):\n",
    "    def method_d(self):\n",
    "        print(\"D\")\n",
    "\n",
    "d = D()\n",
    "d.method_a()  # From class A\n"
   ]
  },
  {
   "cell_type": "code",
   "execution_count": 2,
   "id": "e2041689",
   "metadata": {},
   "outputs": [
    {
     "name": "stdout",
     "output_type": "stream",
     "text": [
      "Powering up the electric motor silently.\n"
     ]
    }
   ],
   "source": [
    "# Base class\n",
    "class Vehicle:\n",
    "    def start_engine(self):\n",
    "        print(\"Starting the engine of the vehicle.\")\n",
    "\n",
    "    def fuel_type(self):\n",
    "        print(\"This vehicle uses fuel.\")\n",
    "\n",
    "\n",
    "# Subclass: Car\n",
    "class Car(Vehicle):\n",
    "    def start_engine(self):\n",
    "        # Overriding the method from Vehicle\n",
    "        print(\"Turning on the car engine with a key or button.\")\n",
    "\n",
    "    def fuel_type(self):\n",
    "        # Overriding again\n",
    "        print(\"This car uses petrol or diesel.\")\n",
    "\n",
    "\n",
    "# Subclass: ElectricCar\n",
    "class ElectricCar(Car):\n",
    "    def start_engine(self):\n",
    "        # Overriding the method from Car\n",
    "        print(\"Powering up the electric motor silently.\")\n",
    "\n",
    "    def fuel_type(self):\n",
    "        print(\"This car runs on electricity, not fuel.\")\n",
    "\n",
    "\n",
    "#creating instances\n",
    "v=Vehicle()\n",
    "c=Car()\n",
    "e=ElectricCar()\n",
    "e.start_engine()\n"
   ]
  },
  {
   "cell_type": "code",
   "execution_count": 3,
   "id": "a8a4a070",
   "metadata": {},
   "outputs": [
    {
     "name": "stdout",
     "output_type": "stream",
     "text": [
      "4 + 6i\n",
      "2 + 2i\n",
      "-5 + 10i\n",
      "2.2 - 0.4i\n",
      "3 + 4i\n"
     ]
    }
   ],
   "source": [
    "class Complex:\n",
    "    def __init__(self, real, imag):\n",
    "        self.real = real\n",
    "        self.imag = imag\n",
    "\n",
    "    def __add__(self, other):\n",
    "        return Complex(self.real + other.real, self.imag + other.imag)\n",
    "\n",
    "    def __sub__(self, other):\n",
    "        return Complex(self.real - other.real, self.imag - other.imag)\n",
    "\n",
    "    def __mul__(self, other):\n",
    "        return Complex(self.real * other.real - self.imag * other.imag,\n",
    "                       self.real * other.imag + self.imag * other.real)\n",
    "\n",
    "    def __truediv__(self, other):\n",
    "        denom = other.real ** 2 + other.imag ** 2\n",
    "        return Complex((self.real * other.real + self.imag * other.imag) / denom,\n",
    "                       (self.imag * other.real - self.real * other.imag) / denom)\n",
    "\n",
    "    def __str__(self):\n",
    "        return f\"{self.real} + {self.imag}i\" if self.imag >= 0 else f\"{self.real} - {-self.imag}i\"\n",
    "\n",
    "    def __repr__(self):\n",
    "        return f\"Complex({self.real}, {self.imag})\"\n",
    "\n",
    "c1 = Complex(3, 4)\n",
    "c2 = Complex(1, 2)\n",
    "print(c1 + c2)  # Output: 4 + 6i\n",
    "print(c1 - c2)  # Output: 2 + 2i\n",
    "print(c1 * c2)  # Output: -5 + 10i\n",
    "print(c1 / c2)  # Output: 2.2 + 0.4i\n",
    "print(c1)       # Output: 3 + 4i\n"
   ]
  },
  {
   "cell_type": "code",
   "execution_count": null,
   "id": "2095e88e",
   "metadata": {},
   "outputs": [
    {
     "ename": "TypeError",
     "evalue": "Can't instantiate abstract class Derived with abstract method _Base__private_method",
     "output_type": "error",
     "traceback": [
      "\u001b[0;31m---------------------------------------------------------------------------\u001b[0m",
      "\u001b[0;31mTypeError\u001b[0m                                 Traceback (most recent call last)",
      "Cell \u001b[0;32mIn[4], line 14\u001b[0m\n\u001b[1;32m     11\u001b[0m         \u001b[38;5;28mprint\u001b[39m(\u001b[38;5;124m\"\u001b[39m\u001b[38;5;124mOverridden private abstract method in Derived\u001b[39m\u001b[38;5;124m\"\u001b[39m)\n\u001b[1;32m     13\u001b[0m \u001b[38;5;66;03m# Instantiate and call the method\u001b[39;00m\n\u001b[0;32m---> 14\u001b[0m d \u001b[38;5;241m=\u001b[39m \u001b[43mDerived\u001b[49m\u001b[43m(\u001b[49m\u001b[43m)\u001b[49m\n\u001b[1;32m     15\u001b[0m \u001b[38;5;66;03m# d._Base__private_method()  # Output: Overridden private abstract method in Derived\u001b[39;00m\n\u001b[1;32m     18\u001b[0m d\u001b[38;5;241m.\u001b[39m_Base__private_method()\n",
      "\u001b[0;31mTypeError\u001b[0m: Can't instantiate abstract class Derived with abstract method _Base__private_method"
     ]
    }
   ],
   "source": [
    "from abc import ABC, abstractmethod\n",
    "\n",
    "class Base(ABC):\n",
    "    @abstractmethod\n",
    "    def __private_method(self):\n",
    "        pass\n",
    "\n",
    "class Derived(Base):\n",
    "    # Name mangling for private method: _Base__private_method\n",
    "    def __private_method(self):\n",
    "        print(\"Overridden private abstract method in Derived\")\n",
    "\n",
    "# Instantiate and call the method\n",
    "d = Derived()\n",
    "# d._Base__private_method()  # Output: Overridden private abstract method in Derived\n",
    "\n",
    "\n",
    "d._Base__private_method()"
   ]
  },
  {
   "cell_type": "code",
   "execution_count": 11,
   "id": "17dae21c",
   "metadata": {},
   "outputs": [
    {
     "name": "stdout",
     "output_type": "stream",
     "text": [
      "Kicking...\n",
      "Hero 2 wheeeler Engine Started\n",
      "Press Start engine Button\n",
      "Ferrari 4 wheeler Engine Started\n"
     ]
    }
   ],
   "source": [
    "from abc import ABC, abstractmethod\n",
    "class Vehicle(ABC):\n",
    "    @abstractmethod\n",
    "    def start_engine(self):\n",
    "        pass\n",
    "\n",
    "class two_wheeler(Vehicle):\n",
    "    # @abstractmethod\n",
    "    # def start_engine(self):\n",
    "    #     pass\n",
    "    @abstractmethod\n",
    "    def kick_start(self):\n",
    "        pass\n",
    "\n",
    "class four_wheeler(Vehicle):\n",
    "    # @abstractmethod\n",
    "    # def start_engine(self):\n",
    "    #     pass\n",
    "    @abstractmethod\n",
    "    def auto_start(self):\n",
    "        pass\n",
    "\n",
    "class Hero(two_wheeler):\n",
    "    def start_engine(self):\n",
    "        print('Hero 2 wheeeler Engine Started')  \n",
    "    def kick_start(self):\n",
    "        print('Kicking...')\n",
    "\n",
    "class Ferrari(four_wheeler):\n",
    "    def start_engine(self):\n",
    "        print('Ferrari 4 wheeler Engine Started')\n",
    "    def auto_start(self):\n",
    "        print('Press Start engine Button')\n",
    "\n",
    "h=Hero()\n",
    "h.kick_start()\n",
    "h.start_engine()\n",
    "\n",
    "f=Ferrari()\n",
    "f.auto_start()\n",
    "f.start_engine()"
   ]
  },
  {
   "cell_type": "code",
   "execution_count": 12,
   "id": "41c0c63b",
   "metadata": {},
   "outputs": [
    {
     "name": "stdout",
     "output_type": "stream",
     "text": [
      "You can't divide by zero!\n",
      "Execution complete.\n"
     ]
    }
   ],
   "source": [
    "#EXCEPTION handling\n",
    "try:\n",
    "    # Code that might raise an exception\n",
    "    result = 10 / 0\n",
    "except ZeroDivisionError:\n",
    "    # Code that runs if a ZeroDivisionError occurs\n",
    "    print(\"You can't divide by zero!\")\n",
    "else:\n",
    "    # Code that runs if no exception occurs\n",
    "    print(\"Division successful:\", result)\n",
    "finally:\n",
    "    # Code that always runs, regardless of an exception\n",
    "    print(\"Execution complete.\")\n"
   ]
  },
  {
   "cell_type": "code",
   "execution_count": 13,
   "id": "5fef7b7e",
   "metadata": {},
   "outputs": [
    {
     "name": "stdout",
     "output_type": "stream",
     "text": [
      "Invalid input. Could not convert to integer.\n"
     ]
    }
   ],
   "source": [
    "try:\n",
    "    x = int(\"abc\")\n",
    "except ValueError:\n",
    "    print(\"Invalid input. Could not convert to integer.\")\n",
    "except ZeroDivisionError:\n",
    "    print(\"Division by zero error.\")\n"
   ]
  },
  {
   "cell_type": "code",
   "execution_count": 14,
   "id": "f683717a",
   "metadata": {},
   "outputs": [
    {
     "name": "stdout",
     "output_type": "stream",
     "text": [
      "An error occurred: name 'risky_operation' is not defined\n"
     ]
    }
   ],
   "source": [
    "try:\n",
    "    risky_operation()\n",
    "except Exception as e:\n",
    "    print(f\"An error occurred: {e}\")\n"
   ]
  },
  {
   "cell_type": "code",
   "execution_count": 15,
   "id": "23de3835",
   "metadata": {},
   "outputs": [
    {
     "ename": "ValueError",
     "evalue": "Negative value is not allowed",
     "output_type": "error",
     "traceback": [
      "\u001b[0;31m---------------------------------------------------------------------------\u001b[0m",
      "\u001b[0;31mValueError\u001b[0m                                Traceback (most recent call last)",
      "Cell \u001b[0;32mIn[15], line 3\u001b[0m\n\u001b[1;32m      1\u001b[0m x \u001b[38;5;241m=\u001b[39m \u001b[38;5;241m-\u001b[39m\u001b[38;5;241m5\u001b[39m\n\u001b[1;32m      2\u001b[0m \u001b[38;5;28;01mif\u001b[39;00m x \u001b[38;5;241m<\u001b[39m \u001b[38;5;241m0\u001b[39m:\n\u001b[0;32m----> 3\u001b[0m     \u001b[38;5;28;01mraise\u001b[39;00m \u001b[38;5;167;01mValueError\u001b[39;00m(\u001b[38;5;124m\"\u001b[39m\u001b[38;5;124mNegative value is not allowed\u001b[39m\u001b[38;5;124m\"\u001b[39m)\n",
      "\u001b[0;31mValueError\u001b[0m: Negative value is not allowed"
     ]
    }
   ],
   "source": [
    "x = -5\n",
    "if x < 0:\n",
    "    raise ValueError(\"Negative value is not allowed\")\n"
   ]
  },
  {
   "cell_type": "code",
   "execution_count": null,
   "id": "b2bbff95",
   "metadata": {},
   "outputs": [
    {
     "name": "stdout",
     "output_type": "stream",
     "text": [
      "This is a custom error\n"
     ]
    }
   ],
   "source": [
    "class CustomError(Exception):\n",
    "    pass\n",
    "\n",
    "\n",
    "try:\n",
    "    raise CustomError(\"This is a custom error\")\n",
    "except CustomError as e:\n",
    "    print(e)\n"
   ]
  },
  {
   "cell_type": "markdown",
   "id": "0781860a",
   "metadata": {},
   "source": [
    "<h1>Build-In Data syructures<h1>\n",
    "\n"
   ]
  },
  {
   "cell_type": "markdown",
   "id": "b2748462",
   "metadata": {},
   "source": [
    "<h1>List<h1>"
   ]
  },
  {
   "cell_type": "code",
   "execution_count": 17,
   "id": "6d8616a8",
   "metadata": {},
   "outputs": [
    {
     "name": "stdout",
     "output_type": "stream",
     "text": [
      "<class 'list'> <class 'list'>\n"
     ]
    }
   ],
   "source": [
    "#creating list\n",
    "l1=list()\n",
    "l2=[]\n",
    "print(type(l1),type(l2))"
   ]
  },
  {
   "cell_type": "code",
   "execution_count": 20,
   "id": "4615c23a",
   "metadata": {},
   "outputs": [
    {
     "name": "stdout",
     "output_type": "stream",
     "text": [
      "[1, 2, 3] [1, 2, 3]\n"
     ]
    }
   ],
   "source": [
    "#creating non-empty list\n",
    "l3=[1,2,3]\n",
    "l4=list([1,2,3])\n",
    "print(l3,l4)"
   ]
  },
  {
   "cell_type": "code",
   "execution_count": 1,
   "id": "710359f8",
   "metadata": {},
   "outputs": [
    {
     "name": "stdout",
     "output_type": "stream",
     "text": [
      "5.6\n",
      "Xyz\n"
     ]
    }
   ],
   "source": [
    "#accessing elements\n",
    "l=[1,2,3,5.6,'Abc',True,[1,2,3],(1,2),range(5)]\n",
    "print(l[3])\n",
    "l[4]='Xyz'\n",
    "print(l[4])"
   ]
  },
  {
   "cell_type": "code",
   "execution_count": 2,
   "id": "60ca056e",
   "metadata": {},
   "outputs": [
    {
     "name": "stdout",
     "output_type": "stream",
     "text": [
      "<class 'list'>\n"
     ]
    }
   ],
   "source": [
    "a=\"hello\"\n",
    "print(type(a.split()))"
   ]
  },
  {
   "cell_type": "code",
   "execution_count": 2,
   "id": "b1a370c5",
   "metadata": {},
   "outputs": [
    {
     "name": "stdout",
     "output_type": "stream",
     "text": [
      "f\n"
     ]
    }
   ],
   "source": [
    "l=eval(input('Enter list'))\n",
    "print(l)\n",
    "\n"
   ]
  },
  {
   "cell_type": "code",
   "execution_count": 4,
   "id": "e6143939",
   "metadata": {},
   "outputs": [
    {
     "data": {
      "text/plain": [
       "[0, 1, 2, 3, 4, 5, 6, 7]"
      ]
     },
     "execution_count": 4,
     "metadata": {},
     "output_type": "execute_result"
    }
   ],
   "source": [
    "l=[i for i in range(8)]\n",
    "l"
   ]
  },
  {
   "cell_type": "code",
   "execution_count": 20,
   "id": "6c52393b",
   "metadata": {},
   "outputs": [
    {
     "name": "stdout",
     "output_type": "stream",
     "text": [
      "[1, 2, 3, 7]\n",
      "[1, 2, 3, 7, 4, 5, 6]\n",
      "[1, 2, 3, 7, 4, 5, True, 6]\n"
     ]
    }
   ],
   "source": [
    "\n",
    "#adding elemnets in list\n",
    "\n",
    "l=[1,2,3]\n",
    "l.append(7)\n",
    "print(l)\n",
    "l.extend([4,5,6])\n",
    "print(l)\n",
    "l.insert(-1,True)\n",
    "print(l)"
   ]
  },
  {
   "cell_type": "code",
   "execution_count": 23,
   "id": "285c508f",
   "metadata": {},
   "outputs": [
    {
     "name": "stdout",
     "output_type": "stream",
     "text": [
      "[1, 3, 5, 7, 9]\n",
      "9 3 9 [3, 5, 7]\n"
     ]
    }
   ],
   "source": [
    "#accessing the element\n",
    "l=[i for i in range(1,11,2)]\n",
    "print(l)\n",
    "print(l[-1],l[1],l[-1],l[1:4])"
   ]
  },
  {
   "cell_type": "code",
   "execution_count": 25,
   "id": "e5151416",
   "metadata": {},
   "outputs": [
    {
     "name": "stdout",
     "output_type": "stream",
     "text": [
      "[4, 5, 6]\n"
     ]
    }
   ],
   "source": [
    "#nested list accessing\n",
    "l=[1,2,3,[4,5,6]]\n",
    "print(l[3])"
   ]
  },
  {
   "cell_type": "code",
   "execution_count": 26,
   "id": "6872c855",
   "metadata": {},
   "outputs": [
    {
     "name": "stdout",
     "output_type": "stream",
     "text": [
      "[2, 3]\n",
      "[1, 2, 3]\n",
      "[2, 3, True, 4.5, 6.7, 'Abc']\n",
      "['Abc', 6.7, 4.5, True, 3, 2, 1]\n"
     ]
    }
   ],
   "source": [
    "#list sclicing\n",
    "l=[1,2,3,True,4.5,6.7,'Abc']\n",
    "print(l[1:3])\n",
    "print(l[:3])\n",
    "print(l[1:])\n",
    "print(l[::-1])"
   ]
  },
  {
   "cell_type": "code",
   "execution_count": 27,
   "id": "c8c59b2b",
   "metadata": {},
   "outputs": [
    {
     "name": "stdout",
     "output_type": "stream",
     "text": [
      "[1, 2, True, 'Ab', 4.5]\n",
      "[5, 100, 200, ['a', 'b', 'c'], 4.5]\n"
     ]
    }
   ],
   "source": [
    "#changing list items\n",
    "l=[1,2,True,'Ab',4.5]\n",
    "print(l)\n",
    "l[0]=5\n",
    "l[1]=55\n",
    "l[1:3]=[100,200]\n",
    "l[3]=['a','b','c']\n",
    "\n",
    "print(l)"
   ]
  },
  {
   "cell_type": "code",
   "execution_count": 28,
   "id": "b018ad83",
   "metadata": {},
   "outputs": [
    {
     "data": {
      "text/plain": [
       "[1, 100, True, False, 3, 4]"
      ]
     },
     "execution_count": 28,
     "metadata": {},
     "output_type": "execute_result"
    }
   ],
   "source": [
    "l=[1,2,3,4]\n",
    "l[1:2]=[100,200]\n",
    "l[2:3]=[True,False]\n",
    "l"
   ]
  },
  {
   "cell_type": "code",
   "execution_count": 38,
   "id": "bef0b2f0",
   "metadata": {},
   "outputs": [
    {
     "name": "stdout",
     "output_type": "stream",
     "text": [
      "[1, 2, [True, False], 'Apple', ('A', 'B', 'C'), [1, [1, 2, 3]]]\n",
      "1\n",
      "[True, False] <class 'list'>\n",
      "False\n",
      "('A', 'B', 'C') <class 'tuple'>\n",
      "C\n",
      "[1, 2, 3]\n",
      "[1, 2]\n"
     ]
    }
   ],
   "source": [
    "l=[1,2,[True,False],'Apple',('A',\"B\",'C'),[1,[1,2,3]]]\n",
    "print(l)\n",
    "\n",
    "print(l[0])\n",
    "\n",
    "print(l[2],type(l[2]))\n",
    "print(l[2][1])\n",
    "print(l[4],type(l[4]))\n",
    "print(l[4][-1])\n",
    "print(l[-1][1])\n",
    "print(l[-1][1][:2])"
   ]
  },
  {
   "cell_type": "code",
   "execution_count": 39,
   "id": "6512b437",
   "metadata": {},
   "outputs": [
    {
     "name": "stdout",
     "output_type": "stream",
     "text": [
      "[1, 2, 3, [4, 5]]\n"
     ]
    }
   ],
   "source": [
    "#add a lists items\n",
    "\n",
    "lst = [1, 2, 3]\n",
    "lst.append([4, 5])\n",
    "print(lst)  # Output: [1, 2, 3, [4, 5]]\n"
   ]
  },
  {
   "cell_type": "code",
   "execution_count": 42,
   "id": "2368d7f5",
   "metadata": {},
   "outputs": [
    {
     "name": "stdout",
     "output_type": "stream",
     "text": [
      "[1, 2, 3, [4, 5]]\n"
     ]
    }
   ],
   "source": [
    "lst = [1, 2, 3]\n",
    "lst.insert(3,[4,5])  # index 1\n",
    "print(lst)  # Output: [1, 99, 2, 3]\n"
   ]
  },
  {
   "cell_type": "code",
   "execution_count": 41,
   "id": "21e8aa57",
   "metadata": {},
   "outputs": [
    {
     "name": "stdout",
     "output_type": "stream",
     "text": [
      "[1, 2, 3, 4, 5]\n"
     ]
    }
   ],
   "source": [
    "lst = [1, 2, 3]\n",
    "lst.extend([4, 5])\n",
    "print(lst)  # Output: [1, 2, 3, 4, 5]\n"
   ]
  },
  {
   "cell_type": "code",
   "execution_count": 55,
   "id": "fbcc38b8",
   "metadata": {},
   "outputs": [
    {
     "data": {
      "text/plain": [
       "[1, 2, '', 'a', 'b', 'c', 1, 2, 3, 4, 1, 3, 5, 7, 9, 111, 222]"
      ]
     },
     "execution_count": 55,
     "metadata": {},
     "output_type": "execute_result"
    }
   ],
   "source": [
    "l=[1,2,'']\n",
    "di={111:'a',222:'b'}\n",
    "l.extend(('a','b','c'))\n",
    "l.extend({1,2,3,4})\n",
    "l.extend(range(1,10,2))\n",
    "l.extend(di)\n",
    "l"
   ]
  },
  {
   "cell_type": "code",
   "execution_count": null,
   "id": "50dbefab",
   "metadata": {},
   "outputs": [],
   "source": [
    "l=[1,2,3,4,5,6]\n",
    "l.insert()"
   ]
  },
  {
   "cell_type": "code",
   "execution_count": 56,
   "id": "d71c259a",
   "metadata": {},
   "outputs": [
    {
     "name": "stdout",
     "output_type": "stream",
     "text": [
      "[2, True, 'apple', 7.8]\n",
      "[2, True, 7.8]\n"
     ]
    }
   ],
   "source": [
    "#remove elemnets from list\n",
    "l=[1,2,True,\"apple\",7.8]\n",
    "l.remove(1)\n",
    "print(l)\n",
    "l.remove(\"apple\")\n",
    "print(l)"
   ]
  },
  {
   "cell_type": "code",
   "execution_count": 59,
   "id": "cad26fa1",
   "metadata": {},
   "outputs": [
    {
     "name": "stdout",
     "output_type": "stream",
     "text": [
      "3\n",
      "[1, 2]\n"
     ]
    }
   ],
   "source": [
    "l=[1,2,3]\n",
    "print(l.pop())\n",
    "print(l)"
   ]
  },
  {
   "cell_type": "code",
   "execution_count": 4,
   "id": "a38627a5",
   "metadata": {},
   "outputs": [
    {
     "name": "stdout",
     "output_type": "stream",
     "text": [
      "apple\n",
      "banana\n",
      "cherry\n"
     ]
    },
    {
     "data": {
      "text/plain": [
       "[None, None, None]"
      ]
     },
     "execution_count": 4,
     "metadata": {},
     "output_type": "execute_result"
    }
   ],
   "source": [
    "thislist = [\"apple\", \"banana\", \"cherry\"]\n",
    "[print(x) for x in thislist]"
   ]
  },
  {
   "cell_type": "code",
   "execution_count": 5,
   "id": "981cf027",
   "metadata": {},
   "outputs": [
    {
     "name": "stdout",
     "output_type": "stream",
     "text": [
      "apple\n",
      "banana\n",
      "cherry\n"
     ]
    },
    {
     "data": {
      "text/plain": [
       "[None, None, None]"
      ]
     },
     "execution_count": 5,
     "metadata": {},
     "output_type": "execute_result"
    }
   ],
   "source": [
    "thislist = [\"apple\", \"banana\", \"cherry\"]\n",
    "[print(x) for x in thislist]"
   ]
  },
  {
   "cell_type": "code",
   "execution_count": 7,
   "id": "4dcf32ce",
   "metadata": {},
   "outputs": [
    {
     "data": {
      "text/plain": [
       "['H', 'e', 'l', 'l', 'o']"
      ]
     },
     "execution_count": 7,
     "metadata": {},
     "output_type": "execute_result"
    }
   ],
   "source": [
    "l=[x for x in 'Hello']\n",
    "l"
   ]
  },
  {
   "cell_type": "code",
   "execution_count": 8,
   "id": "0933fb68",
   "metadata": {},
   "outputs": [
    {
     "data": {
      "text/plain": [
       "[0, 1, 2, 3, 4, 5, 6, 7, 8]"
      ]
     },
     "execution_count": 8,
     "metadata": {},
     "output_type": "execute_result"
    }
   ],
   "source": [
    "l=[x for x in range(9)]\n",
    "l"
   ]
  },
  {
   "cell_type": "code",
   "execution_count": 12,
   "id": "532407a0",
   "metadata": {},
   "outputs": [
    {
     "ename": "SyntaxError",
     "evalue": "invalid syntax (1902170827.py, line 2)",
     "output_type": "error",
     "traceback": [
      "\u001b[0;36m  Cell \u001b[0;32mIn[12], line 2\u001b[0;36m\u001b[0m\n\u001b[0;31m    l=[x for x in fruits if 'a' in x else \"Hello\"]#x.upper())\u001b[0m\n\u001b[0m                                     ^\u001b[0m\n\u001b[0;31mSyntaxError\u001b[0m\u001b[0;31m:\u001b[0m invalid syntax\n"
     ]
    }
   ],
   "source": [
    "fruits=['aaple','banana','cherry','kiwi']\n",
    "l=[x for x in fruits if 'a' in x else \"Hello\"]#x.upper())\n",
    "l"
   ]
  },
  {
   "cell_type": "code",
   "execution_count": 13,
   "id": "210e79bc",
   "metadata": {},
   "outputs": [
    {
     "name": "stdout",
     "output_type": "stream",
     "text": [
      "4425000256 4425001152\n"
     ]
    }
   ],
   "source": [
    "l=[1,2,3]\n",
    "l2=l.copy()\n",
    "print(id(l),id(l2))"
   ]
  },
  {
   "cell_type": "code",
   "execution_count": 14,
   "id": "a508f3a7",
   "metadata": {},
   "outputs": [
    {
     "name": "stdout",
     "output_type": "stream",
     "text": [
      "4424905664 4425031360\n"
     ]
    }
   ],
   "source": [
    "l=[1,2,3,4]\n",
    "l2=l[:]\n",
    "print(id(l),id(l2))"
   ]
  },
  {
   "cell_type": "code",
   "execution_count": 15,
   "id": "61ecb576",
   "metadata": {},
   "outputs": [
    {
     "data": {
      "text/plain": [
       "[1, 2, 3, 4]"
      ]
     },
     "execution_count": 15,
     "metadata": {},
     "output_type": "execute_result"
    }
   ],
   "source": [
    "l1=[1,2]\n",
    "l2=[3,4]\n",
    "l1.extend(l2)\n",
    "l1"
   ]
  },
  {
   "cell_type": "code",
   "execution_count": 19,
   "id": "3cda48b4",
   "metadata": {},
   "outputs": [
    {
     "data": {
      "text/plain": [
       "[1, 2, 3, 5, 6, 7, 8, 1, 2, 3, 4, 5, 6, 7, 8, 9, 0, True]"
      ]
     },
     "execution_count": 19,
     "metadata": {},
     "output_type": "execute_result"
    }
   ],
   "source": [
    "l1=[1,2,3]\n",
    "l2=[5,6,7,8]\n",
    "l3=[1,2,3,4,5,6,7,8,9,0]\n",
    "l4=[True,]\n",
    "l1+l2+l3+l4"
   ]
  },
  {
   "cell_type": "code",
   "execution_count": 29,
   "id": "14d6fe9d",
   "metadata": {},
   "outputs": [
    {
     "name": "stdout",
     "output_type": "stream",
     "text": [
      "[1, 2, 3, 4, 5, 6, 7]\n",
      "[False, True]\n",
      "['A', 'a', 'b', 'd', 'x', 'x', 'y']\n"
     ]
    }
   ],
   "source": [
    "l1=[4,6,5,7,1,2,3,]\n",
    "l2=[True,False]\n",
    "len(l1)\n",
    "\n",
    "l3=['x','y','a','A','b','d','x']\n",
    "\n",
    "l1.sort()\n",
    "print(l1)\n",
    "l2.sort()\n",
    "print(l2)\n",
    "l3.sort()\n",
    "print(l3)"
   ]
  },
  {
   "cell_type": "code",
   "execution_count": null,
   "id": "92b00a40",
   "metadata": {},
   "outputs": [
    {
     "name": "stdout",
     "output_type": "stream",
     "text": [
      "[7, 6, 5, 4, 3, 2, 1, 1, 1, 1, 1, 1]\n",
      "6\n"
     ]
    }
   ],
   "source": [
    "l1=[4,6,5,7,1,2,3,1,1,1,1,1]\n",
    "l2=[True,False]\n",
    "l1.sort()\n",
    "l1.reverse()\n",
    "print(l1)\n",
    "\n",
    "l1.count(1)\n",
    "\n"
   ]
  },
  {
   "cell_type": "code",
   "execution_count": 41,
   "id": "16e9aa2e",
   "metadata": {},
   "outputs": [
    {
     "ename": "ValueError",
     "evalue": "'Falsel' is not in list",
     "output_type": "error",
     "traceback": [
      "\u001b[0;31m---------------------------------------------------------------------------\u001b[0m",
      "\u001b[0;31mValueError\u001b[0m                                Traceback (most recent call last)",
      "Cell \u001b[0;32mIn[41], line 2\u001b[0m\n\u001b[1;32m      1\u001b[0m l1\u001b[38;5;241m=\u001b[39m[\u001b[38;5;241m1\u001b[39m,\u001b[38;5;241m2\u001b[39m,\u001b[38;5;241m3\u001b[39m,\u001b[38;5;241m1\u001b[39m,\u001b[38;5;241m2\u001b[39m,\u001b[38;5;241m3\u001b[39m,\u001b[38;5;241m1\u001b[39m,\u001b[38;5;241m2\u001b[39m,\u001b[38;5;241m1\u001b[39m,\u001b[38;5;28;01mTrue\u001b[39;00m,\u001b[38;5;28;01mFalse\u001b[39;00m]\n\u001b[0;32m----> 2\u001b[0m \u001b[38;5;28mprint\u001b[39m(\u001b[43ml1\u001b[49m\u001b[38;5;241;43m.\u001b[39;49m\u001b[43mindex\u001b[49m\u001b[43m(\u001b[49m\u001b[38;5;124;43m'\u001b[39;49m\u001b[38;5;124;43mFalsel\u001b[39;49m\u001b[38;5;124;43m'\u001b[39;49m\u001b[43m)\u001b[49m)\n",
      "\u001b[0;31mValueError\u001b[0m: 'Falsel' is not in list"
     ]
    }
   ],
   "source": [
    "l1=[1,2,3,1,2,3,1,2,1,True,False]\n",
    "print(l1.index('Falsel'))"
   ]
  },
  {
   "cell_type": "code",
   "execution_count": 43,
   "id": "8727c7a5",
   "metadata": {},
   "outputs": [
    {
     "name": "stdout",
     "output_type": "stream",
     "text": [
      "5\n"
     ]
    }
   ],
   "source": [
    "l1=[1,2,3,1,2,6,3,1,2,1,True,False]\n",
    "print(l1.index(6))"
   ]
  },
  {
   "cell_type": "code",
   "execution_count": 48,
   "id": "c93203e4",
   "metadata": {},
   "outputs": [
    {
     "name": "stdout",
     "output_type": "stream",
     "text": [
      "3\n"
     ]
    }
   ],
   "source": [
    "lt=[1,2,1,2,1,2]\n",
    "print(lt.index(2,2))"
   ]
  },
  {
   "cell_type": "code",
   "execution_count": 51,
   "id": "060d7966",
   "metadata": {},
   "outputs": [
    {
     "ename": "TypeError",
     "evalue": "'<' not supported between instances of 'str' and 'int'",
     "output_type": "error",
     "traceback": [
      "\u001b[0;31m---------------------------------------------------------------------------\u001b[0m",
      "\u001b[0;31mTypeError\u001b[0m                                 Traceback (most recent call last)",
      "Cell \u001b[0;32mIn[51], line 2\u001b[0m\n\u001b[1;32m      1\u001b[0m l\u001b[38;5;241m=\u001b[39m[\u001b[38;5;241m3\u001b[39m,\u001b[38;5;241m0\u001b[39m,\u001b[38;5;241m1\u001b[39m,\u001b[38;5;241m9\u001b[39m,\u001b[38;5;241m-\u001b[39m\u001b[38;5;241m2\u001b[39m,\u001b[38;5;241m-\u001b[39m\u001b[38;5;241m5\u001b[39m,\u001b[38;5;124m'\u001b[39m\u001b[38;5;124ma\u001b[39m\u001b[38;5;124m'\u001b[39m,\u001b[38;5;124m'\u001b[39m\u001b[38;5;124mb\u001b[39m\u001b[38;5;124m'\u001b[39m]\n\u001b[0;32m----> 2\u001b[0m \u001b[43ml\u001b[49m\u001b[38;5;241;43m.\u001b[39;49m\u001b[43msort\u001b[49m\u001b[43m(\u001b[49m\u001b[43m)\u001b[49m\n\u001b[1;32m      3\u001b[0m \u001b[38;5;28mprint\u001b[39m(l)\n",
      "\u001b[0;31mTypeError\u001b[0m: '<' not supported between instances of 'str' and 'int'"
     ]
    }
   ],
   "source": [
    "l=[3,0,1,9,-2,-5,'a','b']\n",
    "l.sort()\n",
    "print(l)"
   ]
  },
  {
   "cell_type": "code",
   "execution_count": 52,
   "id": "ee75d298",
   "metadata": {},
   "outputs": [
    {
     "name": "stdout",
     "output_type": "stream",
     "text": [
      "[False, False, False, True, True]\n"
     ]
    }
   ],
   "source": [
    "l=[False,True,False,False,True]\n",
    "l.sort()\n",
    "print(l)"
   ]
  },
  {
   "cell_type": "code",
   "execution_count": 54,
   "id": "47729d01",
   "metadata": {},
   "outputs": [
    {
     "data": {
      "text/plain": [
       "[9, 8, 8, 7, 6, 4, 3, 3, 2, 2, 1, 1]"
      ]
     },
     "execution_count": 54,
     "metadata": {},
     "output_type": "execute_result"
    }
   ],
   "source": [
    "l=[1,2,3,4,8,9,8,7,6,1,2,3]\n",
    "l.sort(reverse=True)\n",
    "l"
   ]
  },
  {
   "cell_type": "code",
   "execution_count": 55,
   "id": "7b88de80",
   "metadata": {},
   "outputs": [
    {
     "name": "stdout",
     "output_type": "stream",
     "text": [
      "[50, 65, 23, 82, 100]\n"
     ]
    }
   ],
   "source": [
    "def myfunc(n):\n",
    "  return abs(n - 50)\n",
    "\n",
    "thislist = [100, 50, 65, 82, 23]\n",
    "thislist.sort(key = myfunc)\n",
    "print(thislist)"
   ]
  },
  {
   "cell_type": "code",
   "execution_count": 57,
   "id": "089b12e3",
   "metadata": {},
   "outputs": [
    {
     "name": "stdout",
     "output_type": "stream",
     "text": [
      "['Kiwi', 'Orange', 'banana', 'cherry']\n"
     ]
    }
   ],
   "source": [
    "thislist = [\"banana\", \"Orange\", \"Kiwi\", \"cherry\"]\n",
    "thislist.sort()\n",
    "print(thislist)"
   ]
  },
  {
   "cell_type": "code",
   "execution_count": 60,
   "id": "90385a14",
   "metadata": {},
   "outputs": [
    {
     "name": "stdout",
     "output_type": "stream",
     "text": [
      "['banana', 'Orange', 'cherry', 'Kiwi']\n"
     ]
    }
   ],
   "source": [
    "thislist = [\"banana\", \"Orange\", \"Kiwi\", \"cherry\"]\n",
    "thislist.sort(key = len, reverse=True)\n",
    "print(thislist)"
   ]
  },
  {
   "cell_type": "code",
   "execution_count": 62,
   "id": "14105dbf",
   "metadata": {},
   "outputs": [
    {
     "data": {
      "text/plain": [
       "3"
      ]
     },
     "execution_count": 62,
     "metadata": {},
     "output_type": "execute_result"
    }
   ],
   "source": [
    "lt=[1,2,1,2,1,2,3,4,5,5,6,6,7]\n",
    "lt.count(1)"
   ]
  },
  {
   "cell_type": "code",
   "execution_count": 69,
   "id": "88d6a7d3",
   "metadata": {},
   "outputs": [
    {
     "data": {
      "text/plain": [
       "5"
      ]
     },
     "execution_count": 69,
     "metadata": {},
     "output_type": "execute_result"
    }
   ],
   "source": [
    "lt=[1,2,1,0,0,True,2,1,2,3,4,5,5,6,6,7]\n",
    "lt.index(True,3)"
   ]
  },
  {
   "cell_type": "code",
   "execution_count": 70,
   "id": "38e139e7",
   "metadata": {},
   "outputs": [
    {
     "name": "stdout",
     "output_type": "stream",
     "text": [
      "3\n"
     ]
    }
   ],
   "source": [
    "lt=[1,2,1,False]\n",
    "print(lt.index(0))"
   ]
  },
  {
   "cell_type": "code",
   "execution_count": null,
   "id": "21073546",
   "metadata": {},
   "outputs": [
    {
     "name": "stdout",
     "output_type": "stream",
     "text": [
      "True\n"
     ]
    }
   ],
   "source": [
    "#comapring list\n",
    "l1=[1,2,3]\n",
    "l2=[1,2,3]\n",
    "l3=[1,2,4]\n",
    "l4=[1,]\n",
    "\n",
    "print(l1<l3)\n"
   ]
  },
  {
   "cell_type": "code",
   "execution_count": 11,
   "id": "c9dce703",
   "metadata": {},
   "outputs": [
    {
     "data": {
      "text/plain": [
       "False"
      ]
     },
     "execution_count": 11,
     "metadata": {},
     "output_type": "execute_result"
    }
   ],
   "source": [
    "a=['a','b']\n",
    "b=['a','c']\n",
    "a>b"
   ]
  },
  {
   "cell_type": "code",
   "execution_count": 12,
   "id": "5f5e07a9",
   "metadata": {},
   "outputs": [
    {
     "name": "stdout",
     "output_type": "stream",
     "text": [
      "2D List:\n",
      "['1', '2', '3', '4']\n",
      "['5', '6', '7', '8']\n",
      "['9', '11', '22', '33']\n"
     ]
    }
   ],
   "source": [
    "# Input dimensions\n",
    "m = int(input(\"Enter number of rows (m): \"))\n",
    "n = int(input(\"Enter number of columns (n): \"))\n",
    "\n",
    "# Input m*n elements in a single line\n",
    "elements = input(f\"Enter {m*n} space-separated strings: \").split()\n",
    "\n",
    "# Validate input length\n",
    "if len(elements) != m * n:\n",
    "    print(\"Error: Number of elements doesn't match m*n\")\n",
    "else:\n",
    "    # Convert to 2D list\n",
    "    matrix = [elements[i * n : (i + 1) * n] for i in range(m)]\n",
    "\n",
    "    # Print the 2D list\n",
    "    print(\"2D List:\")\n",
    "    for row in matrix:\n",
    "        print(row)\n"
   ]
  },
  {
   "cell_type": "code",
   "execution_count": 7,
   "id": "c79d0f5d",
   "metadata": {},
   "outputs": [
    {
     "name": "stdout",
     "output_type": "stream",
     "text": [
      "(1, 2, 3)\n",
      "(0, 1, 2, 3, 4, 5, 6)\n",
      "('H', 'e', 'l', 'l', 'o')\n",
      "(1, 2, 3)\n",
      "(1, 2)\n",
      "('hello',)\n"
     ]
    }
   ],
   "source": [
    "t1=tuple([1,2,3])\n",
    "t2=tuple(range(7))\n",
    "t3=tuple('Hello')\n",
    "t4=tuple({1,2,2,3})\n",
    "t5=tuple({1:'a',2:'b'})\n",
    "t6=tuple('hello'.split())\n",
    "\n",
    "print(t1,t2,t3,t4,t5,t6,sep='\\n')"
   ]
  },
  {
   "cell_type": "code",
   "execution_count": 14,
   "id": "48257f98",
   "metadata": {},
   "outputs": [
    {
     "name": "stdout",
     "output_type": "stream",
     "text": [
      "2D List:\n",
      "['1', '2', '3']\n",
      "['4', '5', '6']\n",
      "[['1', '2', '3'], ['4', '5', '6']]\n"
     ]
    }
   ],
   "source": [
    "m, n = map(int, input(\"Enter m and n: \").split())\n",
    "data = input(\"Enter elements: \").split()\n",
    "\n",
    "matrix = [data[i:i+n] for i in range(0, len(data), n)]\n",
    "\n",
    "\n",
    "print(\"2D List:\")\n",
    "for row in matrix:\n",
    "    print(row)\n",
    "print(matrix)"
   ]
  },
  {
   "cell_type": "markdown",
   "id": "9ed9cafc",
   "metadata": {},
   "source": [
    "<h1><b><i><u>TUPLE"
   ]
  },
  {
   "cell_type": "code",
   "execution_count": 10,
   "id": "a39772ef",
   "metadata": {},
   "outputs": [
    {
     "name": "stdout",
     "output_type": "stream",
     "text": [
      "5\n",
      "(5, 4)\n"
     ]
    }
   ],
   "source": [
    "tup=(1,2,3,4,5)\n",
    "print(tup[-1])\n",
    "print(tup[-1:-3:-1])"
   ]
  },
  {
   "cell_type": "code",
   "execution_count": 1,
   "id": "b3de4dd4",
   "metadata": {},
   "outputs": [
    {
     "name": "stdout",
     "output_type": "stream",
     "text": [
      "('apple', 'kiwi', 'cherry')\n"
     ]
    }
   ],
   "source": [
    "x = (\"apple\", \"banana\", \"cherry\")\n",
    "y = list(x)\n",
    "y[1] = \"kiwi\"\n",
    "x = tuple(y)\n",
    "\n",
    "print(x)"
   ]
  },
  {
   "cell_type": "code",
   "execution_count": 2,
   "id": "c1547ad1",
   "metadata": {},
   "outputs": [
    {
     "name": "stdout",
     "output_type": "stream",
     "text": [
      "apple\n",
      "banana\n",
      "['cherry', 'strawberry', 'raspberry']\n"
     ]
    }
   ],
   "source": [
    "fruits = (\"apple\", \"banana\", \"cherry\", \"strawberry\", \"raspberry\")\n",
    "\n",
    "(green, yellow, *red) = fruits\n",
    "\n",
    "print(green)\n",
    "print(yellow)\n",
    "print(red)"
   ]
  },
  {
   "cell_type": "code",
   "execution_count": 3,
   "id": "69791771",
   "metadata": {},
   "outputs": [
    {
     "name": "stdout",
     "output_type": "stream",
     "text": [
      "4\n"
     ]
    }
   ],
   "source": [
    "#count method\n",
    "t=('aa[le]',1,2,3,1,2,3,1,2,1,0,9,8,7,6)\n",
    "print(t.count(1))"
   ]
  },
  {
   "cell_type": "code",
   "execution_count": 5,
   "id": "c8c00488",
   "metadata": {},
   "outputs": [
    {
     "name": "stdout",
     "output_type": "stream",
     "text": [
      "3\n"
     ]
    }
   ],
   "source": [
    "t=(1,2,3,True,False,1,3)\n",
    "print(t.count(True))"
   ]
  },
  {
   "cell_type": "code",
   "execution_count": 7,
   "id": "7a60b47e",
   "metadata": {},
   "outputs": [
    {
     "name": "stdout",
     "output_type": "stream",
     "text": [
      "4\n"
     ]
    }
   ],
   "source": [
    "# t=('apple]',1,2,3,1,2,3,1,2,1,0,9,8,7,6)\n",
    "t=(1,2,3,True,False,1,3)\n",
    "print(t.index(0))"
   ]
  },
  {
   "cell_type": "code",
   "execution_count": 11,
   "id": "6f50a2dd",
   "metadata": {},
   "outputs": [
    {
     "name": "stdout",
     "output_type": "stream",
     "text": [
      "tuple.index(x): x not in tuple\n",
      "0       3       1\n"
     ]
    }
   ],
   "source": [
    "t = ('a', 'b', 'c', 'a', 'b')\n",
    "\n",
    "v=t.index('a')            # 0\n",
    "w=t.index('a', 1)         # 3  (search starts at index 1)\n",
    "x=t.index('b', 1, 4)      # 1  (search between 1 and 3 inclusive)\n",
    "\n",
    "try:\n",
    "    t.index('z')            # ValueError: tuple.index(x): x not in tuple\n",
    "except Exception as e:\n",
    "    print(e)\n",
    "print(v,w,x,sep=\"       \")"
   ]
  },
  {
   "cell_type": "code",
   "execution_count": 12,
   "id": "308b5ae9",
   "metadata": {},
   "outputs": [
    {
     "name": "stdout",
     "output_type": "stream",
     "text": [
      "Average score: 78.0\n",
      "Students above average:\n",
      "Alice\n",
      "Charlie\n",
      "Eve\n"
     ]
    }
   ],
   "source": [
    "students = [\n",
    "    (\"Alice\", 80),\n",
    "    (\"Bob\", 75),\n",
    "    (\"Charlie\", 90),\n",
    "    (\"David\", 60),\n",
    "    (\"Eve\", 85)\n",
    "]\n",
    "\n",
    "# Step 1: Calculate average using unpacking\n",
    "total_score = sum(score for _, score in students)\n",
    "average = total_score / len(students)\n",
    "\n",
    "print(f\"Average score: {average:.1f}\")\n",
    "print(\"Students above average:\")\n",
    "\n",
    "# Step 2: Filter and print using unpacking\n",
    "for name, score in students:\n",
    "    if score > average:\n",
    "        print(name)\n"
   ]
  },
  {
   "cell_type": "code",
   "execution_count": 16,
   "id": "170a7ba5",
   "metadata": {},
   "outputs": [
    {
     "data": {
      "text/plain": [
       "25"
      ]
     },
     "execution_count": 16,
     "metadata": {},
     "output_type": "execute_result"
    }
   ],
   "source": [
    "students = [\n",
    "    (\"Alice\", 80,5),\n",
    "    (\"Bob\", 75,5),\n",
    "    (\"Charlie\", 90,5),\n",
    "    (\"David\", 60,5),\n",
    "    (\"Eve\", 85,5)\n",
    "]\n",
    "\n",
    "# Step 1: Calculate average using unpacking\n",
    "total_score = sum(score for _,x, score in students)\n",
    "total_score"
   ]
  },
  {
   "cell_type": "markdown",
   "id": "fe5a25e3",
   "metadata": {},
   "source": [
    "SET\n"
   ]
  },
  {
   "cell_type": "code",
   "execution_count": 17,
   "id": "679bb08a",
   "metadata": {},
   "outputs": [
    {
     "name": "stdout",
     "output_type": "stream",
     "text": [
      "{1, 2, 3, 4}\n"
     ]
    }
   ],
   "source": [
    "s={1,2,3,3,4,4}\n",
    "print(s)"
   ]
  },
  {
   "cell_type": "code",
   "execution_count": 18,
   "id": "6f407dca",
   "metadata": {},
   "outputs": [
    {
     "data": {
      "text/plain": [
       "5"
      ]
     },
     "execution_count": 18,
     "metadata": {},
     "output_type": "execute_result"
    }
   ],
   "source": [
    "s={1,2,3,3,4,4,5}\n",
    "len(s)"
   ]
  },
  {
   "cell_type": "code",
   "execution_count": 24,
   "id": "241a19da",
   "metadata": {},
   "outputs": [
    {
     "name": "stdout",
     "output_type": "stream",
     "text": [
      "{1, 2}\n",
      "{4, 5}\n"
     ]
    },
    {
     "data": {
      "text/plain": [
       "False"
      ]
     },
     "execution_count": 24,
     "metadata": {},
     "output_type": "execute_result"
    }
   ],
   "source": [
    "s1={1,2,3}\n",
    "s2={3,3,3,4,5}\n",
    "print(s1-s2)\n",
    "print(s2-s1)\n",
    "s1==s2"
   ]
  },
  {
   "cell_type": "code",
   "execution_count": 32,
   "id": "da43b2f0",
   "metadata": {},
   "outputs": [
    {
     "name": "stdout",
     "output_type": "stream",
     "text": [
      "(1, 2, 3, (True, 'abcd'), 'OK', (1, 2, (7.7, 8.8)))\n",
      "(True, 'abcd')\n",
      "abcd\n",
      "('abcd',)\n",
      "OK\n",
      "(1, 2, (7.7, 8.8))\n",
      "(1, 2, (7.7, 8.8))\n",
      "(7.7, 8.8)\n",
      "8.8\n"
     ]
    }
   ],
   "source": [
    "tup=(1,2,3,(True,\"abcd\"),\"OK\",(1,2,(7.7,8.8)))\n",
    "print(tup)\n",
    "\n",
    "print(tup[3])\n",
    "print(tup[3][1])\n",
    "print(tup[3][1:])\n",
    "print(tup[4])\n",
    "print(tup[5])\n",
    "print(tup[5])\n",
    "print(tup[5][2])\n",
    "print(tup[5][2][1])"
   ]
  },
  {
   "cell_type": "code",
   "execution_count": 4,
   "id": "504c666c",
   "metadata": {},
   "outputs": [
    {
     "data": {
      "text/plain": [
       "True"
      ]
     },
     "execution_count": 4,
     "metadata": {},
     "output_type": "execute_result"
    }
   ],
   "source": [
    "#comparison of tuple\n",
    "t1=(1,2)\n",
    "t2=(1,4)\n",
    "t1==t2\n",
    "t1<t2\n",
    "not(t1>t2)"
   ]
  },
  {
   "cell_type": "markdown",
   "id": "6266cb92",
   "metadata": {},
   "source": [
    "<h1>SET</h1>"
   ]
  },
  {
   "cell_type": "code",
   "execution_count": 33,
   "id": "afafacb1",
   "metadata": {},
   "outputs": [
    {
     "name": "stdout",
     "output_type": "stream",
     "text": [
      "['X', 'Y', 'a', 'b']\n",
      "<class 'list'>\n"
     ]
    }
   ],
   "source": [
    "tup=('a','b','X','Y')\n",
    "x=sorted(tup)\n",
    "print(x,type(x),sep='\\n')"
   ]
  },
  {
   "cell_type": "code",
   "execution_count": 3,
   "id": "b8457abf",
   "metadata": {},
   "outputs": [
    {
     "name": "stdout",
     "output_type": "stream",
     "text": [
      "(1, 2, [1, 2, 3], {'', 1, 2}, 'ok')\n",
      "(1, 2, [999, 2, 3], {'', 1, 2}, 'ok')\n",
      "[999, 2, 3]\n"
     ]
    }
   ],
   "source": [
    "tup=(1,2,[1,2,3],{1,'',2,2,2},'ok')\n",
    "print(tup)\n",
    "\n",
    "tup[2][0]=999\n",
    "print(tup)\n",
    "print(tup[2])"
   ]
  },
  {
   "cell_type": "code",
   "execution_count": 11,
   "id": "06d4d522",
   "metadata": {},
   "outputs": [
    {
     "name": "stdout",
     "output_type": "stream",
     "text": [
      "{1, 2, (1, 2, 2, 2)}\n",
      "unhashable type: 'list'\n",
      "{1, 2, 3, (0, 1, 2, 3, 4, 5, 6, 7, 8, 9, 10)}\n",
      "unhashable type: 'set'\n",
      "{False, 1, 2, 3, 4, 5, 6}\n"
     ]
    }
   ],
   "source": [
    "#creating set\n",
    "s={1,2,2,2,(1,2,2,2)}\n",
    "print(s)\n",
    "\n",
    "try:\n",
    "    s2={1,2,3,3,2,[1,2,3]}\n",
    "except Exception as e:\n",
    "    print(e)\n",
    "else:\n",
    "    print(s2)\n",
    "\n",
    "s3={1,2,3,tuple(range(11))}\n",
    "print(s3)\n",
    "\n",
    "try:\n",
    "\n",
    "    s4={1,2,3,set(range(11))}\n",
    "except Exception as e:\n",
    "    print(e)\n",
    "else:\n",
    "    print(s4)\n",
    "\n",
    "\n",
    "s5=set([2,2,3,3,3,1,2,2,2,4,5,6,6,6,True,True,False,False])\n",
    "print(s5)"
   ]
  },
  {
   "cell_type": "code",
   "execution_count": 12,
   "id": "88f4ee07",
   "metadata": {},
   "outputs": [
    {
     "name": "stdout",
     "output_type": "stream",
     "text": [
      "set()    <class 'set'>\n"
     ]
    }
   ],
   "source": [
    "#create empy set\n",
    "s=set()\n",
    "print(s,type(s),sep='    ')"
   ]
  },
  {
   "cell_type": "code",
   "execution_count": 15,
   "id": "8761887b",
   "metadata": {},
   "outputs": [
    {
     "name": "stdout",
     "output_type": "stream",
     "text": [
      "True\n",
      "\n",
      "False\n"
     ]
    }
   ],
   "source": [
    "#compare sets\n",
    "s1={1,2,2,2,3}\n",
    "s2={2,1,3,2,2}\n",
    "print(s1==s2)\n",
    "print()\n",
    "print(s1!=s2)"
   ]
  },
  {
   "cell_type": "code",
   "execution_count": 17,
   "id": "c73d779f",
   "metadata": {},
   "outputs": [
    {
     "name": "stdout",
     "output_type": "stream",
     "text": [
      "set()\n",
      "<class 'set'>\n"
     ]
    }
   ],
   "source": [
    "se=set()\n",
    "print(se)\n",
    "print(type(se))"
   ]
  },
  {
   "cell_type": "code",
   "execution_count": 18,
   "id": "8160f88d",
   "metadata": {},
   "outputs": [
    {
     "name": "stdout",
     "output_type": "stream",
     "text": [
      "{'', 1, 2, 3}\n"
     ]
    }
   ],
   "source": [
    "s={1,'',2,3}\n",
    "print(s)"
   ]
  },
  {
   "cell_type": "code",
   "execution_count": 19,
   "id": "98432b35",
   "metadata": {},
   "outputs": [
    {
     "name": "stdout",
     "output_type": "stream",
     "text": [
      "{1, 2, 3, 'U', 'T'}\n"
     ]
    }
   ],
   "source": [
    "s=set([1,2,2,3,'T','U'])\n",
    "print(s)"
   ]
  },
  {
   "cell_type": "code",
   "execution_count": 20,
   "id": "cc21695c",
   "metadata": {},
   "outputs": [
    {
     "name": "stdout",
     "output_type": "stream",
     "text": [
      "<class 'set'>\n"
     ]
    }
   ],
   "source": [
    "se={1}\n",
    "print(type(se))"
   ]
  },
  {
   "cell_type": "code",
   "execution_count": 21,
   "id": "02f6d660",
   "metadata": {},
   "outputs": [
    {
     "data": {
      "text/plain": [
       "{1, 3}"
      ]
     },
     "execution_count": 21,
     "metadata": {},
     "output_type": "execute_result"
    }
   ],
   "source": [
    "s1=set(dict({1:2,3:4}))\n",
    "s1"
   ]
  },
  {
   "cell_type": "code",
   "execution_count": 27,
   "id": "39928928",
   "metadata": {},
   "outputs": [
    {
     "name": "stdout",
     "output_type": "stream",
     "text": [
      "{False, 1, 2, 3}\n",
      "{0, 1, 2, 3}\n"
     ]
    },
    {
     "data": {
      "text/plain": [
       "{0, True, 2}"
      ]
     },
     "execution_count": 27,
     "metadata": {},
     "output_type": "execute_result"
    }
   ],
   "source": [
    "s1={3,2,2,1,3,True,False}\n",
    "print(s1)\n",
    "s2={3,0,2,1,0,True,False}\n",
    "print(s2)\n",
    "s3=set((True,0,False,1,2,2))\n",
    "s3"
   ]
  },
  {
   "cell_type": "code",
   "execution_count": 28,
   "id": "9b93c18c",
   "metadata": {},
   "outputs": [
    {
     "ename": "TypeError",
     "evalue": "unhashable type: 'set'",
     "output_type": "error",
     "traceback": [
      "\u001b[0;31m---------------------------------------------------------------------------\u001b[0m",
      "\u001b[0;31mTypeError\u001b[0m                                 Traceback (most recent call last)",
      "Cell \u001b[0;32mIn[28], line 1\u001b[0m\n\u001b[0;32m----> 1\u001b[0m sx\u001b[38;5;241m=\u001b[39m{\u001b[38;5;241m1\u001b[39m,\u001b[38;5;241m2\u001b[39m,\u001b[38;5;241m2\u001b[39m,{\u001b[38;5;241m1\u001b[39m,\u001b[38;5;241m2\u001b[39m}}\n",
      "\u001b[0;31mTypeError\u001b[0m: unhashable type: 'set'"
     ]
    }
   ],
   "source": [
    "sx={1,2,2,{1,2}}"
   ]
  },
  {
   "cell_type": "code",
   "execution_count": 30,
   "id": "50fb53ae",
   "metadata": {},
   "outputs": [
    {
     "name": "stdout",
     "output_type": "stream",
     "text": [
      "{1, 2, 3, 8, 9, 'OK'}\n"
     ]
    }
   ],
   "source": [
    "s=set((1,9,8,2,3,2,'OK'))\n",
    "print(s)"
   ]
  },
  {
   "cell_type": "code",
   "execution_count": 31,
   "id": "f27cfeac",
   "metadata": {},
   "outputs": [
    {
     "name": "stdout",
     "output_type": "stream",
     "text": [
      "{'papaya', 'cherry', 'banana', 'pineapple', 'mango', 'apple'}\n"
     ]
    }
   ],
   "source": [
    "thisset = {\"apple\", \"banana\", \"cherry\"}\n",
    "tropical = {\"pineapple\", \"mango\", \"papaya\"}\n",
    "\n",
    "thisset.update(tropical)\n",
    "\n",
    "print(thisset)"
   ]
  },
  {
   "cell_type": "code",
   "execution_count": 32,
   "id": "48f7b186",
   "metadata": {},
   "outputs": [
    {
     "data": {
      "text/plain": [
       "{'apple', 'banana', 'cherry', 'mango', 'pineapple'}"
      ]
     },
     "execution_count": 32,
     "metadata": {},
     "output_type": "execute_result"
    }
   ],
   "source": [
    "s1 = {\"apple\", \"banana\", \"cherry\"}\n",
    "s2 = {\"pineapple\", \"mango\", 'apple'}\n",
    "s1.update(s2)\n",
    "s1"
   ]
  },
  {
   "cell_type": "code",
   "execution_count": 33,
   "id": "6870255d",
   "metadata": {},
   "outputs": [
    {
     "data": {
      "text/plain": [
       "{0, 1, 2, 3, 4, 5, 6}"
      ]
     },
     "execution_count": 33,
     "metadata": {},
     "output_type": "execute_result"
    }
   ],
   "source": [
    "se={1,2,2,3,4,4,4,4}\n",
    "se.update(range(7))\n",
    "se"
   ]
  },
  {
   "cell_type": "code",
   "execution_count": 34,
   "id": "5c02fb85",
   "metadata": {},
   "outputs": [
    {
     "ename": "KeyError",
     "evalue": "200",
     "output_type": "error",
     "traceback": [
      "\u001b[0;31m---------------------------------------------------------------------------\u001b[0m",
      "\u001b[0;31mKeyError\u001b[0m                                  Traceback (most recent call last)",
      "Cell \u001b[0;32mIn[34], line 2\u001b[0m\n\u001b[1;32m      1\u001b[0m s\u001b[38;5;241m=\u001b[39m{\u001b[38;5;241m1\u001b[39m,\u001b[38;5;241m2\u001b[39m,\u001b[38;5;241m2\u001b[39m,\u001b[38;5;241m2\u001b[39m,\u001b[38;5;241m2\u001b[39m,\u001b[38;5;241m3\u001b[39m,\u001b[38;5;241m3\u001b[39m,\u001b[38;5;241m4\u001b[39m,\u001b[38;5;241m5\u001b[39m,\u001b[38;5;241m7\u001b[39m}\n\u001b[0;32m----> 2\u001b[0m \u001b[43ms\u001b[49m\u001b[38;5;241;43m.\u001b[39;49m\u001b[43mremove\u001b[49m\u001b[43m(\u001b[49m\u001b[38;5;241;43m200\u001b[39;49m\u001b[43m)\u001b[49m\n",
      "\u001b[0;31mKeyError\u001b[0m: 200"
     ]
    }
   ],
   "source": [
    "s={1,2,2,2,2,3,3,4,5,7}\n",
    "s.remove(200)\n"
   ]
  },
  {
   "cell_type": "code",
   "execution_count": 35,
   "id": "f0cdaca1",
   "metadata": {},
   "outputs": [],
   "source": [
    "s={'apple','banana','chery'}\n",
    "s.discard('mango')"
   ]
  },
  {
   "cell_type": "code",
   "execution_count": 3,
   "id": "8509f6b9",
   "metadata": {},
   "outputs": [
    {
     "name": "stdout",
     "output_type": "stream",
     "text": [
      "{1, 2, 3, 'attention', 'ok', 'archive'}\n",
      "{2, 3, 'attention', 'ok', 'archive'}\n",
      "1\n",
      "{3, 'attention', 'ok', 'archive'}\n",
      "{'attention', 'ok', 'archive'}\n",
      "{'ok', 'archive'}\n"
     ]
    }
   ],
   "source": [
    "s={1,2,2,3,3,3,True,'ok','archive','attention'}\n",
    "print(s)\n",
    "x=s.pop()\n",
    "print(s)\n",
    "print(x)\n",
    "x=s.pop()\n",
    "print(s)\n",
    "x=s.pop()\n",
    "print(s)\n",
    "x=s.pop()\n",
    "print(s)"
   ]
  },
  {
   "cell_type": "code",
   "execution_count": 4,
   "id": "79875da9",
   "metadata": {},
   "outputs": [
    {
     "name": "stdout",
     "output_type": "stream",
     "text": [
      "{'banana', 'kiwi'}\n",
      "apple\n"
     ]
    }
   ],
   "source": [
    "s={'apple','banana','kiwi'}\n",
    "x=s.pop()\n",
    "print(s)\n",
    "print(x)"
   ]
  },
  {
   "cell_type": "code",
   "execution_count": 6,
   "id": "5744a241",
   "metadata": {},
   "outputs": [
    {
     "name": "stdout",
     "output_type": "stream",
     "text": [
      "unsupported operand type(s) for +: 'set' and 'set'\n"
     ]
    }
   ],
   "source": [
    "s1 = {\"apple\", \"banana\", \"cherry\"}\n",
    "s2 = {\"pineapple\", \"mango\", 'apple'}\n",
    "try:\n",
    "    print(s1+s2)\n",
    "except Exception as el:\n",
    "    print(el)"
   ]
  },
  {
   "cell_type": "code",
   "execution_count": 7,
   "id": "eac55417",
   "metadata": {},
   "outputs": [
    {
     "name": "stdout",
     "output_type": "stream",
     "text": [
      "{1, 2, 3, 4, 6}\n"
     ]
    }
   ],
   "source": [
    "s={1,2,3}\n",
    "d={4:5, 6:7}\n",
    "x=s.union(d)\n",
    "print(x)"
   ]
  },
  {
   "cell_type": "code",
   "execution_count": null,
   "id": "b2ddc819",
   "metadata": {},
   "outputs": [],
   "source": [
    "s={1,2,2,'True','False'}"
   ]
  },
  {
   "cell_type": "code",
   "execution_count": 10,
   "id": "a76456b0",
   "metadata": {},
   "outputs": [
    {
     "name": "stdout",
     "output_type": "stream",
     "text": [
      "True\n"
     ]
    }
   ],
   "source": [
    "a={1,2,3,4}\n",
    "b=a\n",
    "print(id(a)==id(b))"
   ]
  },
  {
   "cell_type": "code",
   "execution_count": 8,
   "id": "59cead12",
   "metadata": {},
   "outputs": [
    {
     "name": "stdout",
     "output_type": "stream",
     "text": [
      "4386937760\n",
      "4393008032\n",
      "{1, 2, 3, 4, 5}\n",
      "{2, 3, 4, 5}        1\n"
     ]
    }
   ],
   "source": [
    "s={1,2,2,2,3,3,3,4,4,4,4,5}\n",
    "print(id(s))\n",
    "x=s.copy()\n",
    "print(id(x))\n",
    "print(x)\n",
    "xx=x.pop()\n",
    "print(x,xx,sep='        ')"
   ]
  },
  {
   "cell_type": "code",
   "execution_count": 7,
   "id": "b827a4cb",
   "metadata": {},
   "outputs": [
    {
     "name": "stdout",
     "output_type": "stream",
     "text": [
      "{False, 1, 2, 3} {0, 1, 2, 3}\n",
      "True\n",
      "{True, 2, 3, 4} {1, 2, 3, 4, 5}\n"
     ]
    },
    {
     "data": {
      "text/plain": [
       "False"
      ]
     },
     "execution_count": 7,
     "metadata": {},
     "output_type": "execute_result"
    }
   ],
   "source": [
    "s1={False,1,2,3,True}\n",
    "s2={1,2,0,2,3}\n",
    "print(s1,s2)\n",
    "print(s1==s2)\n",
    "s3={True,1,2,3,4}\n",
    "s4={1,2,3,4,5}\n",
    "print(s3,s4)\n",
    "s3==s4"
   ]
  },
  {
   "cell_type": "code",
   "execution_count": 31,
   "id": "e5b2108a",
   "metadata": {},
   "outputs": [
    {
     "data": {
      "text/plain": [
       "True"
      ]
     },
     "execution_count": 31,
     "metadata": {},
     "output_type": "execute_result"
    }
   ],
   "source": [
    "s1={1,2,3,4,5}\n",
    "s2={1,2,3,}\n",
    "s1>s2"
   ]
  },
  {
   "cell_type": "code",
   "execution_count": 37,
   "id": "0be7e143",
   "metadata": {},
   "outputs": [
    {
     "name": "stdout",
     "output_type": "stream",
     "text": [
      "Set A: {1, 2}\n",
      "Set B: {1, 2, 3}\n",
      "\n",
      "A == B : False\n",
      "A < B  : True\n",
      "A > B  : False\n",
      "A <= B : True\n",
      "A >= B : False\n",
      "\n",
      "Set C: {1, 2, 3}\n",
      "Set D: {1, 2, 3}\n",
      "C == D : True\n",
      "C <= D : True\n",
      "C < D  : False\n"
     ]
    }
   ],
   "source": [
    "# Define two sets\n",
    "A = {1, 2}\n",
    "B = {1, 2, 3}\n",
    "\n",
    "# Perform all comparisons\n",
    "print(\"Set A:\", A)\n",
    "print(\"Set B:\", B)\n",
    "print()\n",
    "\n",
    "print(\"A == B :\", A == B)   # Equality\n",
    "print(\"A < B  :\", A < B)    # Proper subset\n",
    "print(\"A > B  :\", A > B)    # Proper superset\n",
    "print(\"A <= B :\", A <= B)   # Subset (can be equal)\n",
    "print(\"A >= B :\", A >= B)   # Superset (can be equal)\n",
    "\n",
    "# For completeness, also show when sets are equal\n",
    "C = {1, 2, 3}\n",
    "D = {3, 2, 1}\n",
    "\n",
    "print(\"\\nSet C:\", C)\n",
    "print(\"Set D:\", D)\n",
    "\n",
    "print(\"C == D :\", C == D)   # True (same elements)\n",
    "print(\"C <= D :\", C <= D)   # True (equal counts as subset)\n",
    "print(\"C < D  :\", C < D)    # False (not a proper subset)\n"
   ]
  },
  {
   "cell_type": "code",
   "execution_count": 42,
   "id": "b92767a3",
   "metadata": {},
   "outputs": [
    {
     "name": "stdout",
     "output_type": "stream",
     "text": [
      "{0, 1, 2, 3, 4, 5}\n",
      "{0, 1, 2, 3, 4, 5, 6, 7, 8, 9, 10}\n",
      "{0, 1, 2, 3, 4, 5, 6, 7, 8, 9, 10}\n",
      "\n",
      "\n",
      "4422128576       4422225024       4422225696\n",
      "\n",
      "\n",
      "\n",
      "\n",
      "True\n",
      "True\n",
      "True\n",
      "True\n"
     ]
    }
   ],
   "source": [
    "a={0,False,1,2,3,4,5}\n",
    "b=set(range(11))\n",
    "c=set(range(11))\n",
    "print(a,b,c,sep='\\n',end='\\n\\n\\n')\n",
    "print(id(a),id(b),id(c),sep='       ',end='\\n\\n\\n\\n\\n')\n",
    "print(a<=b)\n",
    "print(a<=c)\n",
    "print(b<=c)\n",
    "print(c<=b)\n"
   ]
  },
  {
   "cell_type": "code",
   "execution_count": 39,
   "id": "2ecc4be9",
   "metadata": {},
   "outputs": [
    {
     "name": "stdout",
     "output_type": "stream",
     "text": [
      "{False, 1, 2, 3, 4, 7}\n",
      "{0, 1, 2, 3, 4}\n",
      "{False, 1, 2, 3, 4}\n",
      "\n",
      "\n",
      "True\n",
      "True\n",
      "False\n"
     ]
    }
   ],
   "source": [
    "a={1,2,3,False,3,2,7,4}\n",
    "b={0,1,2,3,4}\n",
    "c={False,4,1,4,3,2}\n",
    "print(a,b,c,sep=\"\\n\",end='\\n\\n\\n')\n",
    "print(a>b)\n",
    "print(a>c)\n",
    "print(b>c)"
   ]
  },
  {
   "cell_type": "code",
   "execution_count": 36,
   "id": "911fbcd3",
   "metadata": {},
   "outputs": [
    {
     "name": "stdout",
     "output_type": "stream",
     "text": [
      "False\n"
     ]
    }
   ],
   "source": [
    "s1={'A',\"B\",\"C\"}\n",
    "s2={\"X\",\"y\",'Z'}\n",
    "print(s1<=s2)"
   ]
  },
  {
   "cell_type": "code",
   "execution_count": 43,
   "id": "e18cbe85",
   "metadata": {},
   "outputs": [
    {
     "name": "stdout",
     "output_type": "stream",
     "text": [
      "Set A: {1, 2, 3}\n",
      "Set B: {3, 4, 5}\n",
      "Set C: {1, 2}\n",
      "Set D: {10, 20}\n",
      "\n",
      "Union (A | B): {1, 2, 3, 4, 5}\n",
      "Union (A.union(B)): {1, 2, 3, 4, 5}\n",
      "Intersection (A & B): {3}\n",
      "Intersection (A.intersection(B)): {3}\n",
      "Difference (A - B): {1, 2}\n",
      "Difference (A.difference(B)): {1, 2}\n",
      "Symmetric Difference (A ^ B): {1, 2, 4, 5}\n",
      "Symmetric Difference (A.symmetric_difference(B)): {1, 2, 4, 5}\n",
      "Is C subset of A (C <= A): True\n",
      "Is C subset of A (C.issubset(A)): True\n",
      "Is A superset of C (A >= C): True\n",
      "Is A superset of C (A.issuperset(C)): True\n",
      "Are A and D disjoint (A.isdisjoint(D)): True\n",
      "\n",
      "--- In-place operations on A_copy ---\n",
      "A_copy after update(B): {1, 2, 3, 4, 5}\n",
      "A_copy after intersection_update(B): {3}\n",
      "A_copy after difference_update(B): {1, 2}\n",
      "A_copy after symmetric_difference_update(B): {1, 2, 4, 5}\n"
     ]
    }
   ],
   "source": [
    "# Define sets\n",
    "A = {1, 2, 3}\n",
    "B = {3, 4, 5}\n",
    "C = {1, 2}\n",
    "D = {10, 20}\n",
    "\n",
    "print(\"Set A:\", A)\n",
    "print(\"Set B:\", B)\n",
    "print(\"Set C:\", C)\n",
    "print(\"Set D:\", D)\n",
    "print()\n",
    "\n",
    "# 1. Union\n",
    "print(\"Union (A | B):\", A | B)\n",
    "print(\"Union (A.union(B)):\", A.union(B))\n",
    "\n",
    "# 2. Intersection\n",
    "print(\"Intersection (A & B):\", A & B)\n",
    "print(\"Intersection (A.intersection(B)):\", A.intersection(B))\n",
    "\n",
    "# 3. Difference\n",
    "print(\"Difference (A - B):\", A - B)\n",
    "print(\"Difference (A.difference(B)):\", A.difference(B))\n",
    "\n",
    "# 4. Symmetric Difference\n",
    "print(\"Symmetric Difference (A ^ B):\", A ^ B)\n",
    "print(\"Symmetric Difference (A.symmetric_difference(B)):\", A.symmetric_difference(B))\n",
    "\n",
    "# 5. Subset\n",
    "print(\"Is C subset of A (C <= A):\", C <= A)\n",
    "print(\"Is C subset of A (C.issubset(A)):\", C.issubset(A))\n",
    "\n",
    "# 6. Superset\n",
    "print(\"Is A superset of C (A >= C):\", A >= C)\n",
    "print(\"Is A superset of C (A.issuperset(C)):\", A.issuperset(C))\n",
    "\n",
    "# 7. Disjoint\n",
    "print(\"Are A and D disjoint (A.isdisjoint(D)):\", A.isdisjoint(D))\n",
    "\n",
    "# 8. In-place Updates\n",
    "print(\"\\n--- In-place operations on A_copy ---\")\n",
    "A_copy = A.copy()\n",
    "\n",
    "A_copy.update(B)\n",
    "print(\"A_copy after update(B):\", A_copy)  # A |= B\n",
    "\n",
    "A_copy = A.copy()\n",
    "A_copy.intersection_update(B)\n",
    "print(\"A_copy after intersection_update(B):\", A_copy)  # A &= B\n",
    "\n",
    "A_copy = A.copy()\n",
    "A_copy.difference_update(B)\n",
    "print(\"A_copy after difference_update(B):\", A_copy)  # A -= B\n",
    "\n",
    "A_copy = A.copy()\n",
    "A_copy.symmetric_difference_update(B)\n",
    "print(\"A_copy after symmetric_difference_update(B):\", A_copy)  # A ^= B\n",
    "\n"
   ]
  },
  {
   "cell_type": "code",
   "execution_count": 53,
   "id": "49be580f",
   "metadata": {},
   "outputs": [
    {
     "name": "stdout",
     "output_type": "stream",
     "text": [
      "{1, 2}\n",
      "{4, 5}\n",
      "{3}\n",
      "set()\n",
      "{1, 2, 3}\n",
      "{10, 20}\n",
      "{1, 2, 4, 5} {1, 2, 4, 5} {3} {0, 4, 5, 6}\n"
     ]
    }
   ],
   "source": [
    "A = {1, 2, 3}\n",
    "B = {3, 4, 5}\n",
    "C = {1, 2}\n",
    "D = {10, 20}\n",
    "op=set(range(7))\n",
    "w=A-B\n",
    "x=B-A\n",
    "y=A-C\n",
    "z=C-A\n",
    "m=A-D\n",
    "n=D-A\n",
    "print(w,x,y,z,m,n,sep='\\n')\n",
    "aa=A^B\n",
    "bb=B^A\n",
    "cc=A^C\n",
    "dd=A^op\n",
    "print(aa,bb,cc,dd)\n"
   ]
  },
  {
   "cell_type": "code",
   "execution_count": 46,
   "id": "a59adbe5",
   "metadata": {},
   "outputs": [
    {
     "name": "stdout",
     "output_type": "stream",
     "text": [
      "{1, 2, 3, 4, 5, 6, 7}\n"
     ]
    }
   ],
   "source": [
    "a={1,2,3,4}\n",
    "b={3,4,5,6,7}\n",
    "c=b\n",
    "a.update(b,c)\n",
    "print(a)"
   ]
  },
  {
   "cell_type": "code",
   "execution_count": 48,
   "id": "5b587a5d",
   "metadata": {},
   "outputs": [
    {
     "name": "stdout",
     "output_type": "stream",
     "text": [
      "Original Sets:\n",
      "A = {1, 2, 3}\n",
      "B = {3, 4}\n",
      "C = {2, 3, 5}\n",
      "------------------------------\n",
      "After update(B, C): {1, 2, 3, 4, 5}\n",
      "After intersection_update(B, C): {3}\n",
      "After difference_update(B, C): {1}\n",
      "After symmetric_difference_update(B): {1, 2, 4}\n",
      "\n",
      "\n",
      "\n",
      "\n",
      "\n",
      "\n",
      "\n",
      "\n",
      "\n",
      "\n",
      " None\n"
     ]
    }
   ],
   "source": [
    "# Define base sets\n",
    "A = {1, 2, 3}\n",
    "B = {3, 4}\n",
    "C = {2, 3, 5}\n",
    "\n",
    "print(\"Original Sets:\")\n",
    "print(\"A =\", A)\n",
    "print(\"B =\", B)\n",
    "print(\"C =\", C)\n",
    "print(\"-\" * 30)\n",
    "\n",
    "# 1. update() = union\n",
    "a1 = A.copy()\n",
    "abcdefg=a1.update(B, C)  # adds elements from B and C\n",
    "print(\"After update(B, C):\", a1)  # A |= B | C → {1, 2, 3, 4, 5}\n",
    "\n",
    "# 2. intersection_update() = intersection\n",
    "a2 = A.copy()\n",
    "a2.intersection_update(B, C)  # keeps elements common to all\n",
    "print(\"After intersection_update(B, C):\", a2)  # A &= B & C → {3}\n",
    "\n",
    "# 3. difference_update() = difference\n",
    "a3 = A.copy()\n",
    "a3.difference_update(B, C)  # removes all elements from B and C\n",
    "print(\"After difference_update(B, C):\", a3)  # A -= B ∪ C → {1}\n",
    "\n",
    "# 4. symmetric_difference_update() = symmetric difference\n",
    "a4 = A.copy()\n",
    "a4.symmetric_difference_update(B)  # elements in either A or B, but not both\n",
    "print(\"After symmetric_difference_update(B):\", a4)  # A ^= B → {1, 2, 4}\n",
    "\n",
    "print('\\n\\n\\n\\n\\n\\n\\n\\n\\n\\n',abcdefg)"
   ]
  },
  {
   "cell_type": "markdown",
   "id": "06ed60b3",
   "metadata": {},
   "source": [
    "<h1>Dictionary"
   ]
  },
  {
   "cell_type": "code",
   "execution_count": 2,
   "id": "4d30890c",
   "metadata": {},
   "outputs": [
    {
     "name": "stdout",
     "output_type": "stream",
     "text": [
      "{1: 2, 3: 4} <class 'dict'>\n"
     ]
    }
   ],
   "source": [
    "d=dict({1:2,3:4})\n",
    "print(d,type(d))"
   ]
  },
  {
   "cell_type": "code",
   "execution_count": 1,
   "id": "cae47ec5",
   "metadata": {},
   "outputs": [
    {
     "name": "stdout",
     "output_type": "stream",
     "text": [
      "{1: 2, 2: 3}\n"
     ]
    }
   ],
   "source": [
    "d={1:2,2:3}\n",
    "print(d)"
   ]
  },
  {
   "cell_type": "code",
   "execution_count": 7,
   "id": "0b9da8df",
   "metadata": {},
   "outputs": [
    {
     "ename": "TypeError",
     "evalue": "cannot convert dictionary update sequence element #4 to a sequence",
     "output_type": "error",
     "traceback": [
      "\u001b[0;31m---------------------------------------------------------------------------\u001b[0m",
      "\u001b[0;31mTypeError\u001b[0m                                 Traceback (most recent call last)",
      "Cell \u001b[0;32mIn[7], line 5\u001b[0m\n\u001b[1;32m      3\u001b[0m e\u001b[38;5;241m=\u001b[39m[\u001b[38;5;241m7\u001b[39m,\u001b[38;5;124m'\u001b[39m\u001b[38;5;124mseven\u001b[39m\u001b[38;5;124m'\u001b[39m]\n\u001b[1;32m      4\u001b[0m lt\u001b[38;5;241m=\u001b[39m[a,b,(\u001b[38;5;241m3\u001b[39m,\u001b[38;5;124m'\u001b[39m\u001b[38;5;124mthree\u001b[39m\u001b[38;5;124m'\u001b[39m),(\u001b[38;5;241m4\u001b[39m,\u001b[38;5;124m'\u001b[39m\u001b[38;5;124mfour\u001b[39m\u001b[38;5;124m'\u001b[39m),\u001b[38;5;241m7\u001b[39m]\n\u001b[0;32m----> 5\u001b[0m d\u001b[38;5;241m=\u001b[39m\u001b[38;5;28;43mdict\u001b[39;49m\u001b[43m(\u001b[49m\u001b[43mlt\u001b[49m\u001b[43m)\u001b[49m\n\u001b[1;32m      6\u001b[0m d\n",
      "\u001b[0;31mTypeError\u001b[0m: cannot convert dictionary update sequence element #4 to a sequence"
     ]
    }
   ],
   "source": [
    "a=1,'one'\n",
    "b=(2,'two')\n",
    "e=[7,'seven']\n",
    "lt=[a,b,(3,'three'),(4,'four'),7]\n",
    "d=dict(lt)\n",
    "d"
   ]
  },
  {
   "cell_type": "code",
   "execution_count": 13,
   "id": "112e02a9",
   "metadata": {},
   "outputs": [
    {
     "name": "stdout",
     "output_type": "stream",
     "text": [
      "{1: None, 2: None, 3: None, 4: None}\n"
     ]
    }
   ],
   "source": [
    "l=[1,2,3,4]\n",
    "d=d.fromkeys(l,None)\n",
    "print(d)"
   ]
  },
  {
   "cell_type": "code",
   "execution_count": 16,
   "id": "fc29a7e1",
   "metadata": {},
   "outputs": [
    {
     "name": "stdout",
     "output_type": "stream",
     "text": [
      "{range(0, 4): 'ok', 'a': 'ok', 'b': 'ok', 'c': 'ok'}\n",
      "ok\n"
     ]
    },
    {
     "ename": "KeyError",
     "evalue": "9000",
     "output_type": "error",
     "traceback": [
      "\u001b[0;31m---------------------------------------------------------------------------\u001b[0m",
      "\u001b[0;31mKeyError\u001b[0m                                  Traceback (most recent call last)",
      "Cell \u001b[0;32mIn[16], line 5\u001b[0m\n\u001b[1;32m      3\u001b[0m \u001b[38;5;28mprint\u001b[39m(d)\n\u001b[1;32m      4\u001b[0m \u001b[38;5;28mprint\u001b[39m(d[\u001b[38;5;28mrange\u001b[39m(\u001b[38;5;241m4\u001b[39m)])\n\u001b[0;32m----> 5\u001b[0m \u001b[38;5;28mprint\u001b[39m(\u001b[43md\u001b[49m\u001b[43m[\u001b[49m\u001b[38;5;241;43m9000\u001b[39;49m\u001b[43m]\u001b[49m)\n",
      "\u001b[0;31mKeyError\u001b[0m: 9000"
     ]
    }
   ],
   "source": [
    "l=[range(4),'a','b','c']\n",
    "d=dict.fromkeys(l,'ok')\n",
    "print(d)\n",
    "print(d[range(4)])\n",
    "print(d[9000])"
   ]
  },
  {
   "cell_type": "code",
   "execution_count": 17,
   "id": "e33f3e05",
   "metadata": {},
   "outputs": [
    {
     "name": "stdout",
     "output_type": "stream",
     "text": [
      "dict_keys([1, 3, 5])\n",
      "dict_values([2, 4, 6])\n",
      "dict_keys([1, 3, 5, 7])\n",
      "dict_values([2, 4, 6, 900])\n"
     ]
    }
   ],
   "source": [
    "d={1:2,3:4,5:6}\n",
    "k=d.keys()\n",
    "v=d.values()\n",
    "print(k,v,sep='\\n')\n",
    "d[7]=900\n",
    "print(k,v,sep='\\n')\n"
   ]
  },
  {
   "cell_type": "code",
   "execution_count": 23,
   "id": "590d48e5",
   "metadata": {},
   "outputs": [
    {
     "name": "stdout",
     "output_type": "stream",
     "text": [
      "{('g', 6): 1}\n"
     ]
    }
   ],
   "source": [
    "d={('g',6):1}\n",
    "print(d)"
   ]
  },
  {
   "cell_type": "code",
   "execution_count": 24,
   "id": "b11424aa",
   "metadata": {},
   "outputs": [
    {
     "name": "stdout",
     "output_type": "stream",
     "text": [
      "{1: 900, 2: False, 3: 9}\n"
     ]
    }
   ],
   "source": [
    "d={1:100,2:\"hello\"}\n",
    "d[1]=900\n",
    "d[3]=9\n",
    "d[2]=False\n",
    "print(d)"
   ]
  },
  {
   "cell_type": "code",
   "execution_count": 27,
   "id": "46511536",
   "metadata": {},
   "outputs": [
    {
     "name": "stdout",
     "output_type": "stream",
     "text": [
      "{1: 'one', 'A': 'a', 5.6: 7}\n",
      "{1: 2, 'A': 'a', 5.6: 7, 'o': 'p'}\n"
     ]
    }
   ],
   "source": [
    "d={1:'one','A':'a',5.6:7}\n",
    "print(d)\n",
    "d.update(((1,2),('o','p')))\n",
    "print(d)"
   ]
  },
  {
   "cell_type": "code",
   "execution_count": 1,
   "id": "408094ca",
   "metadata": {},
   "outputs": [
    {
     "name": "stdout",
     "output_type": "stream",
     "text": [
      "dict_keys([1, 'A', 5.6])\n",
      "dict_values(['p', 'a', 7])\n"
     ]
    }
   ],
   "source": [
    "d={1:'one','A':'a',5.6:7,True:'p'}\n",
    "print(d.keys())\n",
    "print(d.values())"
   ]
  },
  {
   "cell_type": "code",
   "execution_count": 6,
   "id": "bed27159",
   "metadata": {},
   "outputs": [
    {
     "name": "stdout",
     "output_type": "stream",
     "text": [
      "{1: 2, False: '🔥', 'a': 'n', 2.3: 4.5}\n",
      "dict_keys([1, False, 'a', 2.3])\n",
      "dict_values([2, '🔥', 'n', 4.5])\n",
      "{1: 2, False: '🔥', 'a': 'Hello_Hassinaa', 2.3: 4.5}\n",
      "dict_keys([1, False, 'a', 2.3])\n",
      "dict_values([2, '🔥', 'Hello_Hassinaa', 4.5])\n",
      "{1: 2, False: '🔥', 'a': 'Hello_Hassinaa', 2.3: 4.5, 9: 999}\n",
      "dict_keys([1, False, 'a', 2.3, 9])\n",
      "dict_values([2, '🔥', 'Hello_Hassinaa', 4.5, 999])\n",
      "dict_items([(1, 2), (False, '🔥'), ('a', 'Hello_Hassinaa'), (2.3, 4.5), (9, 999)])\n"
     ]
    }
   ],
   "source": [
    "d={1:2,False:'🔥', 'a':'n',2.3:4.5}\n",
    "k=d.keys()\n",
    "l=d.values()\n",
    "print(d,k,l,sep='\\n')\n",
    "d['a']='Hello_Hassinaa'\n",
    "print(d,k,l,sep='\\n')\n",
    "d.update(((9,999),))\n",
    "print(d,k,l,sep='\\n')\n",
    "ff=d.items()\n",
    "print(ff)"
   ]
  },
  {
   "cell_type": "code",
   "execution_count": 7,
   "id": "c5201d8a",
   "metadata": {},
   "outputs": [
    {
     "ename": "KeyError",
     "evalue": "'paner'",
     "output_type": "error",
     "traceback": [
      "\u001b[0;31m---------------------------------------------------------------------------\u001b[0m",
      "\u001b[0;31mKeyError\u001b[0m                                  Traceback (most recent call last)",
      "Cell \u001b[0;32mIn[7], line 2\u001b[0m\n\u001b[1;32m      1\u001b[0m d\u001b[38;5;241m=\u001b[39m{\u001b[38;5;241m1\u001b[39m:\u001b[38;5;241m2\u001b[39m,\u001b[38;5;28;01mFalse\u001b[39;00m:\u001b[38;5;124m'\u001b[39m\u001b[38;5;124m🔥\u001b[39m\u001b[38;5;124m'\u001b[39m, \u001b[38;5;124m'\u001b[39m\u001b[38;5;124ma\u001b[39m\u001b[38;5;124m'\u001b[39m:\u001b[38;5;124m'\u001b[39m\u001b[38;5;124mn\u001b[39m\u001b[38;5;124m'\u001b[39m,\u001b[38;5;241m2.3\u001b[39m:\u001b[38;5;241m4.5\u001b[39m}\n\u001b[0;32m----> 2\u001b[0m \u001b[38;5;28;01mdel\u001b[39;00m d[\u001b[38;5;124m'\u001b[39m\u001b[38;5;124mpaner\u001b[39m\u001b[38;5;124m'\u001b[39m]\n",
      "\u001b[0;31mKeyError\u001b[0m: 'paner'"
     ]
    }
   ],
   "source": [
    "d={1:2,False:'🔥', 'a':'n',2.3:4.5}\n",
    "del d['paner']"
   ]
  },
  {
   "cell_type": "code",
   "execution_count": 13,
   "id": "76fb4009",
   "metadata": {},
   "outputs": [
    {
     "name": "stdout",
     "output_type": "stream",
     "text": [
      "{'brand': 'Ford', 'model': 'Mustang', 'year': 1964}\n",
      "\n",
      "(2, 'B')\n"
     ]
    }
   ],
   "source": [
    "thisdict = {\n",
    "  \"brand\": \"Ford\",\n",
    "  \"model\": \"Mustang\",\n",
    "  \"year\": 1964,\n",
    "  2:'B'\n",
    "}\n",
    "x=thisdict.popitem()\n",
    "print(thisdict,x,sep='\\n\\n')\n",
    "pop=0"
   ]
  },
  {
   "cell_type": "code",
   "execution_count": 11,
   "id": "5517c3bc",
   "metadata": {},
   "outputs": [
    {
     "name": "stdout",
     "output_type": "stream",
     "text": [
      "{'brand': 'Ford', 'model': 'Mustang', 'year': 1964} B\n"
     ]
    },
    {
     "ename": "KeyError",
     "evalue": "'df'",
     "output_type": "error",
     "traceback": [
      "\u001b[0;31m---------------------------------------------------------------------------\u001b[0m",
      "\u001b[0;31mKeyError\u001b[0m                                  Traceback (most recent call last)",
      "Cell \u001b[0;32mIn[11], line 9\u001b[0m\n\u001b[1;32m      7\u001b[0m g\u001b[38;5;241m=\u001b[39mthisdict\u001b[38;5;241m.\u001b[39mpop(\u001b[38;5;241m2\u001b[39m)\n\u001b[1;32m      8\u001b[0m \u001b[38;5;28mprint\u001b[39m(thisdict,g)\n\u001b[0;32m----> 9\u001b[0m \u001b[43mthisdict\u001b[49m\u001b[38;5;241;43m.\u001b[39;49m\u001b[43mpop\u001b[49m\u001b[43m(\u001b[49m\u001b[38;5;124;43m'\u001b[39;49m\u001b[38;5;124;43mdf\u001b[39;49m\u001b[38;5;124;43m'\u001b[39;49m\u001b[43m)\u001b[49m\n",
      "\u001b[0;31mKeyError\u001b[0m: 'df'"
     ]
    }
   ],
   "source": [
    "thisdict = {\n",
    "  \"brand\": \"Ford\",\n",
    "  \"model\": \"Mustang\",\n",
    "  \"year\": 1964,\n",
    "  2:'B'\n",
    "}\n",
    "g=thisdict.pop(2)\n",
    "print(thisdict,g)\n",
    "thisdict.pop('df')"
   ]
  },
  {
   "cell_type": "code",
   "execution_count": 1,
   "id": "6631751b",
   "metadata": {},
   "outputs": [
    {
     "name": "stdout",
     "output_type": "stream",
     "text": [
      "1\n",
      "2\n",
      "3\n",
      "A\n",
      "B\n",
      "C\n",
      "A\n",
      "B\n",
      "C\n",
      "1\n",
      "2\n",
      "3\n",
      "1 A\n",
      "2 B\n",
      "3 C\n"
     ]
    }
   ],
   "source": [
    "thisdict={1:'A',2:'B',3:'C'}\n",
    "for x in thisdict:\n",
    "  print(x)\n",
    "for x in thisdict:\n",
    "  print(thisdict[x])\n",
    "for x in thisdict.values():\n",
    "  print(x)\n",
    "for x in thisdict.keys():\n",
    "  print(x)\n",
    "for x, y in thisdict.items():\n",
    "  print(x, y)"
   ]
  },
  {
   "cell_type": "code",
   "execution_count": 2,
   "id": "4ba9e772",
   "metadata": {},
   "outputs": [
    {
     "name": "stdout",
     "output_type": "stream",
     "text": [
      "True\n",
      "False\n",
      "True\n",
      "True\n"
     ]
    }
   ],
   "source": [
    "d1={1:None,3:4,5:6}\n",
    "d2=d1\n",
    "d3=d1.copy()\n",
    "print(d2 is d1)\n",
    "print(d3 is d1)\n",
    "print(d1==d2)\n",
    "print(d3 == d1)"
   ]
  },
  {
   "cell_type": "code",
   "execution_count": 9,
   "id": "a0c979bf",
   "metadata": {},
   "outputs": [
    {
     "name": "stdout",
     "output_type": "stream",
     "text": [
      "[3, 2, 1]\n",
      "3\n"
     ]
    }
   ],
   "source": [
    "d1={1:'A',2:False,3:[1,2,3],\n",
    "    'Jolly':{1:'one',2:'two',3:\"three\"},\n",
    "    4:{1,2,2,3,3,4},\n",
    "    5:range(5),\n",
    "    range(10,15):'OK'\n",
    "    }\n",
    "print(d1[3][::-1])\n",
    "print(d1[5][3])"
   ]
  },
  {
   "cell_type": "code",
   "execution_count": 10,
   "id": "c61541ca",
   "metadata": {},
   "outputs": [
    {
     "name": "stdout",
     "output_type": "stream",
     "text": [
      "{1: 'A', 2: 'B', 'A': 'OK', 'B': 'NO'}\n",
      "{'A': 'OK', 'B': 'NO', 1: 'A', 2: 'B'}\n",
      "True\n",
      "False\n"
     ]
    },
    {
     "ename": "TypeError",
     "evalue": "'>' not supported between instances of 'dict' and 'dict'",
     "output_type": "error",
     "traceback": [
      "\u001b[0;31m---------------------------------------------------------------------------\u001b[0m",
      "\u001b[0;31mTypeError\u001b[0m                                 Traceback (most recent call last)",
      "Cell \u001b[0;32mIn[10], line 8\u001b[0m\n\u001b[1;32m      6\u001b[0m \u001b[38;5;28mprint\u001b[39m(d1\u001b[38;5;241m==\u001b[39md2)\n\u001b[1;32m      7\u001b[0m \u001b[38;5;28mprint\u001b[39m(d1 \u001b[38;5;129;01mis\u001b[39;00m d2)\n\u001b[0;32m----> 8\u001b[0m \u001b[43md1\u001b[49m\u001b[38;5;241;43m>\u001b[39;49m\u001b[43md2\u001b[49m\n",
      "\u001b[0;31mTypeError\u001b[0m: '>' not supported between instances of 'dict' and 'dict'"
     ]
    }
   ],
   "source": [
    "d1={1:'A',2:'B'}\n",
    "d2={'A':'OK', \"B\":\"NO\"}\n",
    "d1.update(d2)\n",
    "d2.update(d1)\n",
    "print(d1,d2,sep=\"\\n\")\n",
    "print(d1==d2)\n",
    "print(d1 is d2)\n",
    "d1>d2"
   ]
  },
  {
   "cell_type": "code",
   "execution_count": 14,
   "id": "b93f47cf",
   "metadata": {},
   "outputs": [
    {
     "name": "stdout",
     "output_type": "stream",
     "text": [
      "{'helllo': 2, 'helo': 2, 'i': 3, 'am': 3, 'devang': 2}\n"
     ]
    }
   ],
   "source": [
    "#count frequency of words in String\n",
    "s=input().split()\n",
    "d={}\n",
    "for x in s:\n",
    "    if x in d:\n",
    "        d[x]+=1\n",
    "    else:\n",
    "        d[x]=1\n",
    "print(d)"
   ]
  },
  {
   "cell_type": "code",
   "execution_count": 17,
   "id": "87f5bed2",
   "metadata": {},
   "outputs": [
    {
     "name": "stdout",
     "output_type": "stream",
     "text": [
      "{'a': 2, 'b': 2, 'c': 2, 'd': 2, 'e': 1, 'f': 2, 'g': 4}\n"
     ]
    }
   ],
   "source": [
    "#count frequency of characters\n",
    "x=input()\n",
    "d={}\n",
    "s=x.replace(' ','')\n",
    "for each in s:\n",
    "    if(each in d):\n",
    "        d[each]+=1\n",
    "    else:\n",
    "        d[each]=1\n",
    "print(d)"
   ]
  },
  {
   "cell_type": "code",
   "execution_count": 19,
   "id": "c7e3116b",
   "metadata": {},
   "outputs": [
    {
     "name": "stdout",
     "output_type": "stream",
     "text": [
      "s1 is superset of s2\n"
     ]
    }
   ],
   "source": [
    "#subset string\n",
    "x1=input().split()\n",
    "x2=input().split()\n",
    "s1=set(x1)\n",
    "s2=set(x2)\n",
    "if(s1<s2):\n",
    "    print('s1 is subset of s2')\n",
    "elif(s1==s2):\n",
    "    print('both have same words (equal sets)')\n",
    "else:\n",
    "    print('s1 is superset of s2')\n"
   ]
  },
  {
   "cell_type": "markdown",
   "id": "0296f5e1",
   "metadata": {},
   "source": [
    "<h2>Practice Questions"
   ]
  },
  {
   "cell_type": "code",
   "execution_count": 3,
   "id": "f15b93a3",
   "metadata": {},
   "outputs": [
    {
     "name": "stdout",
     "output_type": "stream",
     "text": [
      "2\n"
     ]
    },
    {
     "data": {
      "text/plain": [
       "4"
      ]
     },
     "execution_count": 3,
     "metadata": {},
     "output_type": "execute_result"
    }
   ],
   "source": [
    "print(max(1,2))\n",
    "min(7,4)"
   ]
  },
  {
   "cell_type": "code",
   "execution_count": 4,
   "id": "ea6284f9",
   "metadata": {},
   "outputs": [
    {
     "data": {
      "text/plain": [
       "8"
      ]
     },
     "execution_count": 4,
     "metadata": {},
     "output_type": "execute_result"
    }
   ],
   "source": [
    "pow(2,3)"
   ]
  },
  {
   "cell_type": "code",
   "execution_count": 5,
   "id": "30fbadff",
   "metadata": {},
   "outputs": [
    {
     "data": {
      "text/plain": [
       "'1234567890.12'"
      ]
     },
     "execution_count": 5,
     "metadata": {},
     "output_type": "execute_result"
    }
   ],
   "source": [
    "format(1234567890.123456789, '.2f')  # Output: '1234567890.12'"
   ]
  },
  {
   "cell_type": "code",
   "execution_count": 8,
   "id": "c4c270b0",
   "metadata": {},
   "outputs": [
    {
     "data": {
      "text/plain": [
       "'a'"
      ]
     },
     "execution_count": 8,
     "metadata": {},
     "output_type": "execute_result"
    }
   ],
   "source": [
    "chr(97)"
   ]
  },
  {
   "cell_type": "code",
   "execution_count": null,
   "id": "78ad49d7",
   "metadata": {},
   "outputs": [
    {
     "name": "stdout",
     "output_type": "stream",
     "text": [
      "5\n"
     ]
    },
    {
     "data": {
      "text/plain": [
       "5.0"
      ]
     },
     "execution_count": 9,
     "metadata": {},
     "output_type": "execute_result"
    }
   ],
   "source": [
    "print(15//3)\n",
    "print(15/3)"
   ]
  },
  {
   "cell_type": "code",
   "execution_count": 10,
   "id": "b2e730f4",
   "metadata": {},
   "outputs": [
    {
     "name": "stdout",
     "output_type": "stream",
     "text": [
      "97\n"
     ]
    }
   ],
   "source": [
    "print(ord('a'))  # Output: 97"
   ]
  },
  {
   "cell_type": "code",
   "execution_count": 12,
   "id": "d6ccf700",
   "metadata": {},
   "outputs": [
    {
     "name": "stdout",
     "output_type": "stream",
     "text": [
      "25\n",
      "27.5\n"
     ]
    }
   ],
   "source": [
    "print(5*5)\n",
    "print(5.5*5)"
   ]
  },
  {
   "cell_type": "code",
   "execution_count": 13,
   "id": "6a9b8cbe",
   "metadata": {},
   "outputs": [
    {
     "data": {
      "text/plain": [
       "6.5"
      ]
     },
     "execution_count": 13,
     "metadata": {},
     "output_type": "execute_result"
    }
   ],
   "source": [
    "17//3+1.5"
   ]
  },
  {
   "cell_type": "code",
   "execution_count": 16,
   "id": "9250ff18",
   "metadata": {},
   "outputs": [
    {
     "name": "stdout",
     "output_type": "stream",
     "text": [
      "A\n",
      "a\n",
      "B\n"
     ]
    },
    {
     "data": {
      "text/plain": [
       "'b'"
      ]
     },
     "execution_count": 16,
     "metadata": {},
     "output_type": "execute_result"
    }
   ],
   "source": [
    "print(chr(65))  # Output: 'A'\n",
    "print(chr(65+32))  # Output: 'a'\n",
    "\n",
    "print(chr(66))  # Output: 'B'\n",
    "chr(66+32)  # Output: 'b'"
   ]
  },
  {
   "cell_type": "code",
   "execution_count": 18,
   "id": "c6aadf40",
   "metadata": {},
   "outputs": [
    {
     "name": "stdout",
     "output_type": "stream",
     "text": [
      "1234567890.12\n",
      "1234567890.12\n"
     ]
    }
   ],
   "source": [
    "print(format(1234567890.123456789, '.2f') )\n",
    "x=1234567890.123456789\n",
    "print(f\"{x:.2f}\")  # Output: '1234567890.12'"
   ]
  },
  {
   "cell_type": "code",
   "execution_count": 23,
   "id": "5068e61f",
   "metadata": {},
   "outputs": [
    {
     "name": "stdout",
     "output_type": "stream",
     "text": [
      "hj\n"
     ]
    },
    {
     "data": {
      "text/plain": [
       "'fhj'"
      ]
     },
     "execution_count": 23,
     "metadata": {},
     "output_type": "execute_result"
    }
   ],
   "source": [
    "print(format(\"hj\"))\n",
    "format(\"fhj\")"
   ]
  },
  {
   "cell_type": "code",
   "execution_count": 47,
   "id": "8c812e8a",
   "metadata": {},
   "outputs": [
    {
     "data": {
      "text/plain": [
       "0.40738025800217437"
      ]
     },
     "execution_count": 47,
     "metadata": {},
     "output_type": "execute_result"
    }
   ],
   "source": [
    "import random\n",
    "x=random.random()\n",
    "x"
   ]
  },
  {
   "cell_type": "code",
   "execution_count": 50,
   "id": "4cf3b5e7",
   "metadata": {},
   "outputs": [
    {
     "ename": "TypeError",
     "evalue": "can only concatenate str (not \"int\") to str",
     "output_type": "error",
     "traceback": [
      "\u001b[0;31m---------------------------------------------------------------------------\u001b[0m",
      "\u001b[0;31mTypeError\u001b[0m                                 Traceback (most recent call last)",
      "Cell \u001b[0;32mIn[50], line 3\u001b[0m\n\u001b[1;32m      1\u001b[0m val1\u001b[38;5;241m=\u001b[39m\u001b[38;5;28minput\u001b[39m()\n\u001b[1;32m      2\u001b[0m \u001b[38;5;66;03m# val2=val1+\"5\"\u001b[39;00m\n\u001b[0;32m----> 3\u001b[0m val2\u001b[38;5;241m=\u001b[39m\u001b[43mval1\u001b[49m\u001b[38;5;241;43m+\u001b[39;49m\u001b[38;5;241;43m5\u001b[39;49m\n",
      "\u001b[0;31mTypeError\u001b[0m: can only concatenate str (not \"int\") to str"
     ]
    }
   ],
   "source": [
    "val1=input()\n",
    "# val2=val1+\"5\"\n",
    "val2=val1+5"
   ]
  },
  {
   "cell_type": "code",
   "execution_count": 51,
   "id": "258c94c2",
   "metadata": {},
   "outputs": [
    {
     "name": "stdout",
     "output_type": "stream",
     "text": [
      "pqrpqrpqrdef\n"
     ]
    }
   ],
   "source": [
    "a='pqr'\n",
    "b='def'\n",
    "print(a*3+b)"
   ]
  },
  {
   "cell_type": "code",
   "execution_count": 56,
   "id": "95cd30a7",
   "metadata": {},
   "outputs": [
    {
     "ename": "ValueError",
     "evalue": "Format specifier missing precision",
     "output_type": "error",
     "traceback": [
      "\u001b[0;31m---------------------------------------------------------------------------\u001b[0m",
      "\u001b[0;31mValueError\u001b[0m                                Traceback (most recent call last)",
      "Cell \u001b[0;32mIn[56], line 1\u001b[0m\n\u001b[0;32m----> 1\u001b[0m \u001b[38;5;28mprint\u001b[39m(\u001b[38;5;28;43mformat\u001b[39;49m\u001b[43m(\u001b[49m\u001b[38;5;241;43m1234567890.123456789\u001b[39;49m\u001b[43m,\u001b[49m\u001b[43m \u001b[49m\u001b[38;5;124;43m'\u001b[39;49m\u001b[38;5;124;43m0.if\u001b[39;49m\u001b[38;5;124;43m'\u001b[39;49m\u001b[43m)\u001b[49m)  \u001b[38;5;66;03m# Output: '1234567890\u001b[39;00m\n",
      "\u001b[0;31mValueError\u001b[0m: Format specifier missing precision"
     ]
    }
   ],
   "source": [
    "print(format(1234567890.123456789, '0.if'))  # Output: '1234567890"
   ]
  },
  {
   "cell_type": "code",
   "execution_count": 57,
   "id": "3e7b90c1",
   "metadata": {},
   "outputs": [
    {
     "name": "stdout",
     "output_type": "stream",
     "text": [
      "-3\n"
     ]
    }
   ],
   "source": [
    "print(max(-30,10,-3,27)+min(-30,10,27,-3))"
   ]
  },
  {
   "cell_type": "code",
   "execution_count": 60,
   "id": "f98fc297",
   "metadata": {},
   "outputs": [
    {
     "data": {
      "text/plain": [
       "'W'"
      ]
     },
     "execution_count": 60,
     "metadata": {},
     "output_type": "execute_result"
    }
   ],
   "source": [
    "l='y'\n",
    "chr(ord(l)-34)  # Output: 's'"
   ]
  },
  {
   "cell_type": "code",
   "execution_count": 62,
   "id": "bac045c7",
   "metadata": {},
   "outputs": [
    {
     "name": "stdout",
     "output_type": "stream",
     "text": [
      "6-11-16!"
     ]
    }
   ],
   "source": [
    "x=6\n",
    "y,z=11,16\n",
    "print(x,y,z,sep='-',end='!')"
   ]
  },
  {
   "cell_type": "code",
   "execution_count": 63,
   "id": "ec2771d9",
   "metadata": {},
   "outputs": [
    {
     "name": "stdout",
     "output_type": "stream",
     "text": [
      "   20\\\\\n"
     ]
    }
   ],
   "source": [
    "print(format(20.2,\">5.0f\")+\"\\\\\\\\\")"
   ]
  },
  {
   "cell_type": "code",
   "execution_count": 66,
   "id": "044bc1b5",
   "metadata": {},
   "outputs": [
    {
     "name": "stdout",
     "output_type": "stream",
     "text": [
      "True\n",
      "True\n",
      "True\n",
      "False\n"
     ]
    }
   ],
   "source": [
    "#🔥🔥🔥🔥🔥🔥🔥🔥🔥🔥\n",
    "#🚨🚨🚨🚨🚨🚨🚨🚨🚨🚨\n",
    "print(bool('False'))\n",
    "print(bool('True'))\n",
    "print(bool('0'))  # True\n",
    "print(bool(''))  # False"
   ]
  },
  {
   "cell_type": "code",
   "execution_count": 70,
   "id": "f3d39a65",
   "metadata": {},
   "outputs": [
    {
     "name": "stdout",
     "output_type": "stream",
     "text": [
      "Pass\n",
      "Excellent\n"
     ]
    }
   ],
   "source": [
    "#ORDER MATTERS IN CONDITIONAL STATEMENTS\n",
    "# 🚨🔥🚨🔥🚨🔥🚨🔥🚨🔥🚨🔥🚨🔥🚨🔥🚨🔥🚨🔥\n",
    "\n",
    "score = 95\n",
    "\n",
    "if score >= 60:\n",
    "    print(\"Pass\")\n",
    "elif score >= 90:\n",
    "    print(\"Excellent\")\n",
    "\n",
    "\n",
    "\n",
    "score = 95\n",
    "if score >= 90:\n",
    "    print(\"Excellent\")\n",
    "elif score >= 60:\n",
    "    print(\"Pass\")\n",
    "\n"
   ]
  },
  {
   "cell_type": "code",
   "execution_count": null,
   "id": "122f030a",
   "metadata": {},
   "outputs": [
    {
     "data": {
      "text/plain": [
       "7"
      ]
     },
     "execution_count": 73,
     "metadata": {},
     "output_type": "execute_result"
    }
   ],
   "source": [
    "x=10\n",
    "y=3\n",
    "z=(x**2)%y+x//y+y\n",
    "z"
   ]
  },
  {
   "cell_type": "code",
   "execution_count": 76,
   "id": "200bc96a",
   "metadata": {},
   "outputs": [
    {
     "data": {
      "text/plain": [
       "True"
      ]
     },
     "execution_count": 76,
     "metadata": {},
     "output_type": "execute_result"
    }
   ],
   "source": [
    "1==True"
   ]
  },
  {
   "cell_type": "code",
   "execution_count": 77,
   "id": "6fa85fd1",
   "metadata": {},
   "outputs": [
    {
     "data": {
      "text/plain": [
       "False"
      ]
     },
     "execution_count": 77,
     "metadata": {},
     "output_type": "execute_result"
    }
   ],
   "source": [
    "5==True"
   ]
  },
  {
   "cell_type": "code",
   "execution_count": 78,
   "id": "1c27d8fa",
   "metadata": {},
   "outputs": [
    {
     "data": {
      "text/plain": [
       "False"
      ]
     },
     "execution_count": 78,
     "metadata": {},
     "output_type": "execute_result"
    }
   ],
   "source": [
    "x,y,z=5,10,2\n",
    "x and (x+y*z==30) and (5!=True)"
   ]
  },
  {
   "cell_type": "code",
   "execution_count": 80,
   "id": "f6a0d4bc",
   "metadata": {},
   "outputs": [
    {
     "name": "stdout",
     "output_type": "stream",
     "text": [
      "GATE 2025\n"
     ]
    }
   ],
   "source": [
    "#🔥🚨🔥🚨🔥🚨🔥🚨🔥🚨\n",
    "\n",
    "python,java,program=6,10,0\n",
    "if python==java or not program:\n",
    "    program=1\n",
    "elif java>python and not python:\n",
    "    program=2\n",
    "if program==True:\n",
    "    print('GATE 2025')\n",
    "else:\n",
    "    print('GATE 2026')\n"
   ]
  },
  {
   "cell_type": "code",
   "execution_count": null,
   "id": "673606a8",
   "metadata": {},
   "outputs": [
    {
     "name": "stdout",
     "output_type": "stream",
     "text": [
      "2\n"
     ]
    }
   ],
   "source": [
    "#🔥🚨🔥🚨🔥🚨🔥🚨🔥🚨\n",
    "ruby,python,perl=5,6,-1\n",
    "if (ruby==5):\n",
    "    perl+=3\n",
    "elif (python==6):\n",
    "    perl=4\n",
    "if(python>0):\n",
    "    perl-=1\n",
    "if(ruby<999):\n",
    "    perl+=1\n",
    "print(perl)"
   ]
  },
  {
   "cell_type": "code",
   "execution_count": null,
   "id": "0f935d61",
   "metadata": {},
   "outputs": [
    {
     "data": {
      "text/plain": [
       "7"
      ]
     },
     "execution_count": 83,
     "metadata": {},
     "output_type": "execute_result"
    }
   ],
   "source": [
    "#🔥🚨🔥🚨🔥🚨🔥🚨🔥🚨\n",
    "#🔥🚨🔥🚨🔥🚨🔥🚨🔥🚨\n",
    "#🔥🚨🔥🚨🔥🚨🔥🚨🔥🚨\n",
    "#🔥🚨🔥🚨🔥🚨🔥🚨🔥🚨\n",
    "\n",
    "for x in range(8):\n",
    "    pass\n",
    "x"
   ]
  },
  {
   "cell_type": "code",
   "execution_count": 86,
   "id": "ab2dc9cf",
   "metadata": {},
   "outputs": [
    {
     "name": "stdout",
     "output_type": "stream",
     "text": [
      "1 2 5 8 "
     ]
    }
   ],
   "source": [
    "count=1\n",
    "while count<=10:\n",
    "    if count%3==0:\n",
    "        count+=2\n",
    "        continue\n",
    "    print(count,end=' ')\n",
    "    count+=1"
   ]
  },
  {
   "cell_type": "code",
   "execution_count": 87,
   "id": "3b38335d",
   "metadata": {},
   "outputs": [
    {
     "name": "stdout",
     "output_type": "stream",
     "text": [
      "1 2 3 3 4 5 "
     ]
    }
   ],
   "source": [
    "for i in range(4):\n",
    "    for j in range(i):\n",
    "        print(i+j,end=' ')"
   ]
  },
  {
   "cell_type": "code",
   "execution_count": null,
   "id": "69bfbe3f",
   "metadata": {},
   "outputs": [
    {
     "name": "stdout",
     "output_type": "stream",
     "text": [
      "python python "
     ]
    }
   ],
   "source": [
    "#🔥🚨🔥🚨🔥🚨🔥🚨🔥🚨\n",
    "#🔥🚨🔥🚨🔥🚨🔥🚨🔥🚨\n",
    "\n",
    "x=10\n",
    "while x in range(10,5,-2):\n",
    "    print('python',end=\" \")\n",
    "    x=x-4\n"
   ]
  },
  {
   "cell_type": "code",
   "execution_count": 92,
   "id": "1a82f694",
   "metadata": {},
   "outputs": [
    {
     "name": "stdout",
     "output_type": "stream",
     "text": [
      "4.0\n"
     ]
    }
   ],
   "source": [
    "def ruby(java,python,perl):\n",
    "    return python+ java/perl\n",
    "lang=ruby(perl=3,python=2,java=6)\n",
    "print(lang)"
   ]
  },
  {
   "cell_type": "code",
   "execution_count": 94,
   "id": "cf67fa47",
   "metadata": {},
   "outputs": [
    {
     "name": "stdout",
     "output_type": "stream",
     "text": [
      "112 ruby!ruby!ruby!ruby!\n"
     ]
    }
   ],
   "source": [
    "def lan(hindi=7):\n",
    "    hindi*=2\n",
    "    return hindi*2\n",
    "java=lan(lan())\n",
    "py=lan('ruby!')\n",
    "print(java, py)"
   ]
  },
  {
   "cell_type": "code",
   "execution_count": null,
   "id": "354add74",
   "metadata": {},
   "outputs": [],
   "source": [
    "def color(grey):\n",
    "    kitkat=True\n",
    "    munch=False\n",
    "    while not munch and kitkat:\n",
    "        break\n",
    "        return grey+5\n",
    "    print(print((10)))"
   ]
  },
  {
   "cell_type": "code",
   "execution_count": 102,
   "id": "572a3fa5",
   "metadata": {},
   "outputs": [
    {
     "name": "stdout",
     "output_type": "stream",
     "text": [
      "10\n",
      "None\n"
     ]
    }
   ],
   "source": [
    "print(print((10)))"
   ]
  },
  {
   "cell_type": "code",
   "execution_count": 97,
   "id": "765189f1",
   "metadata": {},
   "outputs": [
    {
     "data": {
      "text/plain": [
       "True"
      ]
     },
     "execution_count": 97,
     "metadata": {},
     "output_type": "execute_result"
    }
   ],
   "source": [
    "kitkat=True\n",
    "munch=False\n",
    "not munch and kitkat"
   ]
  },
  {
   "cell_type": "code",
   "execution_count": 101,
   "id": "ee33e39e",
   "metadata": {},
   "outputs": [
    {
     "ename": "SyntaxError",
     "evalue": "positional argument follows keyword argument (949240363.py, line 3)",
     "output_type": "error",
     "traceback": [
      "\u001b[0;36m  Cell \u001b[0;32mIn[101], line 3\u001b[0;36m\u001b[0m\n\u001b[0;31m    data(work=5,dance=2,study=2,3)\u001b[0m\n\u001b[0m                                 ^\u001b[0m\n\u001b[0;31mSyntaxError\u001b[0m\u001b[0;31m:\u001b[0m positional argument follows keyword argument\n"
     ]
    }
   ],
   "source": [
    "def data(work,study,dance,eat):\n",
    "    return work+study*dance*eat\n",
    "data(work=5,dance=2,study=2,3)"
   ]
  },
  {
   "cell_type": "code",
   "execution_count": 104,
   "id": "e366d5fc",
   "metadata": {},
   "outputs": [
    {
     "data": {
      "text/plain": [
       "'python'"
      ]
     },
     "execution_count": 104,
     "metadata": {},
     "output_type": "execute_result"
    }
   ],
   "source": [
    "def gate():\n",
    "    ds='python'\n",
    "    csit='dsa'\n",
    "    return ds\n",
    "    return csit\n",
    "sub=gate()\n",
    "sub"
   ]
  },
  {
   "cell_type": "code",
   "execution_count": 105,
   "id": "58435efc",
   "metadata": {},
   "outputs": [
    {
     "name": "stdout",
     "output_type": "stream",
     "text": [
      "ABC <3 XYZ\n"
     ]
    }
   ],
   "source": [
    "def friend():\n",
    "    return 'ABC',\"XYZ\"\n",
    "p1,p2=friend()\n",
    "print(p1, \"<3\",p2)"
   ]
  },
  {
   "cell_type": "code",
   "execution_count": null,
   "id": "6a5780fb",
   "metadata": {},
   "outputs": [],
   "source": [
    "def cpount():\n",
    "    count=0\n",
    "    for i in range(5):\n",
    "        count+=1\n",
    "print(count) # ⚠ ERROR🔥"
   ]
  },
  {
   "cell_type": "code",
   "execution_count": 1,
   "id": "946ec0ee",
   "metadata": {},
   "outputs": [
    {
     "data": {
      "text/plain": [
       "'H'"
      ]
     },
     "execution_count": 1,
     "metadata": {},
     "output_type": "execute_result"
    }
   ],
   "source": [
    "s=\"Hello Hossana\"\n",
    "s[0]"
   ]
  },
  {
   "cell_type": "code",
   "execution_count": 7,
   "id": "dcd6fed6",
   "metadata": {},
   "outputs": [
    {
     "data": {
      "text/plain": [
       "False"
      ]
     },
     "execution_count": 7,
     "metadata": {},
     "output_type": "execute_result"
    }
   ],
   "source": [
    "s=\"hello Hossana\"\n",
    "s.islower()#'''s'''#)"
   ]
  },
  {
   "cell_type": "code",
   "execution_count": 12,
   "id": "749a48c6",
   "metadata": {},
   "outputs": [
    {
     "name": "stdout",
     "output_type": "stream",
     "text": [
      "False\n",
      "s\n",
      " \n"
     ]
    }
   ],
   "source": [
    "s=\"Hello Hossana\"\n",
    "print(min(s)==max(s))\n",
    "print(max(s))\n",
    "print(min(s))"
   ]
  },
  {
   "cell_type": "code",
   "execution_count": 13,
   "id": "062c74d8",
   "metadata": {},
   "outputs": [
    {
     "ename": "AttributeError",
     "evalue": "'str' object has no attribute 'substring'",
     "output_type": "error",
     "traceback": [
      "\u001b[0;31m---------------------------------------------------------------------------\u001b[0m",
      "\u001b[0;31mAttributeError\u001b[0m                            Traceback (most recent call last)",
      "Cell \u001b[0;32mIn[13], line 2\u001b[0m\n\u001b[1;32m      1\u001b[0m s\u001b[38;5;241m=\u001b[39m\u001b[38;5;124m\"\u001b[39m\u001b[38;5;124mHello Hossana\u001b[39m\u001b[38;5;124m\"\u001b[39m\n\u001b[0;32m----> 2\u001b[0m \u001b[43ms\u001b[49m\u001b[38;5;241;43m.\u001b[39;49m\u001b[43msubstring\u001b[49m(\u001b[38;5;241m0\u001b[39m,\u001b[38;5;241m5\u001b[39m)  \u001b[38;5;66;03m# Output: 'Hello'\u001b[39;00m\n",
      "\u001b[0;31mAttributeError\u001b[0m: 'str' object has no attribute 'substring'"
     ]
    }
   ],
   "source": [
    "s=\"Hello Hossana\"\n",
    "s.substring(0,5)  # Output: 'Hello'"
   ]
  },
  {
   "cell_type": "code",
   "execution_count": 14,
   "id": "13d50638",
   "metadata": {},
   "outputs": [
    {
     "data": {
      "text/plain": [
       "True"
      ]
     },
     "execution_count": 14,
     "metadata": {},
     "output_type": "execute_result"
    }
   ],
   "source": [
    "s=\"Hello Hossana\"\n",
    "'H' in s"
   ]
  },
  {
   "cell_type": "code",
   "execution_count": 15,
   "id": "0aa4507e",
   "metadata": {},
   "outputs": [
    {
     "name": "stdout",
     "output_type": "stream",
     "text": [
      "a n a s s o H   o l l e H "
     ]
    }
   ],
   "source": [
    "s=\"Hello Hossana\"\n",
    "for i in range(-1,-len(s)-1,-1):\n",
    "    print(s[i], end=' ')"
   ]
  },
  {
   "cell_type": "code",
   "execution_count": 16,
   "id": "9bed75e1",
   "metadata": {},
   "outputs": [
    {
     "data": {
      "text/plain": [
       "True"
      ]
     },
     "execution_count": 16,
     "metadata": {},
     "output_type": "execute_result"
    }
   ],
   "source": [
    "s=\"Hello Hossana\"\n",
    "s[0:len(s)]==s"
   ]
  },
  {
   "cell_type": "code",
   "execution_count": 17,
   "id": "504f68fc",
   "metadata": {},
   "outputs": [
    {
     "name": "stdout",
     "output_type": "stream",
     "text": [
      "Mvqelk\u001dM^ail\n"
     ]
    }
   ],
   "source": [
    "s=\"Python Padlo\"\n",
    "new = \"\"\n",
    "for char in s:\n",
    "    new += chr(ord(char) - 3)\n",
    "print(new)"
   ]
  },
  {
   "cell_type": "code",
   "execution_count": 18,
   "id": "5cb756c9",
   "metadata": {},
   "outputs": [
    {
     "name": "stdout",
     "output_type": "stream",
     "text": [
      "SIBBYPYTHON-894\n"
     ]
    }
   ],
   "source": [
    "s = \"SillyPython-561\"\n",
    "result = \"\"\n",
    "for char in s:\n",
    "    if char in str(not s):\n",
    "        result += \"B\"\n",
    "    elif char.isalpha():\n",
    "        result += char.upper()\n",
    "    elif char.isdigit():\n",
    "        result += str(int(char) + 3)\n",
    "    else:\n",
    "        result += char\n",
    "print(result)"
   ]
  },
  {
   "cell_type": "code",
   "execution_count": 19,
   "id": "3918a821",
   "metadata": {},
   "outputs": [
    {
     "name": "stdout",
     "output_type": "stream",
     "text": [
      "Shaka kaBoom\n"
     ]
    }
   ],
   "source": [
    "s = \"ShakalakaBoom\"\n",
    "result = (s[-len(s):-len(s)+5] + \" \" + s[-6:])\n",
    "print(result)"
   ]
  },
  {
   "cell_type": "code",
   "execution_count": 33,
   "id": "6241a1d3",
   "metadata": {},
   "outputs": [
    {
     "name": "stdout",
     "output_type": "stream",
     "text": [
      "Pankaj\n",
      "\n",
      "\n",
      "Neeraj\n",
      "False\n",
      "\n",
      "Kamal\n",
      "True\n"
     ]
    }
   ],
   "source": [
    "#🔥🚨🔥🚨🔥🚨🔥🚨🔥🚨\n",
    "javascript = \"doobyD00by\"\n",
    "python = \"hurrah732h\"\n",
    "ruby = \"+25\"\n",
    "\n",
    "pankaj = (python.islower() and python[999:9999])\n",
    "neeraj = ruby.isalnum() and ruby.isdigit()\n",
    "kamal = javascript[6:8].isdigit() and javascript.count(\"o\") == 2\n",
    "\n",
    "print(\"Pankaj\\n\")\n",
    "print(pankaj)\n",
    "print(\"Neeraj\")\n",
    "print(neeraj)\n",
    "print()\n",
    "print(\"Kamal\")\n",
    "print(kamal)\n"
   ]
  },
  {
   "cell_type": "code",
   "execution_count": 35,
   "id": "8518a400",
   "metadata": {},
   "outputs": [
    {
     "name": "stdout",
     "output_type": "stream",
     "text": [
      "DataScienceDataScience\n"
     ]
    }
   ],
   "source": [
    "myGateExam = \"DataScience\" # =)\n",
    "print(myGateExam[0:1000] * 2)"
   ]
  },
  {
   "cell_type": "code",
   "execution_count": 36,
   "id": "b3a820c3",
   "metadata": {},
   "outputs": [
    {
     "name": "stdout",
     "output_type": "stream",
     "text": [
      "deancas dest\n"
     ]
    }
   ],
   "source": [
    "alpha, beta = \"cast\", \"dean\"\n",
    "omega = beta[:2] + alpha[2:]\n",
    "sigma = beta[:len(beta)] + alpha[:3]\n",
    "print(min(omega, sigma), max(omega, sigma))"
   ]
  },
  {
   "cell_type": "code",
   "execution_count": 37,
   "id": "4b2f239e",
   "metadata": {},
   "outputs": [
    {
     "name": "stdout",
     "output_type": "stream",
     "text": [
      "Hello\n"
     ]
    }
   ],
   "source": [
    "#directly convert list to string\n",
    "def list_to_string(lst):\n",
    "    return ''.join(lst)\n",
    "# Example usage\n",
    "lst = ['H', 'e', 'l', 'l', 'o']     \n",
    "result = list_to_string(lst)\n",
    "print(result)  # Output: 'Hello'\n"
   ]
  },
  {
   "cell_type": "code",
   "execution_count": 40,
   "id": "8e96df3e",
   "metadata": {},
   "outputs": [],
   "source": [
    "l=list(\"Hello\")\n",
    "l2=list((4.5,))"
   ]
  },
  {
   "cell_type": "code",
   "execution_count": 42,
   "id": "d469ed3c",
   "metadata": {},
   "outputs": [
    {
     "data": {
      "text/plain": [
       "['H', 'e', 'l', 'l', 'o', 'H', 'e', 'l', 'l', 'o']"
      ]
     },
     "execution_count": 42,
     "metadata": {},
     "output_type": "execute_result"
    }
   ],
   "source": [
    "lt1=['H', 'e', 'l', 'l', 'o']\n",
    "lt2=list(('H', 'e', 'l', 'l', 'o'))\n",
    "lt1+=lt2\n",
    "lt1"
   ]
  },
  {
   "cell_type": "code",
   "execution_count": 43,
   "id": "f27c41fc",
   "metadata": {},
   "outputs": [
    {
     "data": {
      "text/plain": [
       "[-1, 1, 2, 3, 4]"
      ]
     },
     "execution_count": 43,
     "metadata": {},
     "output_type": "execute_result"
    }
   ],
   "source": [
    "[x for x in range(0)]\n",
    "[x**2 for x in range(5) if x % 2 == 0]\n",
    "[len(item) for item in [\"my\", \"anaconda\",\"don't\"]]\n",
    "[x if x > 0 else -1 for x in range(5)]"
   ]
  },
  {
   "cell_type": "code",
   "execution_count": 44,
   "id": "f3e412a8",
   "metadata": {},
   "outputs": [
    {
     "data": {
      "text/plain": [
       "['H', 'e']"
      ]
     },
     "execution_count": 44,
     "metadata": {},
     "output_type": "execute_result"
    }
   ],
   "source": [
    "lt=['H', 'e', 'l',  'o']\n",
    "lt[:-2]"
   ]
  },
  {
   "cell_type": "code",
   "execution_count": 45,
   "id": "d92be025",
   "metadata": {},
   "outputs": [
    {
     "ename": "AttributeError",
     "evalue": "'list' object has no attribute 'find'",
     "output_type": "error",
     "traceback": [
      "\u001b[0;31m---------------------------------------------------------------------------\u001b[0m",
      "\u001b[0;31mAttributeError\u001b[0m                            Traceback (most recent call last)",
      "Cell \u001b[0;32mIn[45], line 2\u001b[0m\n\u001b[1;32m      1\u001b[0m l\u001b[38;5;241m=\u001b[39m[\u001b[38;5;124m'\u001b[39m\u001b[38;5;124mH\u001b[39m\u001b[38;5;124m'\u001b[39m,\u001b[38;5;124m'\u001b[39m\u001b[38;5;124me\u001b[39m\u001b[38;5;124m'\u001b[39m,\u001b[38;5;124m'\u001b[39m\u001b[38;5;124ml\u001b[39m\u001b[38;5;124m'\u001b[39m,\u001b[38;5;124m'\u001b[39m\u001b[38;5;124ml\u001b[39m\u001b[38;5;124m'\u001b[39m,\u001b[38;5;124m'\u001b[39m\u001b[38;5;124mo\u001b[39m\u001b[38;5;124m'\u001b[39m]\n\u001b[0;32m----> 2\u001b[0m \u001b[43ml\u001b[49m\u001b[38;5;241;43m.\u001b[39;49m\u001b[43mfind\u001b[49m(\u001b[38;5;124m'\u001b[39m\u001b[38;5;124ml\u001b[39m\u001b[38;5;124m'\u001b[39m)  \u001b[38;5;66;03m# Output: 2\u001b[39;00m\n",
      "\u001b[0;31mAttributeError\u001b[0m: 'list' object has no attribute 'find'"
     ]
    }
   ],
   "source": [
    "l=['H','e','l','l','o']\n",
    "l.find('l')  # Output: 2"
   ]
  },
  {
   "cell_type": "code",
   "execution_count": 52,
   "id": "4e7accea",
   "metadata": {},
   "outputs": [
    {
     "name": "stdout",
     "output_type": "stream",
     "text": [
      "['pankaj', 'neeraj', 'kamal', 'fill']\n"
     ]
    },
    {
     "ename": "TypeError",
     "evalue": "'NoneType' object is not iterable",
     "output_type": "error",
     "traceback": [
      "\u001b[0;31m---------------------------------------------------------------------------\u001b[0m",
      "\u001b[0;31mTypeError\u001b[0m                                 Traceback (most recent call last)",
      "Cell \u001b[0;32mIn[52], line 8\u001b[0m\n\u001b[1;32m      6\u001b[0m doubleTrouble \u001b[38;5;241m=\u001b[39m [\u001b[38;5;124m\"\u001b[39m\u001b[38;5;124mjuly\u001b[39m\u001b[38;5;124m\"\u001b[39m, \u001b[38;5;124m\"\u001b[39m\u001b[38;5;124mjohn\u001b[39m\u001b[38;5;124m\"\u001b[39m, \u001b[38;5;124m\"\u001b[39m\u001b[38;5;124mtom\u001b[39m\u001b[38;5;124m\"\u001b[39m, \u001b[38;5;124m\"\u001b[39m\u001b[38;5;124mjerry\u001b[39m\u001b[38;5;124m\"\u001b[39m]\n\u001b[1;32m      7\u001b[0m doubleTrouble \u001b[38;5;241m=\u001b[39m doubleTrouble\u001b[38;5;241m.\u001b[39msort() \u001b[38;5;66;03m# Note: The sort() method sorts the list in place and returns None, so we should not assign it back to doubleTrouble\u001b[39;00m\n\u001b[0;32m----> 8\u001b[0m doubleTroubleX \u001b[38;5;241m=\u001b[39m \u001b[38;5;28;43msorted\u001b[39;49m\u001b[43m(\u001b[49m\u001b[43mdoubleTrouble\u001b[49m\u001b[43m)\u001b[49m  \u001b[38;5;66;03m# Use sorted() to return a new sorted list\u001b[39;00m\n\u001b[1;32m      9\u001b[0m \u001b[38;5;28mprint\u001b[39m(doubleTrouble)\n\u001b[1;32m     10\u001b[0m \u001b[38;5;28mprint\u001b[39m(doubleTroubleX)\n",
      "\u001b[0;31mTypeError\u001b[0m: 'NoneType' object is not iterable"
     ]
    }
   ],
   "source": [
    "school = [\"pankaj\", \"neeraj\", \"kamal\"]\n",
    "school2 = school\n",
    "school2.append(\"fill\")\n",
    "print(school)\n",
    "\n",
    "doubleTrouble = [\"july\", \"john\", \"tom\", \"jerry\"]\n",
    "doubleTrouble = doubleTrouble.sort() # Note: The sort() method sorts the list in place and returns None, so we should not assign it back to doubleTrouble\n",
    "doubleTroubleX = sorted(doubleTrouble)  # Use sorted() to return a new sorted list\n",
    "print(doubleTrouble)\n",
    "print(doubleTroubleX)"
   ]
  },
  {
   "cell_type": "code",
   "execution_count": 60,
   "id": "deccb110",
   "metadata": {},
   "outputs": [
    {
     "name": "stdout",
     "output_type": "stream",
     "text": [
      "['h', 'o', 'c', 'k', 'e', 'y', 'f', 'o', 'o', 't', 'b', 'a', 'l', 'l', 'c', 'r', 'i', 'c', 'k', 'e', 't', 't', 'e', 'n', 'n', 'i', 's', 'b', 'a', 'd', 'm', 'i', 'n', 't', 'o', 'n', 'c', 'y', 'c', 'l', 'i', 'n', 'g']\n",
      "['hockey', 'football', 'cricket', 'tennis', 'badminton', 'cycling']\n"
     ]
    }
   ],
   "source": [
    "playground = []\n",
    "clubhouse = [\"hockey\", \"football\", \"cricket\",\"tennis\", \"badminton\", \"cycling\"]\n",
    "for i in range(len(clubhouse)):\n",
    "    playground += clubhouse[i]\n",
    "print(playground)\n",
    "\n",
    "x=[]\n",
    "for i in range(len(clubhouse)):\n",
    "    x.append(clubhouse[i])\n",
    "print(x)"
   ]
  },
  {
   "cell_type": "code",
   "execution_count": 65,
   "id": "00a3bc52",
   "metadata": {},
   "outputs": [
    {
     "name": "stdout",
     "output_type": "stream",
     "text": [
      "False\n",
      "False\n",
      "False\n"
     ]
    }
   ],
   "source": [
    "white = [\"himmat\", \"saahas\", \"budhiman\"]\n",
    "myFavoriteColor = [\"himmat\", \"saahas\",\"buddhiman\"]\n",
    "print(myFavoriteColor is white and white == myFavoriteColor)\n",
    "print(myFavoriteColor is white)\n",
    "print(myFavoriteColor == white)#✅ True (same contents)\n"
   ]
  },
  {
   "cell_type": "code",
   "execution_count": 66,
   "id": "29b16b03",
   "metadata": {},
   "outputs": [
    {
     "ename": "TypeError",
     "evalue": "'<' not supported between instances of 'int' and 'str'",
     "output_type": "error",
     "traceback": [
      "\u001b[0;31m---------------------------------------------------------------------------\u001b[0m",
      "\u001b[0;31mTypeError\u001b[0m                                 Traceback (most recent call last)",
      "Cell \u001b[0;32mIn[66], line 2\u001b[0m\n\u001b[1;32m      1\u001b[0m answer \u001b[38;5;241m=\u001b[39m [\u001b[38;5;124m\"\u001b[39m\u001b[38;5;124mpadhlo\u001b[39m\u001b[38;5;124m\"\u001b[39m, \u001b[38;5;124m\"\u001b[39m\u001b[38;5;124mbacho\u001b[39m\u001b[38;5;124m\"\u001b[39m, \u001b[38;5;124m\"\u001b[39m\u001b[38;5;124mrank\u001b[39m\u001b[38;5;124m\"\u001b[39m, \u001b[38;5;124m\"\u001b[39m\u001b[38;5;124maa jayegi\u001b[39m\u001b[38;5;124m\"\u001b[39m,\u001b[38;5;241m67\u001b[39m]\n\u001b[0;32m----> 2\u001b[0m \u001b[43manswer\u001b[49m\u001b[38;5;241;43m.\u001b[39;49m\u001b[43msort\u001b[49m\u001b[43m(\u001b[49m\u001b[43m)\u001b[49m\n\u001b[1;32m      3\u001b[0m \u001b[38;5;28mprint\u001b[39m(answer)\n",
      "\u001b[0;31mTypeError\u001b[0m: '<' not supported between instances of 'int' and 'str'"
     ]
    }
   ],
   "source": [
    "answer = [\"padhlo\", \"bacho\", \"rank\", \"aa jayegi\",67]\n",
    "answer.sort()\n",
    "print(answer)"
   ]
  },
  {
   "cell_type": "code",
   "execution_count": 68,
   "id": "228b8b02",
   "metadata": {},
   "outputs": [
    {
     "name": "stdout",
     "output_type": "stream",
     "text": [
      "['python', 'rohit']\n"
     ]
    }
   ],
   "source": [
    "super = [\"python\"]\n",
    "name = [\"rohit\", \"dev\", \"aadi\"]\n",
    "for food in range(len(super)):\n",
    "    super.append(name[food])\n",
    "print(super)"
   ]
  },
  {
   "cell_type": "code",
   "execution_count": null,
   "id": "a1de69f6",
   "metadata": {},
   "outputs": [
    {
     "name": "stdout",
     "output_type": "stream",
     "text": [
      "Neeraj\n"
     ]
    },
    {
     "data": {
      "text/plain": [
       "['Pankaj', 'Neeraj']"
      ]
     },
     "execution_count": 72,
     "metadata": {},
     "output_type": "execute_result"
    }
   ],
   "source": [
    "lst1 = [\"Pankaj\", \"Neeraj\"]; lst2 = [\"PadhloBeta\",\"GateNikalanaHaiTo\"] \n",
    "print(min(max(lst1, lst2)))# NOTE: max() and min() will compare the lists lexicographically\n",
    "(max(lst1, lst2))"
   ]
  },
  {
   "cell_type": "code",
   "execution_count": 73,
   "id": "3fa5da14",
   "metadata": {},
   "outputs": [
    {
     "name": "stdout",
     "output_type": "stream",
     "text": [
      "['Kamal', 'Neeraj', 'Pankaj']\n"
     ]
    }
   ],
   "source": [
    "def iChooseYou(pc):\n",
    "    pc.append(\"Kamal\")\n",
    "    pc.sort()\n",
    "faculty = [\"Pankaj\", \"Neeraj\"]\n",
    "iChooseYou(faculty)\n",
    "print(faculty)"
   ]
  },
  {
   "cell_type": "code",
   "execution_count": 1,
   "id": "4976cb88",
   "metadata": {},
   "outputs": [
    {
     "name": "stdout",
     "output_type": "stream",
     "text": [
      "['ranilaxmibai', 'ranidurgavati', 'tarabai', 'raziasultan', 'padmavati', 'gauradevi']\n"
     ]
    }
   ],
   "source": [
    "queensLists = [[\"ranilaxmibai\"], [\"ranidurgavati\", \"tarabai\"],\n",
    "               [\"raziasultan\", \"padmavati\", \"gauradevi\"]]\n",
    "\n",
    "result = [homegirl for lst in queensLists for homegirl in lst]\n",
    "print(result)\n"
   ]
  },
  {
   "cell_type": "code",
   "execution_count": 2,
   "id": "16e90e81",
   "metadata": {},
   "outputs": [
    {
     "name": "stdout",
     "output_type": "stream",
     "text": [
      "[[1, 0, 1], [0, 2, 2], [0, 1, 0]]\n"
     ]
    }
   ],
   "source": [
    "inputNums = [13, 17, 25, 28, 10, 30, 21]\n",
    "myLst = [ [0, 0, 0], [0, 0, 0], [0, 0, 0] ]\n",
    "for num in inputNums:\n",
    "    result1 = num % 3\n",
    "    result2 = (num // 10) % 3\n",
    "    myLst[result1][result2] += 1\n",
    "print(myLst)"
   ]
  },
  {
   "cell_type": "code",
   "execution_count": 3,
   "id": "f441a244",
   "metadata": {},
   "outputs": [
    {
     "name": "stdout",
     "output_type": "stream",
     "text": [
      "HONK"
     ]
    }
   ],
   "source": [
    "gate = [[\"H\", \"X\", \"Z\", \"C\"], [\"A\", \"O\", \"T\", \"J\"], \\\n",
    "[\"K\", \"P\", \"N\", \"D\"], [\"L\", \"M\", \"U\", \"K\"]]\n",
    "for i in range(len(gate)):\n",
    "    for j in range(len(gate)):\n",
    "        if i == j:\n",
    "            print(gate[i][j], end = \"\")"
   ]
  },
  {
   "cell_type": "code",
   "execution_count": 4,
   "id": "9a992e94",
   "metadata": {},
   "outputs": [
    {
     "name": "stdout",
     "output_type": "stream",
     "text": [
      "s\n"
     ]
    }
   ],
   "source": [
    "faculty = [[\"pankaj\", \"neeraj\"], [1930, 4], [\"kamal\",\"shweta\", \"anjali\"]]\n",
    "print(faculty[-1][-2][0])"
   ]
  },
  {
   "cell_type": "code",
   "execution_count": 5,
   "id": "41c181b8",
   "metadata": {},
   "outputs": [
    {
     "name": "stdout",
     "output_type": "stream",
     "text": [
      "36\n"
     ]
    }
   ],
   "source": [
    "myNums = [[1, 2, 3, 4], [5, 6, 7, 8], [9, 10, 11, 12]]\n",
    "total = 0\n",
    "for i in range(len(myNums)):\n",
    "    for j in range(4):\n",
    "        if not j % 2:\n",
    "            total += myNums[i][j]\n",
    "print(total)"
   ]
  }
 ],
 "metadata": {
  "kernelspec": {
   "display_name": "Python 3",
   "language": "python",
   "name": "python3"
  },
  "language_info": {
   "codemirror_mode": {
    "name": "ipython",
    "version": 3
   },
   "file_extension": ".py",
   "mimetype": "text/x-python",
   "name": "python",
   "nbconvert_exporter": "python",
   "pygments_lexer": "ipython3",
   "version": "3.9.6"
  }
 },
 "nbformat": 4,
 "nbformat_minor": 5
}
